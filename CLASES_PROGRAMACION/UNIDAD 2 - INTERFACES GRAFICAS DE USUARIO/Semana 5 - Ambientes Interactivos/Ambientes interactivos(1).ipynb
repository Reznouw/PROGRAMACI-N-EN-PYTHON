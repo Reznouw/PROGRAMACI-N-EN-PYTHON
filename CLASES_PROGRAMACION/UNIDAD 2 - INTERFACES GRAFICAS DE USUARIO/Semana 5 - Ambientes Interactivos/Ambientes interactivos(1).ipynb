{
 "cells": [
  {
   "cell_type": "markdown",
   "metadata": {},
   "source": [
    "# Ambientes interactivos\n",
    "Vamos a integrar todas las herramientas que tenemos hasta ahora en un conjunto de aplicaciones utilizando las librerías de Python. La programación se pone interesante cuando el total vale más que la suma de sus partes.\n",
    "___"
   ]
  },
  {
   "cell_type": "markdown",
   "metadata": {},
   "source": [
    "## Canvas y gestion de eventos (bind)\n",
    "Un `canvas` es un widget que permite incluír gráficos en el GUI. Se pueden incluir figuras geométricas que se definen por código e inclusive incrustar una imágen."
   ]
  },
  {
   "cell_type": "code",
   "execution_count": 2,
   "metadata": {},
   "outputs": [],
   "source": [
    "import tkinter as tk\n",
    "import tkinter.ttk as ttk\n",
    "from random import randrange\n",
    "\n",
    "class App(tk.Tk):\n",
    "    def __init__(self):\n",
    "        super().__init__()\n",
    "        self.title(\"Tk Animation App\")\n",
    "        \n",
    "        self.WIDTH = 300\n",
    "        self.HEIGHT = 400\n",
    "        self.SIZE = 15\n",
    "  \n",
    "        self.x = randrange(1, self.WIDTH - self.SIZE - 1) \n",
    "        self.y = randrange(1, self.HEIGHT - self.SIZE - 1)\n",
    "        self.canvas = tk.Canvas(self, bg='white', \n",
    "                                width=self.WIDTH, height=self.HEIGHT)\n",
    "        self.canvas.pack()\n",
    "\n",
    "        self.ball = self.canvas.create_oval(self.x, self.y, \n",
    "                                            self.x + self.SIZE, self.y + self.SIZE, \n",
    "                                            fill='red')\n",
    "        self.canvas.bind(\"<Button-1>\", self.update_graph)\n",
    "\n",
    "        \n",
    "    def update_graph(self, event):\n",
    "        xmouse, ymouse = event.x, event.y\n",
    "        \n",
    "        if self.x < xmouse < (self.x + self.SIZE) and self.y < ymouse < (self.y + self.SIZE):\n",
    "            self.canvas.delete(self.ball)\n",
    "            self.x, self.y = randrange(0, self.WIDTH), randrange(0, self.HEIGHT)\n",
    "            self.ball = self.canvas.create_oval(self.x, self.y, \n",
    "                                                self.x + self.SIZE, self.y + self.SIZE, \n",
    "                                                fill='red')\n",
    "\n",
    "\n",
    "app = App().mainloop()"
   ]
  },
  {
   "cell_type": "markdown",
   "metadata": {},
   "source": [
    "## Lazo temporizado con `after`\n",
    "Muchos widgets tienen un método llamado `after` que mantiene un temporizador asociado a este. Cada vez que se llama al método, se establece un cronómetro y una vez vebcido el tiempo se invoca a otro método o función."
   ]
  },
  {
   "cell_type": "code",
   "execution_count": 5,
   "metadata": {},
   "outputs": [],
   "source": [
    "import tkinter as tk\n",
    "import tkinter.ttk as ttk\n",
    "from random import randrange, uniform\n",
    "\n",
    "class App(tk.Tk):\n",
    "    def __init__(self):\n",
    "        super().__init__()\n",
    "        self.title(\"Tk Animation App\")\n",
    "\n",
    "        self.WIDTH = 300\n",
    "        self.HEIGHT = 400\n",
    "        self.SIZE = 10\n",
    "        self.DELAY = 50    # 50ms\n",
    "        \n",
    "        self.x = randrange(1, self.WIDTH - self.SIZE - 1)\n",
    "        self.y = randrange(1, self.HEIGHT - self.SIZE - 1)\n",
    "        self.dx = uniform(-10, 10)\n",
    "        self.dy = uniform(-10, 10)\n",
    "        self.pause_animation = False\n",
    "        \n",
    "        self.canvas = tk.Canvas(self, bg='white', width=self.WIDTH, height=self.HEIGHT)\n",
    "        self.canvas.pack()\n",
    "        \n",
    "        self.ball = self.canvas.create_oval(self.x, self.y, \n",
    "                                            self.x + self.SIZE, self.y + self.SIZE, \n",
    "                                            fill='red')\n",
    "\n",
    "        self.canvas.bind(\"<Button-1>\", self.control_animation)\n",
    "        \n",
    "\n",
    "    def control_animation(self, handle):\n",
    "        self.pause_animation = not self.pause_animation  \n",
    "        \n",
    "        if self.pause_animation:\n",
    "            self.text_pause = self.canvas.create_text(self.WIDTH/2, self.HEIGHT/2,\n",
    "                                                      text=\"Animation Paused\", \n",
    "                                                      font='Arial 12 bold')\n",
    "        else:\n",
    "            self.canvas.delete(tk.ALL)\n",
    "        \n",
    "        \n",
    "    def animate_canvas(self):\n",
    "        if not self.pause_animation:\n",
    "            #self.canvas.delete(self.ball)\n",
    "            if self.x <= 0 or (self.x + self.SIZE) >= self.WIDTH:\n",
    "                self.dx = -self.dx\n",
    "                \n",
    "            if self.y <= 0 or (self.y+ self.SIZE) >= self.HEIGHT:\n",
    "                self.dy = -self.dy\n",
    "                \n",
    "            self.x += self.dx\n",
    "            self.y += self.dy\n",
    "            \n",
    "            self.canvas.move(self.ball, self.dx, self.dy)\n",
    "            #self.ball = self.canvas.create_oval(self.x, self.y, \n",
    "            #                                    self.x + self.SIZE, self.y + self.SIZE, \n",
    "            #                                    fill='red')\n",
    "            \n",
    "        self.canvas.after(self.DELAY, self.animate_canvas)    \n",
    "          \n",
    "\n",
    "app = App()\n",
    "app.animate_canvas()\n",
    "app.mainloop()"
   ]
  },
  {
   "cell_type": "markdown",
   "metadata": {},
   "source": [
    "## Tiempo real en tkinter\n",
    "Utilizando el método `after`, se pueden temporizar varios procesos de forma simultanea en el mismo GUI. Podemos utilizar la librería `psutil` que retorna información sobre el hardware del sistema y monitorearlo utilizando una aplicación gráfica."
   ]
  },
  {
   "cell_type": "code",
   "execution_count": null,
   "metadata": {},
   "outputs": [],
   "source": [
    "import psutil\n",
    "\n",
    "print(f\"Uso del CPU [%]: {psutil.cpu_percent()}\")\n",
    "print(f\"Velocidad del CPU [Mhz]: {psutil.cpu_freq().current:,}\")\n",
    "print(f\"Memoria instalada [Mb]: {psutil.virtual_memory().total / 1e6:,}\")\n",
    "print(f\"Battery [%]: {psutil.sensors_battery().percent}\")"
   ]
  },
  {
   "cell_type": "code",
   "execution_count": 7,
   "metadata": {},
   "outputs": [],
   "source": [
    "import psutil\n",
    "import tkinter as tk\n",
    "import tkinter.ttk as ttk\n",
    "\n",
    "class App(tk.Tk):\n",
    "    def __init__(self):\n",
    "        super().__init__()\n",
    "        self.title(\"CPU Data\")\n",
    "        self.resizable(0, 0)\n",
    "\n",
    "        self.var_usage_CPU = tk.DoubleVar()\n",
    "        self.var_battery_percent = tk.IntVar(value=50)\n",
    "\n",
    "        frm = tk.Frame(self)\n",
    "        frm.pack(padx=10, pady=10)\n",
    "        \n",
    "        self.lblCPU_Usage = tk.Label(frm, text=\"\", font=\"Arial 16 bold\")\n",
    "        self.lblBAT_Usage = tk.Label(frm, text=\"\", font=\"Arial 16 bold\")\n",
    "\n",
    "        self.lblCPU_Usage.grid(row=0, column=0, padx=5, pady=5, sticky=tk.W)\n",
    "        self.lblBAT_Usage.grid(row=1, column=0, padx=5, pady=5, sticky=tk.W)\n",
    "\n",
    "        self.read_psutil_data()\n",
    "\n",
    "\n",
    "    def read_psutil_data(self):\n",
    "        self.var_usage_CPU.set(psutil.cpu_percent())\n",
    "        self.var_battery_percent.set(psutil.sensors_battery().percent)\n",
    "        self.lblCPU_Usage.config(text=f\"CPU Usage: {self.var_usage_CPU.get()}%\")\n",
    "        self.lblBAT_Usage.config(text=f\"Battery Available: {self.var_battery_percent.get()}%\")\n",
    "        \n",
    "        if psutil.sensors_battery().power_plugged:\n",
    "            self.lblBAT_Usage.config(fg='black');\n",
    "        else:\n",
    "            self.lblBAT_Usage.config(fg='red');\n",
    "        \n",
    "        self.after(1000, self.read_psutil_data)\n",
    "\n",
    "\n",
    "app = App().mainloop()"
   ]
  },
  {
   "cell_type": "markdown",
   "metadata": {},
   "source": [
    "## matplotlib en tkinter\n",
    "Se puede insertar un gráfico de matplotlib en una interface tkinter, utilizando el objeto `FigureCanvasTkAgg`. Esto permite crear una figura que recibirá el `Figure` de matplotlib y lo convertirá en un widget tipo `Canvas`.\n",
    "\n",
    "Posteriormente, este canvas de puede actualizar con el método `draw`. Los cambios en la gráfica se hacen directamente sobre la información de los arreglos a plotear."
   ]
  },
  {
   "cell_type": "code",
   "execution_count": 33,
   "metadata": {},
   "outputs": [
    {
     "data": {
      "image/png": "[encoded data removed]",
      "text/plain": [
       "<Figure size 432x288 with 1 Axes>"
      ]
     },
     "metadata": {},
     "output_type": "display_data"
    }
   ],
   "source": [
    "import tkinter.ttk as ttk\n",
    "import numpy as np\n",
    "import matplotlib.pyplot as plt\n",
    "from matplotlib.backends.backend_tkagg import FigureCanvasTkAgg\n",
    "\n",
    "class App(tk.Tk):\n",
    "    def __init__(self):\n",
    "        super().__init__()\n",
    "        self.title(\"Onda Senoidal\")\n",
    "        \n",
    "        frm = tk.Frame(self)\n",
    "        frm.pack(padx=10, pady=10)\n",
    "        \n",
    "        self.freq = tk.IntVar(value=1)\n",
    "        self.amp = tk.DoubleVar(value=6.0)\n",
    "        self.Y_LIMIT = 12\n",
    "        self.FREQ_MAX = 10\n",
    "        \n",
    "        frm1 = tk.Frame(frm)\n",
    "        frm2 = tk.Frame(frm)\n",
    "        frm1.pack(padx=10, pady=10)\n",
    "        frm2.pack(padx=10, pady=10)\n",
    "        \n",
    "        frmAmp = tk.LabelFrame(frm2, text=\"Amplitud\")\n",
    "        frmFreq = tk.LabelFrame(frm2, text=\"Frecuencia\")\n",
    "        frmAmp.pack(padx=10, pady=10, side=tk.LEFT)\n",
    "        frmFreq.pack(padx=10, pady=10, side=tk.LEFT)\n",
    "        \n",
    "        self.fig, self.ax = plt.subplots(figsize=(6, 4), facecolor=\"#F0F0ED\")\n",
    "        self.t = np.linspace(0, 1, 50 * self.FREQ_MAX)\n",
    "        self.line, = self.ax.plot(self.t, self.amp.get() * np.sin(2 * np.pi * self.freq.get() * self.t))\n",
    "        self.ax.set_title(f\"Onda Senoidal @ {self.freq.get():.1f}Hz\")\n",
    "        self.ax.set_xlabel(\"Tiempo [seg]\")\n",
    "        self.ax.set_ylabel(\"Voltaje\")\n",
    "        self.ax.set_ylim(-self.Y_LIMIT, self.Y_LIMIT)\n",
    "        self.ax.grid(linestyle='dashed')\n",
    "        \n",
    "        # -------------------- frm1 ------------------------------\n",
    "        self.graph = FigureCanvasTkAgg(self.fig, master=frm1)\n",
    "        self.graph.get_tk_widget().pack(expand=True, fill=tk.X)\n",
    "        \n",
    "        # -------------------- frm2 ------------------------------\n",
    "        self.AmpDown = tk.Button(frmAmp, text=\"<\", font=\"Arial 12 bold\", width=6, command=self.amp_down)\n",
    "        self.AmpUp = tk.Button(frmAmp, text=\">\", font=\"Arial 12 bold\", width=6, command=self.amp_up)\n",
    "        self.FreqDown = tk.Button(frmFreq, text=\"<\", font=\"Arial 12 bold\", width=6, command=self.freq_down)\n",
    "        self.FreqUp = tk.Button(frmFreq, text=\">\", font=\"Arial 12 bold\", width=6, command=self.freq_up)\n",
    "        \n",
    "        self.AmpDown.grid(row=0, column=0, padx=5, pady=5)\n",
    "        self.AmpUp.grid(row=0, column=1, padx=5, pady=5)\n",
    "        self.FreqDown.grid(row=0, column=0, padx=5, pady=5)\n",
    "        self.FreqUp.grid(row=0, column=1, padx=5, pady=5)\n",
    "        \n",
    "        \n",
    "    def amp_down(self):\n",
    "        if self.amp.get() > 0:\n",
    "            self.amp.set(self.amp.get() - 0.1)\n",
    "        self.update_graph()\n",
    "    \n",
    "    def amp_up(self):\n",
    "        if self.amp.get() < self.Y_LIMIT:\n",
    "            self.amp.set(self.amp.get() + 0.1)\n",
    "        self.update_graph()\n",
    "    \n",
    "    def freq_down(self):\n",
    "        if self.freq.get() > 1:\n",
    "            self.freq.set(self.freq.get() - 1)\n",
    "        self.update_graph()\n",
    "    \n",
    "    def freq_up(self):\n",
    "        if self.freq.get() < self.FREQ_MAX:\n",
    "            self.freq.set(self.freq.get() + 1)\n",
    "        self.update_graph()\n",
    "    \n",
    "    def update_graph(self):\n",
    "        self.line.set_ydata(self.amp.get() * np.sin(2 * np.pi * self.freq.get() * self.t))\n",
    "        self.ax.set_title(f\"Onda Senoidal @ {self.freq.get():.1f}Hz\")\n",
    "        self.graph.draw()\n",
    "        \n",
    "        \n",
    "app = App().mainloop()"
   ]
  },
  {
   "cell_type": "markdown",
   "metadata": {},
   "source": [
    "## ipywidgets: interactividad en un Jupyter Notebook\n",
    "Los Jupyter Notebooks también soportan widgets gráficos con la combinación de las librerías `ipywidgets` y `IPython.display`. `ipywidgets` contiene una colección de objetos gráficos contstruidos con JavaScript que se pueden ejecutar en el documento. `IPython.display` es una colección de *renders* que permiten mostrar información gráfica."
   ]
  },
  {
   "cell_type": "code",
   "execution_count": 34,
   "metadata": {},
   "outputs": [
    {
     "data": {
      "application/vnd.jupyter.widget-view+json": {
       "model_id": "a66d9020bbe04ceb98be3ff5b8a7e1aa",
       "version_major": 2,
       "version_minor": 0
      },
      "text/plain": [
       "IntSlider(value=10, min=10, step=5)"
      ]
     },
     "metadata": {},
     "output_type": "display_data"
    }
   ],
   "source": [
    "from IPython.display import display\n",
    "from ipywidgets import IntSlider\n",
    "\n",
    "slider = IntSlider(min=10, max=100, step=5)\n",
    "display(slider)"
   ]
  },
  {
   "cell_type": "markdown",
   "metadata": {},
   "source": [
    "Los valores gestionados por estos widgets (`widget.value`) se pueden asociar como parametros de una función con `interact`:"
   ]
  },
  {
   "cell_type": "code",
   "execution_count": 35,
   "metadata": {},
   "outputs": [
    {
     "data": {
      "application/vnd.jupyter.widget-view+json": {
       "model_id": "316d41e2dd8c48d5b526c73bdaf58ba7",
       "version_major": 2,
       "version_minor": 0
      },
      "text/plain": [
       "interactive(children=(IntSlider(value=5, description='a', max=10, min=1), IntSlider(value=5, description='b', …"
      ]
     },
     "metadata": {},
     "output_type": "display_data"
    },
    {
     "data": {
      "text/plain": [
       "<function __main__.suma(a, b)>"
      ]
     },
     "metadata": {},
     "output_type": "display_data"
    }
   ],
   "source": [
    "from ipywidgets import interact\n",
    "\n",
    "def suma(a, b):\n",
    "    print(\"Suma:\", a + b)\n",
    "    \n",
    "gui = interact(suma, a=(1, 10), b=(1, 10))\n",
    "display(gui)"
   ]
  },
  {
   "cell_type": "markdown",
   "metadata": {},
   "source": [
    "Otra forma de hacer esto es utilizando `interact` como un decorador de la función:"
   ]
  },
  {
   "cell_type": "code",
   "execution_count": 36,
   "metadata": {},
   "outputs": [
    {
     "data": {
      "application/vnd.jupyter.widget-view+json": {
       "model_id": "45395069e9fb4dd5af74ee643f28e1ab",
       "version_major": 2,
       "version_minor": 0
      },
      "text/plain": [
       "interactive(children=(IntSlider(value=5, description='a', max=10, min=1), IntSlider(value=5, description='b', …"
      ]
     },
     "metadata": {},
     "output_type": "display_data"
    }
   ],
   "source": [
    "@interact(a=(1, 10), b=(1, 10))\n",
    "def suma(a, b):\n",
    "    print(\"Suma:\", a + b)"
   ]
  },
  {
   "cell_type": "markdown",
   "metadata": {},
   "source": [
    "### Algunos widgets disponibles\n",
    "Lista completa: (https://ipywidgets.readthedocs.io/en/latest/examples/Widget%20List.html)"
   ]
  },
  {
   "cell_type": "code",
   "execution_count": 38,
   "metadata": {},
   "outputs": [
    {
     "data": {
      "application/vnd.jupyter.widget-view+json": {
       "model_id": "608dfeab2c154fe5a4d48601e8260a37",
       "version_major": 2,
       "version_minor": 0
      },
      "text/plain": [
       "VBox(children=(IntSlider(value=0, description='IntSlider'), FloatSlider(value=0.0, description='FloatSlider'),…"
      ]
     },
     "metadata": {},
     "output_type": "display_data"
    }
   ],
   "source": [
    "from ipywidgets import *\n",
    "\n",
    "w1 = IntSlider(description=\"IntSlider\")\n",
    "w2 = FloatSlider(description=\"FloatSlider\")\n",
    "w3 = BoundedIntText(description=\"BoundedIntText\")\n",
    "w4 = BoundedFloatText(description=\"BoundedFloatText\", step=0.5)\n",
    "w5 = Combobox(description=\"Combobox\", options=['1', '2', '3'])\n",
    "w6 = Dropdown(description=\"Dropdown\", options=[1, 2, 3])\n",
    "w7 = RadioButtons(description=\"RadioButtons\", options=[1, 2, 3])\n",
    "w8 = Checkbox(description=\"Checkbox\")\n",
    "w9 = Text(description=\"Text\")\n",
    "w10 = Button(description=\"Button\")\n",
    "\n",
    "gui = VBox([w1, w2, w3, w4, w5, w6, w7, w8, w9, w10])\n",
    "\n",
    "display(gui)"
   ]
  },
  {
   "cell_type": "markdown",
   "metadata": {},
   "source": [
    "## Eventos\n",
    "Los widgets manejan eventos definidos como métodos del objeto widget. Por ejemplo, en el caso del `Button`, el evento a consutar en `on_click`:"
   ]
  },
  {
   "cell_type": "code",
   "execution_count": null,
   "metadata": {},
   "outputs": [],
   "source": [
    "txt = Text(description=\"Mensaje\")\n",
    "but = Button(description=\"Click\")\n",
    "\n",
    "layout = HBox([txt, but])\n",
    "display(layout)\n",
    "\n",
    "def print_message(event):\n",
    "    print(txt.value)\n",
    "\n",
    "but.on_click(print_message)"
   ]
  },
  {
   "cell_type": "markdown",
   "metadata": {},
   "source": [
    "Otros widgets sportan el método `observe` que les permite ser observados constantemente y llama a un evento en cuando haya sucedido un cambio con el widget."
   ]
  },
  {
   "cell_type": "code",
   "execution_count": null,
   "metadata": {},
   "outputs": [],
   "source": [
    "txt = Text(description=\"Numero\")\n",
    "sld = IntSlider(description=\"Seleccione\")\n",
    "\n",
    "layout = HBox([txt, sld])\n",
    "display(layout)\n",
    "\n",
    "def print_message(event):\n",
    "    txt.value = str(sld.value)\n",
    "\n",
    "sld.observe(print_message)"
   ]
  },
  {
   "cell_type": "markdown",
   "metadata": {},
   "source": [
    "Sin embargo, la mejora manera de tomar control sobre estas acciones es a través de `interactive`, que retorna un VBox que se puede instanciar como un objeto para luego mostrarlo con `display`:"
   ]
  },
  {
   "cell_type": "code",
   "execution_count": null,
   "metadata": {},
   "outputs": [],
   "source": [
    "import numpy as np\n",
    "import matplotlib.pyplot as plt\n",
    "\n",
    "def plot_circle(r, color, grid, line_style):\n",
    "    x = r * np.cos(np.linspace(0, 2*np.pi, 100))\n",
    "    y = r * np.sin(np.linspace(0, 2*np.pi, 100))\n",
    "    plt.plot(x, y, color=color, linestyle=line_style)\n",
    "    plt.axis('square')\n",
    "    plt.grid(grid)\n",
    "    plt.xlim(-12, 12)\n",
    "    plt.ylim(-12, 12)\n",
    "    plt.show()\n",
    "    \n",
    "w1 = FloatSlider(description=\"Radio:\", min=1, max=12)  \n",
    "w2 = Dropdown(description=\"Color\", options={'Azul': 'blue', 'Rojo': 'red', 'Verde': 'green'})\n",
    "w3 = Checkbox(description=\"Grilla?\")\n",
    "w4 = RadioButtons(description=\"Linea\", options=[\"-\", \"--\", \"-.\", \":\"])\n",
    "\n",
    "layout = interactive(plot_circle, r=w1, color=w2, grid=w3, line_style=w4, continuous_update=False)\n",
    "display(layout)"
   ]
  },
  {
   "cell_type": "markdown",
   "metadata": {},
   "source": [
    "### Control del GUI: interactive_output\n",
    "Si se quiere organizar los diferentes widgets en el documento, hay que agruparlos en `Hbox` y `VBox`. Sin embargo, es necesario asociar los widgets a la función con `interactive`, que retorna un `VBox`, por lo que si se muestran ambos con `display` se verán ambos diseños.\n",
    "\n",
    "La función `interactive_output` permite interactuar con una función y mantener el control del diseño, ya que esta no genera un GUI (VBox), sino solo el objeto para que pueda ser incluida en un diseño (layout)."
   ]
  },
  {
   "cell_type": "code",
   "execution_count": 39,
   "metadata": {},
   "outputs": [
    {
     "data": {
      "application/vnd.jupyter.widget-view+json": {
       "model_id": "0a43caa4874e4f5b9f15151e43bbe4ca",
       "version_major": 2,
       "version_minor": 0
      },
      "text/plain": [
       "HBox(children=(VBox(children=(HBox(children=(FloatSlider(value=1.0, description='Radio:', max=12.0, min=1.0), …"
      ]
     },
     "metadata": {},
     "output_type": "display_data"
    }
   ],
   "source": [
    "import numpy as np\n",
    "import matplotlib.pyplot as plt\n",
    "\n",
    "def plot_circle(r, color, grid, line_style):\n",
    "    x = r * np.cos(np.linspace(0, 2*np.pi, 100))\n",
    "    y = r * np.sin(np.linspace(0, 2*np.pi, 100))\n",
    "    plt.plot(x, y, color=color, linestyle=line_style)\n",
    "    plt.axis('square')\n",
    "    plt.grid(grid)\n",
    "    plt.xlim(-12, 12)\n",
    "    plt.ylim(-12, 12)\n",
    "    plt.show()\n",
    "    \n",
    "    \n",
    "w1 = FloatSlider(description=\"Radio:\", min=1, max=12)  \n",
    "w2 = Dropdown(description=\"Color\", options={'Azul': 'blue', 'Rojo': 'red', 'Verde': 'green'})\n",
    "w3 = Checkbox(description=\"Grilla?\")\n",
    "w4 = RadioButtons(description=\"Linea\", options=[\"-\", \"--\", \"-.\", \":\"])\n",
    "\n",
    "out = interactive_output(plot_circle, {'r':w1, 'color':w2, 'grid':w3, 'line_style':w4})\n",
    "\n",
    "box1 = HBox([w1, w2]) \n",
    "box2 = HBox([w3, w4])\n",
    "gui = VBox([box1, box2])\n",
    "layout = HBox([gui, out])\n",
    "display(layout)"
   ]
  },
  {
   "cell_type": "markdown",
   "metadata": {},
   "source": [
    "## Y Voila!\n",
    "En el 2019 [se publico en GitHub el código del proyecto Voila](https://github.com/voila-dashboards/voila), que promete convertír un documento Jupyter en una aplicación web interactiva. Esto permite tener un Jupyter Notebook como un dashboard web con los resultados de las celdas, pero lo interesante sucede cuando el documento contiene widgets interactivos, pues estos son generados como parte del código.\n",
    "\n",
    "Primero, instale Voila:\n",
    "\n",
    "    conda install -c conda-forge voila\n",
    "    \n",
    "Luego, reinicie el ambiente Jupyter y podrá ver un nuevo icono en la bara de herramientas, en la sección central. Confeccione un documento Jupyter que contenga solamente una celda (por ejemplo, copie toda la celda anterior en un solo documento) y luego haga click en el nuevo boton.\n",
    "\n",
    "Y Voila... ¡un dashboard web sin haber escrito una sola letra de JavaScript! ¿Se imagina lo que puede construír?"
   ]
  }
 ],
 "metadata": {
  "kernelspec": {
   "display_name": "Python 3 (ipykernel)",
   "language": "python",
   "name": "python3"
  },
  "language_info": {
   "codemirror_mode": {
    "name": "ipython",
    "version": 3
   },
   "file_extension": ".py",
   "mimetype": "text/x-python",
   "name": "python",
   "nbconvert_exporter": "python",
   "pygments_lexer": "ipython3",
   "version": "3.9.7"
  }
 },
 "nbformat": 4,
 "nbformat_minor": 4
}

{
 "cells": [
  {
   "cell_type": "markdown",
   "metadata": {},
   "source": [
    "# Archivos e información de la web con `requests`\n",
    "\n",
    "<img src=\"https://vivaldi.com/wp-content/uploads/Quickly-search-for-information-online.png\" alt=\"Hello Python!\" style=\"width:600px;height:300px;\">\n",
    "\n",
    "Fuente: [Vivaldi browser](https://vivaldi.com/wp-content/uploads/Quickly-search-for-information-online.png)\n",
    "\n",
    "El insumo de todo sistema informático son los datos. Transformar los datos (es decir, indicadores cuantitativos o cualitativos) en información (es decir, elementos para la toma de decisiones) es el resultado de procesar los datos or un algoritmo. El corazon de este curso es el análisis de los datos y debemos partir de las fuentes; en este caso, los archivos con información útil y donde encontrarlos: la Web.\n",
    "\n",
    "<div style=\"text-align: right\"> Luis A. Muñoz (2022) </div>\n",
    "\n",
    "---"
   ]
  },
  {
   "cell_type": "markdown",
   "metadata": {},
   "source": [
    "## Tipos de archivos\n",
    "Se distinguen dos tipos de archivos:\n",
    "    \n",
    "* Archivos de texto\n",
    "* Archivos binarios\n",
    "\n",
    "Los primeros son una colección de datos con un formato específico: caracteres codificados según un estándar (actualmente, UTF-8 para soportar todos los caracteres internacionales). Los últmos son datos binarios con un formato propietario. Por ejemplo, el código Python es un archivo de texto, mientras que un documento en Word es un archivo binario.\n",
    "\n",
    "En los usuarios de Windows suele haber mucha confusión al momento de entender que un archivo de texto es un archivo con información en forma de caracteres de texto y nada más, sin ninguna relación con la extensión que tenga el archivo. Un archivo que tenga la extensión `.txt` no es un archivo de texto: es un archivo que Windows intentará abrir con el Bloc de Notas y si es un archivo de texto se abrirá sin inconvenientes.\n",
    "\n",
    "En Linux, los archivos no tienen extensiones y es más fácil evitar estas confusiones.\n",
    "\n",
    "Por lo tanto, la diferencia entre ambos tipos de archivos es una cuestión de formato. En Python, esto se especifica según el modo de lectura:\n",
    "\n",
    "* Archivos de texto: mode='r'    (lectura)\n",
    "* Archivos de datos: mode='rb'   (lectura binaria)"
   ]
  },
  {
   "cell_type": "markdown",
   "metadata": {},
   "source": [
    "## Filesystem\n",
    "El *filesystem* es la organización de los datos en el medio de almacenamiento por parte del sistema operativo. Para trabajar con soltura con archivos hay manejarse tambien así con el *filesystem*. En Windows, Linux y OS X, los archivos se organizan en un árbol de directorios que cuelgan de un nodo principal o archivo *root* (*C:\\* en Windows en caso del disco con esta etiqueta, o */.* en el caso de OSX o Linux). Todos los archivos estan ubicados en un sitio especifico dentro del *filesystem* y la forma de especificar esta dirección es con una ruta o *path*.\n",
    "\n",
    "Por ejemplo, el archivo *proyecto1.py* puede estar alojado en la ruta *C:\\Usuarios\\elvio\\Documentos*\n",
    "\n",
    "![](https://www.december.com/unix/tutor/tree1.gif)\n",
    "\n",
    "NOTA: Los ejemplos de este documento estan hechos para ser ejecutdos en un equipo con Windows. Si tiene un sistema operativo diferente, reemplace \"C:\\\" por \"/\""
   ]
  },
  {
   "cell_type": "markdown",
   "metadata": {},
   "source": [
    "## La librería `os`\n",
    "Una complicación con los sistemas operativos es que para especificar el path Windows utiliza \"\\\\\" y Linux y OS X utilizan \"/\". Afortunadamente, la librería `os` viene a solucionarnos este y otros problemas:"
   ]
  },
  {
   "cell_type": "code",
   "execution_count": 1,
   "metadata": {},
   "outputs": [
    {
     "data": {
      "text/plain": [
       "'Usuarios\\\\elvio\\\\Documentos'"
      ]
     },
     "execution_count": 1,
     "metadata": {},
     "output_type": "execute_result"
    }
   ],
   "source": [
    "import os\n",
    "\n",
    "os.path.join(\"Usuarios\", \"elvio\", \"Documentos\")"
   ]
  },
  {
   "cell_type": "markdown",
   "metadata": {},
   "source": [
    "En diferentes SO el resultado será compatible con el sistema (note que Windows utiliza \"\\\\\\\\\" para especificar que el caracter \"\\\\\" no es parte de un caracter de escape como \"\\n\"). Esto resulta util para crear rutas sobre los archivos en los que se quiere trabajar:"
   ]
  },
  {
   "cell_type": "code",
   "execution_count": 75,
   "metadata": {},
   "outputs": [
    {
     "name": "stdout",
     "output_type": "stream",
     "text": [
      "C:\\Users\\elvio\\Documents\\proyecto1.py\n",
      "C:\\Users\\elvio\\Documents\\proyecto2.py\n",
      "C:\\Users\\elvio\\Documents\\proyecto3.py\n"
     ]
    }
   ],
   "source": [
    "files = ['proyecto1.py', 'proyecto2.py', 'proyecto3.py']\n",
    "\n",
    "for filename in files:\n",
    "    print(os.path.join(\"C:\\\\Users\\\\elvio\\\\Documents\", filename))"
   ]
  },
  {
   "cell_type": "markdown",
   "metadata": {},
   "source": [
    "Otra información útil es saber en que parte del filesystem nos encontramos. Esto es, cual es el directorio actual de trabajo (o *current working directory*) con `getcwd`:"
   ]
  },
  {
   "cell_type": "code",
   "execution_count": 76,
   "metadata": {},
   "outputs": [
    {
     "name": "stdout",
     "output_type": "stream",
     "text": [
      "C:\\test\n"
     ]
    }
   ],
   "source": [
    "ruta_home = os.getcwd()\n",
    "print(ruta_home)"
   ]
  },
  {
   "cell_type": "markdown",
   "metadata": {},
   "source": [
    "Podemos movernos a otra ubicación en el filesystem con `chdir`:"
   ]
  },
  {
   "cell_type": "code",
   "execution_count": 18,
   "metadata": {},
   "outputs": [
    {
     "name": "stdout",
     "output_type": "stream",
     "text": [
      "C:\\Windows\\System32\n"
     ]
    }
   ],
   "source": [
    "os.chdir(\"C:\\\\Windows\\\\System32\")\n",
    "print(os.getcwd())"
   ]
  },
  {
   "cell_type": "markdown",
   "metadata": {},
   "source": [
    "Existen dos formas de especificar una ruta: *ruta relativa* y *ruta absoluta*. La primera especifica la ubicación de un archivo respecto a la ubicación actual, mientras que la última especifica la ubicación de un archivo respecto del directorio *root*.\n",
    "\n",
    "* Ruta relativa: *.\\\\proyecto1.py*\n",
    "* Ruta absoluta: *C:\\\\Usuarios\\\\elvio\\\\Documentos\\\\proyecto1.py\"*\n",
    "\n",
    "Por otro lado, tambien se tienen los archivos \".\" y \"..\" en un directorio. Estas son etiquetas del directorio actual y del directorio padre. Por ejemplo:"
   ]
  },
  {
   "cell_type": "code",
   "execution_count": 8,
   "metadata": {},
   "outputs": [
    {
     "name": "stdout",
     "output_type": "stream",
     "text": [
      "C:\\Windows\\System32\n"
     ]
    }
   ],
   "source": [
    "os.chdir(\".\")\n",
    "print(os.getcwd())"
   ]
  },
  {
   "cell_type": "code",
   "execution_count": 9,
   "metadata": {},
   "outputs": [
    {
     "name": "stdout",
     "output_type": "stream",
     "text": [
      "C:\\Windows\n"
     ]
    }
   ],
   "source": [
    "os.chdir(\"..\")\n",
    "print(os.getcwd())"
   ]
  },
  {
   "cell_type": "markdown",
   "metadata": {},
   "source": [
    "### Creando directorios\n",
    "Vamos a alejarnos de todo lo que diga \"Windows\" si no queremos borrar nada... vamos a crear un directorio de prueba en C: con `os.makedirs`. Este método puede crear todos los directorios de una ruta específica. Vamos a utilizar `os.path.exists` para validar si el directorio existe o no antes de crear uno nuevo"
   ]
  },
  {
   "cell_type": "code",
   "execution_count": 3,
   "metadata": {},
   "outputs": [],
   "source": [
    "for i in range(12):\n",
    "    if not os.path.exists(f\"C:\\\\test\\\\test{i+1}\"): \n",
    "        os.makedirs(f\"C:\\\\test\\\\test{i+1}\")"
   ]
  },
  {
   "cell_type": "markdown",
   "metadata": {},
   "source": [
    "Ubiquémonos en el directorio `test`"
   ]
  },
  {
   "cell_type": "code",
   "execution_count": 4,
   "metadata": {},
   "outputs": [
    {
     "name": "stdout",
     "output_type": "stream",
     "text": [
      "C:\\test\n"
     ]
    }
   ],
   "source": [
    "os.chdir(\"C:\\\\test\")\n",
    "print(os.getcwd())"
   ]
  },
  {
   "cell_type": "markdown",
   "metadata": {},
   "source": [
    "### Inspeccionando el filesystem\n",
    "Veamos el contenido del directorio \"C:\\\\test\":"
   ]
  },
  {
   "cell_type": "code",
   "execution_count": 18,
   "metadata": {},
   "outputs": [
    {
     "name": "stdout",
     "output_type": "stream",
     "text": [
      "['test1', 'test10', 'test11', 'test12', 'test2', 'test3', 'test4', 'test5', 'test6', 'test7', 'test8', 'test9']\n"
     ]
    }
   ],
   "source": [
    "print(os.listdir(\".\"))"
   ]
  },
  {
   "cell_type": "markdown",
   "metadata": {},
   "source": [
    "Podemos discernir entre un archivos y un directorio, así como consultar por algunos atributos. Por ejemplo:\n",
    "\n",
    "    os.path.getatime(path)   La última vez que se accedio a una ruta (UNIX time)\n",
    "    os.path.getmtime(path)   La última vez que se modifico una rura (UNIX time)\n",
    "    os.path.getsize(path)    Retorna el tamaño del recurso en bytes\n",
    "    os.path.basename(path)   Retorna el nombre del archivo o directorio de una ruta"
   ]
  },
  {
   "cell_type": "code",
   "execution_count": 68,
   "metadata": {},
   "outputs": [
    {
     "name": "stdout",
     "output_type": "stream",
     "text": [
      "f    08/02/2022   09:57              125 bytes   readme.txt\n",
      "d    08/02/2022   09:07                0 bytes   test1\n",
      "d    08/02/2022   09:07                0 bytes   test10\n",
      "d    08/02/2022   09:07                0 bytes   test11\n",
      "d    08/02/2022   09:07                0 bytes   test12\n",
      "d    08/02/2022   09:07                0 bytes   test2\n",
      "d    08/02/2022   09:07                0 bytes   test3\n",
      "d    08/02/2022   09:07                0 bytes   test4\n",
      "d    08/02/2022   09:07                0 bytes   test5\n",
      "d    08/02/2022   09:07                0 bytes   test6\n",
      "d    08/02/2022   09:07                0 bytes   test7\n",
      "d    08/02/2022   09:07                0 bytes   test8\n",
      "d    08/02/2022   09:07                0 bytes   test9\n"
     ]
    }
   ],
   "source": [
    "from datetime import datetime\n",
    "\n",
    "for dir_file in os.listdir(\".\"):\n",
    "    last_date = datetime.fromtimestamp(os.path.getmtime(dir_file)) \n",
    "    if os.path.isdir(dir_file):\n",
    "        print(\"d    \", end='')\n",
    "    elif os.path.isfile(dir_file):\n",
    "        print(\"f    \", end='')\n",
    "    else:\n",
    "        print(\"     \", end='')\n",
    "    \n",
    "    print(f\"{last_date:%d/%m/%Y   %H:%M} {os.path.getsize(dir_file):16} bytes   {os.path.basename(dir_file)}\")\n",
    "    "
   ]
  },
  {
   "cell_type": "markdown",
   "metadata": {},
   "source": [
    "Otra forma de inspeccionar el filesystem es utilizando el método `os.walk()` que permite recorrer la estructura de arbol de una ruta a partir de un punto de inicio. Esto retorna un generador que puede ser iterado:"
   ]
  },
  {
   "cell_type": "code",
   "execution_count": 44,
   "metadata": {},
   "outputs": [
    {
     "data": {
      "text/plain": [
       "<generator object _walk at 0x000001893DF39430>"
      ]
     },
     "execution_count": 44,
     "metadata": {},
     "output_type": "execute_result"
    }
   ],
   "source": [
    "os.walk(\".\")"
   ]
  },
  {
   "cell_type": "code",
   "execution_count": 5,
   "metadata": {
    "scrolled": true
   },
   "outputs": [
    {
     "name": "stdout",
     "output_type": "stream",
     "text": [
      "C:\\Users\\Asus\\OneDrive\\Documentos\\Fritzing\n",
      "C:\\Users\\Asus\\OneDrive\\Documentos\\Fritzing\\bins\n",
      "C:\\Users\\Asus\\OneDrive\\Documentos\\Fritzing\\parts\n",
      "C:\\Users\\Asus\\OneDrive\\Documentos\\Fritzing\\parts\\contrib\n",
      "C:\\Users\\Asus\\OneDrive\\Documentos\\Fritzing\\parts\\svg\n",
      "C:\\Users\\Asus\\OneDrive\\Documentos\\Fritzing\\parts\\svg\\contrib\n",
      "C:\\Users\\Asus\\OneDrive\\Documentos\\Fritzing\\parts\\svg\\contrib\\breadboard\n",
      "C:\\Users\\Asus\\OneDrive\\Documentos\\Fritzing\\parts\\svg\\contrib\\icon\n",
      "C:\\Users\\Asus\\OneDrive\\Documentos\\Fritzing\\parts\\svg\\contrib\\pcb\n",
      "C:\\Users\\Asus\\OneDrive\\Documentos\\Fritzing\\parts\\svg\\contrib\\schematic\n",
      "C:\\Users\\Asus\\OneDrive\\Documentos\\Fritzing\\parts\\svg\\user\n",
      "C:\\Users\\Asus\\OneDrive\\Documentos\\Fritzing\\parts\\svg\\user\\breadboard\n",
      "C:\\Users\\Asus\\OneDrive\\Documentos\\Fritzing\\parts\\svg\\user\\icon\n",
      "C:\\Users\\Asus\\OneDrive\\Documentos\\Fritzing\\parts\\svg\\user\\pcb\n",
      "C:\\Users\\Asus\\OneDrive\\Documentos\\Fritzing\\parts\\svg\\user\\schematic\n",
      "C:\\Users\\Asus\\OneDrive\\Documentos\\Fritzing\\parts\\user\n"
     ]
    }
   ],
   "source": [
    "STARTPATH = \"C:\\\\Users\\\\Asus\\\\OneDrive\\\\Documentos\\\\Fritzing\"\n",
    "for root, dirs, files in os.walk(STARTPATH):\n",
    "    print(root)"
   ]
  },
  {
   "cell_type": "code",
   "execution_count": 6,
   "metadata": {},
   "outputs": [
    {
     "name": "stdout",
     "output_type": "stream",
     "text": [
      " + Fritzing\n",
      "     - Nano_Joystick.fzz\n",
      "     - Pico_v1.fzz\n",
      "     - Pico_v2.fzz\n",
      "     - Pico_v3.fzz\n",
      "     - Pico_v4.fzz\n",
      "     - Pico_v5.fzz\n",
      "     - Pico_v6.fzz\n",
      "     - Pico_v7.fzz\n",
      "     + bins\n",
      "         - my_parts.fzb\n",
      "         - search.fzb\n",
      "     + parts\n",
      "         + contrib\n",
      "         + svg\n",
      "             + contrib\n",
      "                 + breadboard\n",
      "                 + icon\n",
      "                 + pcb\n",
      "                 + schematic\n",
      "             + user\n",
      "                 + breadboard\n",
      "                     - adafruit_7eab5a19a8bd1858b2030f275587a7ae_2_breadboard.svg\n",
      "                     - OLED-128x64-I2C-Monochrome-Display-GND-VDD_1_breadboard.svg\n",
      "                     - rpi_pico-tht_1_breadboard.svg\n",
      "                 + icon\n",
      "                     - adafruit_7eab5a19a8bd1858b2030f275587a7ae_2_icon.svg\n",
      "                 + pcb\n",
      "                     - adafruit_7eab5a19a8bd1858b2030f275587a7ae_2_pcb.svg\n",
      "                     - OLED-128x64-I2C-Monochrome-Display-GND-VDD_1_pcb.svg\n",
      "                     - rpi_pico-tht_1_pcb.svg\n",
      "                 + schematic\n",
      "                     - adafruit_7eab5a19a8bd1858b2030f275587a7ae_2_schematic.svg\n",
      "                     - OLED-128x64-I2C-Monochrome-Display-GND-VDD_1_schematic.svg\n",
      "                     - rpi_pico-tht_1_schematic.svg\n",
      "         + user\n",
      "             - adafruit_7eab5a19a8bd1858b2030f275587a7ae_1.fzp\n",
      "             - OLED-128x64-I2C-Monochrome-Display-GND-VDD_1.fzp\n",
      "             - rpi_pico-tht_1.fzp\n"
     ]
    }
   ],
   "source": [
    "STARTPATH = \"C:\\\\Users\\\\Asus\\\\OneDrive\\\\Documentos\\\\Fritzing\"\n",
    "for root, dirs, files in os.walk(STARTPATH):\n",
    "    level = root.replace(STARTPATH, '').count(os.sep)   # Cuenta cuantos \"/\" hay luego de la ruta inicial\n",
    "    indent = ' ' * 4 * level                            # para definir el nivel de indentacion\n",
    "    print(f\"{indent} + {os.path.basename(root)}\")       # e imprimir el nombre del directorio por niveles\n",
    "    \n",
    "    subindent = ' ' * 4 * (level + 1)                   # Lo mismo pero con archivos en la ruta\n",
    "    for file in files:\n",
    "        print(f\"{subindent} - {file}\")"
   ]
  },
  {
   "cell_type": "markdown",
   "metadata": {},
   "source": [
    "## Archivos de texto\n",
    "La forma más sencilla de crear un archivo de texto es abriendo un archivo con el Context Manager `with`:"
   ]
  },
  {
   "cell_type": "code",
   "execution_count": 64,
   "metadata": {},
   "outputs": [],
   "source": [
    "PATH = \"C:\\\\test\"\n",
    "os.chdir(PATH)\n",
    "\n",
    "with open(\"readme.txt\", mode='w', encoding='utf-8') as file:\n",
    "    file.write(\"INSTRUCCIONES\\n\")\n",
    "    file.write(\"=============\\n\\n\")\n",
    "    file.write(\"En los directorios se tienen diferentes test a ser distribuidos\\n\")\n",
    "    file.write(\"entre los diferentes alumnos\")"
   ]
  },
  {
   "cell_type": "markdown",
   "metadata": {},
   "source": [
    "Esto debe de generar un archivo de texto. Haciendo un listado del directorio se debe de observar el resultado:"
   ]
  },
  {
   "cell_type": "code",
   "execution_count": 67,
   "metadata": {},
   "outputs": [
    {
     "name": "stdout",
     "output_type": "stream",
     "text": [
      "f    08/02/2022   09:57              125 bytes   readme.txt\n",
      "d    08/02/2022   09:07                0 bytes   test1\n",
      "d    08/02/2022   09:07                0 bytes   test10\n",
      "d    08/02/2022   09:07                0 bytes   test11\n",
      "d    08/02/2022   09:07                0 bytes   test12\n",
      "d    08/02/2022   09:07                0 bytes   test2\n",
      "d    08/02/2022   09:07                0 bytes   test3\n",
      "d    08/02/2022   09:07                0 bytes   test4\n",
      "d    08/02/2022   09:07                0 bytes   test5\n",
      "d    08/02/2022   09:07                0 bytes   test6\n",
      "d    08/02/2022   09:07                0 bytes   test7\n",
      "d    08/02/2022   09:07                0 bytes   test8\n",
      "d    08/02/2022   09:07                0 bytes   test9\n"
     ]
    }
   ],
   "source": [
    "for dir_file in os.listdir(\".\"):\n",
    "    last_date = datetime.fromtimestamp(os.path.getmtime(dir_file)) \n",
    "    if os.path.isdir(dir_file):\n",
    "        print(\"d    \", end='')\n",
    "    elif os.path.isfile(dir_file):\n",
    "        print(\"f    \", end='')\n",
    "    else:\n",
    "        print(\"     \", end='')\n",
    "    \n",
    "    print(f\"{last_date:%d/%m/%Y   %H:%M} {os.path.getsize(dir_file):16} bytes   {os.path.basename(dir_file)}\")"
   ]
  },
  {
   "cell_type": "markdown",
   "metadata": {},
   "source": [
    "Para leer un archivo de texto, lo más conveniente es abrir un archivo en un bloque `with` y tratar el archivo como un iterable:"
   ]
  },
  {
   "cell_type": "code",
   "execution_count": 69,
   "metadata": {},
   "outputs": [
    {
     "name": "stdout",
     "output_type": "stream",
     "text": [
      "INSTRUCCIONES\n",
      "=============\n",
      "\n",
      "En los directorios se tienen diferentes test a ser distribuidos\n",
      "entre los diferentes alumnos\n"
     ]
    }
   ],
   "source": [
    "with open(\"readme.txt\", mode='r', encoding='utf-8') as file:\n",
    "    for line in file:\n",
    "        print(line.strip())    # No olvidar strip() para eliminar \"\\n\""
   ]
  },
  {
   "cell_type": "markdown",
   "metadata": {},
   "source": [
    "Los archivos de texto no resultan ser muy utiles porque no tienen un formato que pueda ser interpretado por una computadora. Es basicamente información legible para una persona, por lo que su uso será el de guardar información simple o tabulada. Sin embargo, si podemos hacer scripts que generen documentos a partir de información. Por ejemplo, generemos unos tests para unos doce alumnos que guardaremos en las diferentes carpetas que hemos creado de forma automática:"
   ]
  },
  {
   "cell_type": "code",
   "execution_count": 71,
   "metadata": {},
   "outputs": [],
   "source": [
    "# GENERADOR DE ARCHIVOS DE PREGUNTAS PARA UN CUESTIONARIO\n",
    "import random\n",
    "\n",
    "capitales = {\"Amazonas\": \"Chachapoyas\", \n",
    "             \"Áncash\": \"Huaraz\",\n",
    "             \"Apurímac\": \"Abancay\",\n",
    "             \"Arequipa\": \"Arequipa\",\n",
    "             \"Ayacucho\": \"Ayacucho\",\n",
    "             \"Cajamarca\": \"Cajamarca\",\n",
    "             \"Cusco\": \"Cusco\",\n",
    "             \"Huancavelica\": \"Huancavelica\",\n",
    "             \"Huánuco\": \"Huánuco\",\n",
    "             \"Ica\": \"Ica\",\n",
    "             \"Junín\": \"Huancayo\",\n",
    "             \"La Libertad\": \"Trujillo\",\n",
    "             \"Lambayeque\": \"Chiclayo\",\n",
    "             \"Lima\": \"Lima\",\n",
    "             \"Loreto\": \"Iquitos\",\n",
    "             \"Madre de Dios\": \"Puerto Maldonado\",\n",
    "             \"Moquegua\": \"Moquegua\",\n",
    "             \"Pasco\": \"Cerro de Pasco\",\n",
    "             \"Piura\": \"Piura\",\n",
    "             \"Puno\": \"Puno\",\n",
    "             \"San Martín\": \"Moyobamba\",\n",
    "             \"Tacna\": \"Tacna\",\n",
    "             \"Tumbes\": \"Tumbes\",\n",
    "             \"Ucayali\": \"Pucallpa\"}\n",
    "\n",
    "PATH = \"C:\\\\test\"\n",
    "\n",
    "# Se generan los 12 archivos de examenes\n",
    "for quizNum in range(1, 13):\n",
    "    # Se generan los nombres de los arvhivos de test en cada directorio y el de respuestas correctas\n",
    "    quizFileName = os.path.join(PATH, f\"test{quizNum}\", f\"text{quizNum}.txt\")\n",
    "    answerKeyFileName = os.path.join(PATH, f\"test{quizNum}\", f\"test{quizNum}_answers.txt\")\n",
    "    \n",
    "    # Se abren ambos archivos para su generación\n",
    "    with open(quizFileName, mode='w', encoding='utf-8') as quizFile:\n",
    "        with open(answerKeyFileName, mode='w', encoding='utf-8') as answerKeyFile:\n",
    "            # Se crea un encabezado en el archivo de test\n",
    "            quizFile.write(\"Nombre:\\n\\nFecha:\\n\\nPeriodo:\\n\\n\")\n",
    "            quizFile.write(' ' * 20 + f\"Capitales por departamento - Test {quizNum}\\n\\n\")\n",
    "\n",
    "            # Se obtiene una lista con las capitales por departamento\n",
    "            # y se desordena la muestra\n",
    "            departamentos = list(capitales.keys())\n",
    "            random.shuffle(departamentos)\n",
    "\n",
    "            # Para cada uno de los departamentos...\n",
    "            for idx, departamento in enumerate(departamentos, start=1):\n",
    "                \n",
    "                # Se guarda la respuesta correcta (capital del departamento)\n",
    "                correctAnswer = capitales.get(departamento)\n",
    "                # Se guarda una lista con todas las capitales y se elimina la correcta\n",
    "                wrongAnswers = list(capitales.values())\n",
    "                wrongAnswers.pop(wrongAnswers.index(correctAnswer))\n",
    "               \n",
    "                # Se obtiene una muestra aleatoria de 3 respuestas aleatorias + la correcta\n",
    "                wrongAnswers = random.sample(wrongAnswers, 3)\n",
    "                answerOptions = wrongAnswers + [correctAnswer]\n",
    "                \n",
    "                # Se desordenan las opciones de respuesta\n",
    "                random.shuffle(answerOptions)\n",
    "\n",
    "                # Escribimos la pregunta en el test\n",
    "                quizFile.write(f\"{idx}. ¿Cuál es la capital de {departamento}?:\\n\")\n",
    "\n",
    "                for letter, answer in zip('ABCD', answerOptions):\n",
    "                    quizFile.write(f\"\\t{letter}. {answer}\\n\")\n",
    "                else:\n",
    "                    quizFile.write('\\n')\n",
    "\n",
    "                # Escribirmos la respuesta en el archivo de respuestas\n",
    "                answerKeyFile.write(f\"{idx}. {'ABCD'[answerOptions.index(correctAnswer)]}\\n\")\n"
   ]
  },
  {
   "cell_type": "markdown",
   "metadata": {},
   "source": [
    "Con una caminata sobre la ruta podemos verificar la creación de los archivos en los diferentes directorios:"
   ]
  },
  {
   "cell_type": "code",
   "execution_count": 72,
   "metadata": {
    "scrolled": true
   },
   "outputs": [
    {
     "name": "stdout",
     "output_type": "stream",
     "text": [
      " + test\n",
      "     - readme.txt\n",
      "     + test1\n",
      "         - test1_answers.txt\n",
      "         - text1.txt\n",
      "     + test10\n",
      "         - test10_answers.txt\n",
      "         - text10.txt\n",
      "     + test11\n",
      "         - test11_answers.txt\n",
      "         - text11.txt\n",
      "     + test12\n",
      "         - test12_answers.txt\n",
      "         - text12.txt\n",
      "     + test2\n",
      "         - test2_answers.txt\n",
      "         - text2.txt\n",
      "     + test3\n",
      "         - test3_answers.txt\n",
      "         - text3.txt\n",
      "     + test4\n",
      "         - test4_answers.txt\n",
      "         - text4.txt\n",
      "     + test5\n",
      "         - test5_answers.txt\n",
      "         - text5.txt\n",
      "     + test6\n",
      "         - test6_answers.txt\n",
      "         - text6.txt\n",
      "     + test7\n",
      "         - test7_answers.txt\n",
      "         - text7.txt\n",
      "     + test8\n",
      "         - test8_answers.txt\n",
      "         - text8.txt\n",
      "     + test9\n",
      "         - test9_answers.txt\n",
      "         - text9.txt\n"
     ]
    }
   ],
   "source": [
    "STARTPATH = \"C:\\\\test\"\n",
    "for root, dirs, files in os.walk(STARTPATH):\n",
    "    level = root.replace(STARTPATH, '').count(os.sep)  \n",
    "    indent = ' ' * 4 * level                            \n",
    "    print(f\"{indent} + {os.path.basename(root)}\")       \n",
    "    \n",
    "    subindent = ' ' * 4 * (level + 1)                   \n",
    "    for file in files:\n",
    "        print(f\"{subindent} - {file}\")"
   ]
  },
  {
   "cell_type": "markdown",
   "metadata": {},
   "source": [
    "## Tip: librería `shelve`\n",
    "Si lo que se quiere es guardar las variables de una programa de forma rápida existe una forma de hacerlo: la librería `shelve`."
   ]
  },
  {
   "cell_type": "code",
   "execution_count": 77,
   "metadata": {},
   "outputs": [],
   "source": [
    "import shelve\n",
    "\n",
    "# Guardando datos en un archivo shelve\n",
    "datos = [1, 2, 3, 4, 5]\n",
    "\n",
    "with shelve.open('mis_datos') as shelve_file:\n",
    "    shelve_file['datos'] = datos"
   ]
  },
  {
   "cell_type": "markdown",
   "metadata": {},
   "source": [
    "Para guardar datos utilizando `shelve` se abre un archivo al que llamaremos `mis_datos` en un bloque `with` con la instrucción `shelve.open()`. Una vez abierto, se trata este archivo como un diccionario, donde la llave será un `str` con el nombre de la variable a almacenar y el valor será la variable misma. Si revisa le ruta actual, vera que hay unos archivos con el nombre `mis_datos` con extensión `bak`, `dat` y `dir`. Intente abrirlos con un editor... no va a encontrar registros de la información. Pero podemos traerla de vuelta."
   ]
  },
  {
   "cell_type": "code",
   "execution_count": 78,
   "metadata": {},
   "outputs": [
    {
     "name": "stdout",
     "output_type": "stream",
     "text": [
      "[1, 2, 3, 4, 5]\n"
     ]
    }
   ],
   "source": [
    "# Borremos la variable datos...\n",
    "del datos\n",
    "\n",
    "# ...y la recuperamos del archivo \n",
    "with shelve.open(\"mis_datos\") as shelve_file:\n",
    "    datos = shelve_file['datos']\n",
    "    \n",
    "print(datos)"
   ]
  },
  {
   "cell_type": "markdown",
   "metadata": {},
   "source": [
    "¡Facil, sencillo y seguro!"
   ]
  },
  {
   "cell_type": "markdown",
   "metadata": {},
   "source": [
    "## Archivos CSV\n",
    "Un archivo CSV es un archivo de texto con un formato estándar. En este, los valores se guardan como valores de texto, separados por algun delimitador, usualmente una coma (\",\") de donde viene el nombre Comma Separated Value, aunque puede ser un espacio en blanco, un tabulador (\"\\t\") o un punto y coma (\";\").\n",
    "\n",
    "Los archivos CSV son reconocidos por las Hojas de Cálculo como Excel y ordena los datos por columnas a partir del delimitador. Hay que tomar en consideración que en los países donde se utiliza la \",\" como separador de miles, se debe de utilizar el \";\" para que un archivo CSV sea reconocido por Excel. Al final, un archivo CSV es una Hoja de Cálculo simplificada, sin pestañas ni fórmulas.\n",
    "\n",
    "Hay otro detalle a considerar: un CSV no se puede manipular como un archivo de texto al que lo podemos seprar utilizando `split(',')` ya que no todas las comas son separadores. Un CSV también tiene sus propios caracteres de escape, lo que permite que una coma pueda ser parte de los valores (como en el caso de un número escrito con la forma 1,200). Esa es la razón por la que siempre hay que usar la librería `csv` para escribir un archivo CSV.\n",
    "\n",
    "Los marcadores de personal suelen generar archivos CSV diarios. Vamos a generar una simulación de esto:"
   ]
  },
  {
   "cell_type": "code",
   "execution_count": 79,
   "metadata": {},
   "outputs": [],
   "source": [
    "empleados = [[\"2/3/2022 07:20\", \"Elvio Lado\"], \n",
    "             [\"2/3/2022 07:22\", \"Elmer Curio\"], \n",
    "             [\"2/3/2022 07:30\", \"Elba Lazo\"], \n",
    "             [\"2/3/2022 07:36\", \"Susana Oria\"], \n",
    "             [\"2/3/2022 07:49\", \"Armando Paredes\"]]"
   ]
  },
  {
   "cell_type": "markdown",
   "metadata": {},
   "source": [
    "Para almacenar estos datos como un archivo CSV en Windows (y solo en Windows) hay un recordar establecer el parametro `newline=''` para evitar que se generen líneas en blanco entre los registros (esto por razones técnicas que estan detalladas [aqui](https://docs.python.org/3/library/csv.html#id3))."
   ]
  },
  {
   "cell_type": "code",
   "execution_count": 80,
   "metadata": {},
   "outputs": [
    {
     "name": "stdout",
     "output_type": "stream",
     "text": [
      "Archivo generado: C:\\test\\entrada.csv\n"
     ]
    }
   ],
   "source": [
    "import csv\n",
    "\n",
    "with open(\"entrada.csv\", mode='w', newline='') as csv_file:\n",
    "    writer = csv.writer(csv_file, delimiter=';')\n",
    "    writer.writerow([\"HORA\", \"EMPLEADO\"])\n",
    "    \n",
    "    for registro in empleados:\n",
    "        writer.writerow(registro)\n",
    "        \n",
    "print(\"Archivo generado:\", os.path.abspath(\"entrada.csv\"))"
   ]
  },
  {
   "cell_type": "markdown",
   "metadata": {},
   "source": [
    "En el código anterior hay algunos detalles a considerar:\n",
    "    \n",
    "* Se utiliza el parametro `newline=''` por ser Windows. En otro sistema operativo esta opción no se coloca\n",
    "* Se establece un objeto `csv.writer` sobre el archivo abierto para escribir sobre este.\n",
    "* En el writer se define el tipo de separador como \";\" para que sea compatible con Excel (por defecto es \",\")\n",
    "* Se esta utilizando el método `writerow(registro)` para escribir los registros. También se pudo haber llamado al método `writerows(empleados)`\n",
    "* Se escribe una lista con los nombres de las columnas de los datos. Esto es el encabezado\n",
    "* Se esta obteniendo la ruta absoluta del archivo generado con `os.path.abspath` para saber donde esta ubicado el archivo generado\n",
    "\n",
    "Si todo esta bien, podrá abrir el archivo desde Excel."
   ]
  },
  {
   "cell_type": "markdown",
   "metadata": {},
   "source": [
    "JupyterLab tiene un visor de archivos CSV. Pruebe abrir el archivo desde el navegador de archivos a la izquierda para ver la información tabulada y podrá seleccionar el tipo de delimitador."
   ]
  },
  {
   "cell_type": "markdown",
   "metadata": {},
   "source": [
    "Ahora, leamos el archivo:"
   ]
  },
  {
   "cell_type": "code",
   "execution_count": 81,
   "metadata": {},
   "outputs": [
    {
     "name": "stdout",
     "output_type": "stream",
     "text": [
      "* Nombre: Elvio Lado           Hora de ingreso: 2/3/2022 07:20\n",
      "* Nombre: Elmer Curio          Hora de ingreso: 2/3/2022 07:22\n",
      "* Nombre: Elba Lazo            Hora de ingreso: 2/3/2022 07:30\n",
      "* Nombre: Susana Oria          Hora de ingreso: 2/3/2022 07:36\n",
      "* Nombre: Armando Paredes      Hora de ingreso: 2/3/2022 07:49\n"
     ]
    }
   ],
   "source": [
    "import csv\n",
    "\n",
    "with open(\"C:\\\\test\\\\entrada.csv\") as file:\n",
    "    reader = csv.reader(file, delimiter=';')\n",
    "    next(reader)      # Con esto pasamos a la siguiente linea: eliminamos el encabezado\n",
    "    \n",
    "    for line in reader:\n",
    "        print(f\"* Nombre: {line[1]:20} Hora de ingreso: {line[0]}\")"
   ]
  },
  {
   "cell_type": "markdown",
   "metadata": {},
   "source": [
    "Detalles a considerar del código anterior:\n",
    "\n",
    "* No es necesario especificar `newline=''`. Esto es solo para escirbir un archivo CSV\n",
    "* No se especifica el modo al momento de abrir el archivo. El modo por defecto es lectura\n",
    "* Se especifica un `csv.reader` para retornar una lista de datos a partir de cada línea de texto\n",
    "* Se especifica el tipo de separador en el reader.\n",
    "* Se estan utilizando los indices de la lista (en este caso, `line`) para mostrar los resultados.\n"
   ]
  },
  {
   "cell_type": "markdown",
   "metadata": {},
   "source": [
    "## Archivos JSON\n",
    "Un archivo JSON (nadie sabe a ciencia cierta como se pronuncia eso pero esta generalizado utilizar \"Jason\") es un archivo con un formato más complejo. Es, al final, un diccionario almacenado. Para gestionar este tipo de archivos utilizaremos el módulo `json`. \n",
    "\n",
    "Ampliemos el caso del registro de entrada con más datos, esta vez estructurados como un diccionario:"
   ]
  },
  {
   "cell_type": "code",
   "execution_count": 82,
   "metadata": {},
   "outputs": [],
   "source": [
    "empleados = [{\"ingreso\": \"6/6/2020 07:20\", \"salida\": \"6/6/2020 19:30\", \"nombre\": \"Elvio Lado\"}, \n",
    "             {\"ingreso\": \"6/6/2020 07:22\", \"salida\": \"6/6/2020 18:50\", \"nombre\": \"Elmer Curio\"}, \n",
    "             {\"ingreso\": \"6/6/2020 07:30\", \"salida\": \"6/6/2020 19:10\", \"nombre\": \"Elba Lazo\"}, \n",
    "             {\"ingreso\": \"6/6/2020 07:36\", \"salida\": \"6/6/2020 20:10\", \"nombre\": \"Susana Oria\"}, \n",
    "             {\"ingreso\": \"6/6/2020 07:49\", \"salida\": \"6/6/2020 17:59\", \"nombre\": \"Armando Paredes\"}]"
   ]
  },
  {
   "cell_type": "markdown",
   "metadata": {},
   "source": [
    "Esta vez tenemos una lista de registros, donde cada registro es un diccionario. Esta estructura la podemos almacenar tal cual en formato JSON. Para volcar los datos a un archivo JSON se utiliza el método `json.dump(data, file)`:"
   ]
  },
  {
   "cell_type": "code",
   "execution_count": 83,
   "metadata": {},
   "outputs": [],
   "source": [
    "import json\n",
    "\n",
    "with open(\"marca_dia.json\", mode='w') as json_file:\n",
    "    json.dump(empleados, json_file)"
   ]
  },
  {
   "cell_type": "markdown",
   "metadata": {},
   "source": [
    "Si se abre un archvio JSON en un Bloc de Notas verá una lista con diccionarios escrita como un texto. Pero un visualizador de archvios JSON mostrará un resultado diferente. Pruebe abriendo el archivo en JupyterLab y verá la estructura de la información."
   ]
  },
  {
   "cell_type": "markdown",
   "metadata": {},
   "source": [
    "La lectura de un archivo JSON utiliza el método `json.load(file)`:"
   ]
  },
  {
   "cell_type": "code",
   "execution_count": 84,
   "metadata": {},
   "outputs": [
    {
     "name": "stdout",
     "output_type": "stream",
     "text": [
      "[{'ingreso': '6/6/2020 07:20', 'salida': '6/6/2020 19:30', 'nombre': 'Elvio Lado'}, {'ingreso': '6/6/2020 07:22', 'salida': '6/6/2020 18:50', 'nombre': 'Elmer Curio'}, {'ingreso': '6/6/2020 07:30', 'salida': '6/6/2020 19:10', 'nombre': 'Elba Lazo'}, {'ingreso': '6/6/2020 07:36', 'salida': '6/6/2020 20:10', 'nombre': 'Susana Oria'}, {'ingreso': '6/6/2020 07:49', 'salida': '6/6/2020 17:59', 'nombre': 'Armando Paredes'}]\n"
     ]
    }
   ],
   "source": [
    "with open(\"marca_dia.json\") as json_file:\n",
    "    data = json.load(json_file)\n",
    "    \n",
    "print(data)"
   ]
  },
  {
   "cell_type": "markdown",
   "metadata": {},
   "source": [
    "## Tip: Como imprimir un diccionario bien\n",
    "El resultado anterior es, por decir algo, bastante feo. Hay una forma de imprimir un diccionario de forma estética valiéndose del módulo `json`, en este caso del método `json.dumps(data)` (la 's' en dump*s* es por 'string'), que toma un diccionario (o una estructura JSON que viene a ser lo mismo) y hace un volcado sobre un string que puede tener un fomato:"
   ]
  },
  {
   "cell_type": "code",
   "execution_count": 85,
   "metadata": {},
   "outputs": [
    {
     "name": "stdout",
     "output_type": "stream",
     "text": [
      "[\n",
      "    {\n",
      "        \"ingreso\": \"6/6/2020 07:20\",\n",
      "        \"salida\": \"6/6/2020 19:30\",\n",
      "        \"nombre\": \"Elvio Lado\"\n",
      "    },\n",
      "    {\n",
      "        \"ingreso\": \"6/6/2020 07:22\",\n",
      "        \"salida\": \"6/6/2020 18:50\",\n",
      "        \"nombre\": \"Elmer Curio\"\n",
      "    },\n",
      "    {\n",
      "        \"ingreso\": \"6/6/2020 07:30\",\n",
      "        \"salida\": \"6/6/2020 19:10\",\n",
      "        \"nombre\": \"Elba Lazo\"\n",
      "    },\n",
      "    {\n",
      "        \"ingreso\": \"6/6/2020 07:36\",\n",
      "        \"salida\": \"6/6/2020 20:10\",\n",
      "        \"nombre\": \"Susana Oria\"\n",
      "    },\n",
      "    {\n",
      "        \"ingreso\": \"6/6/2020 07:49\",\n",
      "        \"salida\": \"6/6/2020 17:59\",\n",
      "        \"nombre\": \"Armando Paredes\"\n",
      "    }\n",
      "]\n"
     ]
    }
   ],
   "source": [
    "print(json.dumps(data, indent=4))    # indent es el número de espacios para la sangría de niveles"
   ]
  },
  {
   "cell_type": "markdown",
   "metadata": {},
   "source": [
    "Armando Paredes en quien llega último y se va primero..."
   ]
  },
  {
   "cell_type": "markdown",
   "metadata": {},
   "source": [
    "## TIP: libreria glob\n",
    "Entre las tareas de automatización de archivos, una muy útil es modificar un gran número de estos. Estos deben de ser agrupados \n",
    "según algun criterio, como el nombre, el tipo, etc. La librería `blob` permite encontrar todas las rutas que cumplan con un patron específico según las reglas del shell de Unix."
   ]
  },
  {
   "cell_type": "code",
   "execution_count": 100,
   "metadata": {},
   "outputs": [
    {
     "name": "stdout",
     "output_type": "stream",
     "text": [
      "C:\\test\\test1\\test1_answers.txt\n",
      "C:\\test\\test10\\test10_answers.txt\n",
      "C:\\test\\test11\\test11_answers.txt\n",
      "C:\\test\\test12\\test12_answers.txt\n",
      "C:\\test\\test2\\test2_answers.txt\n",
      "C:\\test\\test3\\test3_answers.txt\n",
      "C:\\test\\test4\\test4_answers.txt\n",
      "C:\\test\\test5\\test5_answers.txt\n",
      "C:\\test\\test6\\test6_answers.txt\n",
      "C:\\test\\test7\\test7_answers.txt\n",
      "C:\\test\\test8\\test8_answers.txt\n",
      "C:\\test\\test9\\test9_answers.txt\n"
     ]
    }
   ],
   "source": [
    "import glob\n",
    "\n",
    "STARTPATH = \"C:\\\\test\"\n",
    "for root, dirs, files in os.walk(STARTPATH):\n",
    "    for name in glob.glob(f'{root}\\\\*_answers.txt'):\n",
    "        print(name)"
   ]
  },
  {
   "cell_type": "code",
   "execution_count": 105,
   "metadata": {},
   "outputs": [
    {
     "name": "stdout",
     "output_type": "stream",
     "text": [
      "C:\\Users\\Asus\\anaconda3\\Lib\\site-packages\\notebook\\static\\components\\MathJax\\extensions\\a11y\\invalid_keypress.mp3\n",
      "C:\\Users\\Asus\\anaconda3\\Lib\\site-packages\\spyder\\plugins\\help\\utils\\js\\mathjax\\extensions\\a11y\\invalid_keypress.mp3\n",
      "C:\\Users\\Asus\\anaconda3\\pkgs\\notebook-6.4.5-py39haa95532_0\\Lib\\site-packages\\notebook\\static\\components\\MathJax\\extensions\\a11y\\invalid_keypress.mp3\n",
      "C:\\Users\\Asus\\anaconda3\\pkgs\\spyder-5.1.5-py39haa95532_1\\Lib\\site-packages\\spyder\\plugins\\help\\utils\\js\\mathjax\\extensions\\a11y\\invalid_keypress.mp3\n",
      "C:\\Users\\Asus\\OneDrive\\Documentos\\PyProjects\\Breakout\\sound\\collide_sound.mp3\n",
      "C:\\Users\\Asus\\OneDrive\\Documentos\\PyProjects\\Breakout\\sound\\out_sound.mp3\n",
      "C:\\Users\\Asus\\OneDrive\\Documentos\\PyProjects\\Pong\\audio\\collide_sound.mp3\n",
      "C:\\Users\\Asus\\OneDrive\\Documentos\\PyProjects\\Pong\\audio\\out_sound.mp3\n"
     ]
    }
   ],
   "source": [
    "import glob\n",
    "\n",
    "STARTPATH = \"C:\\\\\"\n",
    "for root, dirs, files in os.walk(STARTPATH):\n",
    "    for name in glob.glob(f'{root}\\\\*.mp3'):\n",
    "        print(name)"
   ]
  },
  {
   "cell_type": "markdown",
   "metadata": {},
   "source": [
    "## `requests` o como obtener información de la web (JSON)\n",
    "Python tiene una librería en la Biblioteca Estándar llamada `urllib` que pemite hacer consultas html que es mejor olvidar que existe. Es de esas cosas que se colocan debajo de la alformbra. Kenneth Reitz le hizo un favor a la comunidad de Python desarrollando la librería `requests` que es hoy la forma más sencilla de realizar requerimientos a un recurso web.\n",
    "\n",
    "Esta libreria debe de instalarse por medio del gestor de paquetes pip, que descarga e instala packetes disponibles desde el Python Packages Index (PyPI). Se puede utilizar el caracter \"!\" en una celda en un documento Jupyter para ejecutar comandos de consola."
   ]
  },
  {
   "cell_type": "code",
   "execution_count": 106,
   "metadata": {},
   "outputs": [
    {
     "name": "stdout",
     "output_type": "stream",
     "text": [
      "Requirement already satisfied: requests in c:\\users\\asus\\anaconda3\\lib\\site-packages (2.26.0)\n",
      "Requirement already satisfied: urllib3<1.27,>=1.21.1 in c:\\users\\asus\\anaconda3\\lib\\site-packages (from requests) (1.26.7)\n",
      "Requirement already satisfied: idna<4,>=2.5 in c:\\users\\asus\\anaconda3\\lib\\site-packages (from requests) (3.2)\n",
      "Requirement already satisfied: charset-normalizer~=2.0.0 in c:\\users\\asus\\anaconda3\\lib\\site-packages (from requests) (2.0.4)\n",
      "Requirement already satisfied: certifi>=2017.4.17 in c:\\users\\asus\\anaconda3\\lib\\site-packages (from requests) (2021.10.8)\n"
     ]
    }
   ],
   "source": [
    "!pip install requests"
   ]
  },
  {
   "cell_type": "markdown",
   "metadata": {},
   "source": [
    "Utilicemos las instrucciones de prueba [de la página oficinal en github del proyecto](https://github.com/psf/requests):"
   ]
  },
  {
   "cell_type": "code",
   "execution_count": 107,
   "metadata": {},
   "outputs": [
    {
     "data": {
      "text/plain": [
       "'A simple, yet elegant, HTTP library.'"
      ]
     },
     "execution_count": 107,
     "metadata": {},
     "output_type": "execute_result"
    }
   ],
   "source": [
    "import requests\n",
    "\n",
    "r = requests.get('https://api.github.com/repos/psf/requests')\n",
    "r.json()[\"description\"]"
   ]
  },
  {
   "cell_type": "markdown",
   "metadata": {},
   "source": [
    "Para entender lo que sucede en estas líneas de código, hay que tener una idea del modelo HTTP y en concreto, que cosa es un request:\n",
    "\n",
    "![](https://i1.wp.com/shvetsgroup.com/files/images/HTTP_request.png)\n",
    "\n",
    "El protocolo que hace que la Web funcione es HTTP. En este se define que existen dos nodos: cliente y servidor. El cliente hace un pedido de información (un \"requests\" con una ruta) y el servidor retorna un código de respuesta (un \"response\") así como la información requerida (si la información existe, para lo que responderá con el código 200; en caso contrario responderá con un código 4XX). En el código anterior, todos los detalles de señalización y flujo de control de información estan resueltos en la librería `requests`.\n",
    "\n",
    "El método `get` es la instrucción HTTP que se utiliza para hacer una petición en un mensaje que es formateado por la librería. En este caso, el requerimiento apunta a un archivo JSON y `requests` puede gestionar archivos JSON de forma nativa con el método `json` sobre la respuesta del requerimiento (el objeto `r`). En este caso, estamos viendo el valor de la llave `description`. Esto es porque el recurso web es un API REST, tema que veremos mucho más adelante con más detalle.\n",
    "\n",
    "Veamos una estructura más compleja: La URL https://deperu.com/api/rest/noticias.json apunta a un servicio que retorna noticias en formato JSON. ¿Cómo podemos obtener un listado de los titulares? Guardemos este información en un archivo JSON para poder verlo en el visualizador:"
   ]
  },
  {
   "cell_type": "code",
   "execution_count": 108,
   "metadata": {},
   "outputs": [],
   "source": [
    "url = \"https://deperu.com/api/rest/noticias.json\"\n",
    "r = requests.get(url)\n",
    "data = r.json()\n",
    "\n",
    "with open(\"noticias.json\", mode='w') as json_file:\n",
    "    json.dump(data, json_file)"
   ]
  },
  {
   "cell_type": "markdown",
   "metadata": {},
   "source": [
    "Revisando la estructura se observa que es una lista de diccionarios, donde las llaves 'fecha', 'titulo' y 'url' nos dan la información que queremos para presentar la información:"
   ]
  },
  {
   "cell_type": "code",
   "execution_count": 109,
   "metadata": {},
   "outputs": [
    {
     "name": "stdout",
     "output_type": "stream",
     "text": [
      "LAS NOTICIAS DE LA HORA\n",
      "=======================\n",
      "\n",
      "  Fecha: Tue, 08 Feb 2022 08:33:54 -0500\n",
      "  Titular: La UE lanza un enorme plan para duplicar la producción de semiconductores hasta 2030\n",
      "  Referencia: https://www.deperu.com/noticias/la-ue-lanza-un-enorme-plan-para-duplicar-la-produccion-de-semiconductores-hasta-2030-116425.html\n",
      "\n",
      "  Fecha: Tue, 08 Feb 2022 08:22:37 -0500\n",
      "  Titular: Cocodrilo indonesio que pasó cinco años con un neumático como \"collar\" vuelve a la normalidad\n",
      "  Referencia: https://www.deperu.com/noticias/cocodrilo-indonesio-que-paso-cinco-anos-con-un-neumatico-como-collar-vuelve-a-la-normalidad-116420.html\n",
      "\n",
      "  Fecha: Tue, 08 Feb 2022 07:55:16 -0500\n",
      "  Titular: UE descontará una multa de los fondos europeos a Polonia, que promete apelar\n",
      "  Referencia: https://www.deperu.com/noticias/ue-descontara-una-multa-de-los-fondos-europeos-a-polonia-que-promete-apelar-116423.html\n",
      "\n",
      "  Fecha: Tue, 08 Feb 2022 07:29:06 -0500\n",
      "  Titular: Un restaurante en Irán hace comer a sus clientes en \"prisión\" para ayudar a los detenidos\n",
      "  Referencia: https://www.deperu.com/noticias/un-restaurante-en-iran-hace-comer-a-sus-clientes-en-prision-para-ayudar-a-los-detenidos-116421.html\n",
      "\n",
      "  Fecha: Tue, 08 Feb 2022 06:47:16 -0500\n",
      "  Titular: Francia se dispone a levantar las restricciones a los viajeros vacunados de fuera de la UE\n",
      "  Referencia: https://www.deperu.com/noticias/francia-se-dispone-a-levantar-las-restricciones-a-los-viajeros-vacunados-de-fuera-de-la-ue-116426.html\n",
      "\n"
     ]
    }
   ],
   "source": [
    "with open(\"noticias.json\") as json_file:\n",
    "    data_noticias = json.load(json_file)\n",
    "    \n",
    "print(\"LAS NOTICIAS DE LA HORA\")\n",
    "print(\"=======================\\n\")\n",
    "for noticia in data_noticias[:5]:           # [:5] => Las cinco noticias mas recientes\n",
    "    print(\"  Fecha:\", noticia['fecha'])\n",
    "    print(\"  Titular:\", noticia['titulo'])\n",
    "    print(\"  Referencia:\", noticia['url'])\n",
    "    print()"
   ]
  },
  {
   "cell_type": "markdown",
   "metadata": {},
   "source": [
    "¡Hemos construido un *newsletter* con muy pocas lineas de código!"
   ]
  }
 ],
 "metadata": {
  "kernelspec": {
   "display_name": "Python 3 (ipykernel)",
   "language": "python",
   "name": "python3"
  },
  "language_info": {
   "codemirror_mode": {
    "name": "ipython",
    "version": 3
   },
   "file_extension": ".py",
   "mimetype": "text/x-python",
   "name": "python",
   "nbconvert_exporter": "python",
   "pygments_lexer": "ipython3",
   "version": "3.9.7"
  }
 },
 "nbformat": 4,
 "nbformat_minor": 4
}

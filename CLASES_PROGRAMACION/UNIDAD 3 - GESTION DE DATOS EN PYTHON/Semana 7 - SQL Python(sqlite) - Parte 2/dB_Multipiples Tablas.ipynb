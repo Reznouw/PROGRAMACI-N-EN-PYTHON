{
 "cells": [
  {
   "cell_type": "markdown",
   "id": "071724e5-45db-4f25-ac2c-75cc01552a8b",
   "metadata": {},
   "source": [
    "# Base de Datos - Multiples Tablas\n",
    "## Hoja de Trabajo"
   ]
  },
  {
   "cell_type": "markdown",
   "id": "c7de8b8a-65ea-4018-b258-a1b93e46f026",
   "metadata": {},
   "source": [
    "![](https://www.databasestar.com/wp-content/uploads/2019/07/ERD-Website.png)"
   ]
  },
  {
   "cell_type": "markdown",
   "id": "5dfacfc4-6196-457a-b7b3-0688ec476852",
   "metadata": {},
   "source": [
    "### Links utiles:\n",
    "* SQLite Online: https://sqliteonline.com/\n",
    "* Diagramas ER: https://dbdiagram.io/home\n",
    "* Base da datos de ejemplo: https://www.sqlitetutorial.net/sqlite-sample-database/"
   ]
  },
  {
   "cell_type": "code",
   "execution_count": 9,
   "id": "0852d935-c80e-4c64-8993-62288f6a96aa",
   "metadata": {},
   "outputs": [],
   "source": [
    "import sqlite3"
   ]
  },
  {
   "cell_type": "code",
   "execution_count": 6,
   "id": "b6569bac-a7de-4ebd-a511-9e9e8a0ebd29",
   "metadata": {},
   "outputs": [],
   "source": [
    "with sqlite3.connect(\"database.db\") as conn:\n",
    "    cur = conn.cursor()\n",
    "    SQL = \"\"\"CREATE TABLE IF NOT EXISTS \n",
    "                pacientes (id_pac INTEGER PRIMARY KEY, \n",
    "                           nombre TEXT,\n",
    "                           apellido TEXT, \n",
    "                           fec_nac TEXT, \n",
    "                           altura REAL, \n",
    "                           genero TEXT)\"\"\"\n",
    "    cur.execute(SQL)\n",
    "    \n",
    "    SQL = \"\"\"CREATE TABLE IF NOT EXISTS \n",
    "                medicos (id_med INTEGER PRIMARY KEY, \n",
    "                         nombre TEXT, \n",
    "                         apellido TEXT, \n",
    "                         nro_colegi INTEGER)\"\"\"\n",
    "    cur.execute(SQL)\n",
    "    \n",
    "    SQL = \"\"\"CREATE TABLE IF NOT EXISTS \n",
    "                citas (id_cita INTEGER PRIMARY KEY, \n",
    "                       id_pac INTEGER, \n",
    "                       id_med INTEGER, \n",
    "                       fecha TEXT, \n",
    "                       FOREIGN KEY(id_pac) \n",
    "                            REFERENCES pacientes(id_pac), \n",
    "                        FOREIGN KEY(id_med)\n",
    "                            REFERENCES medicos(id_med))\"\"\"\n",
    "    cur.execute(SQL)\n",
    "    \n",
    "    SQL = \"\"\"CREATE TABLE IF NOT EXISTS \n",
    "                reg_pesos (id_pac INTEGER, \n",
    "                           id_med INTEGER, \n",
    "                           peso REAL, \n",
    "                           FOREIGN KEY(id_pac)\n",
    "                               REFERENCES pacientes(id_pac), \n",
    "                            FOREIGN KEY(id_med) \n",
    "                                REFERENCES medicos(id_med))\"\"\"\n",
    "    cur.execute(SQL)\n",
    "    \n",
    "conn.close()"
   ]
  },
  {
   "cell_type": "markdown",
   "id": "bc77db36-5f22-4511-8cae-1890b4cd5805",
   "metadata": {},
   "source": [
    "## Join, Funciones de Agregación, GroupBy"
   ]
  },
  {
   "cell_type": "markdown",
   "id": "d5d5155e-cced-4bae-bfe0-66e6b630e2c7",
   "metadata": {},
   "source": [
    "![](https://ingenieriadesoftware.es/wp-content/uploads/2018/07/sqljoin.jpeg)"
   ]
  },
  {
   "cell_type": "markdown",
   "id": "61249f63-c856-4f0d-a845-3a860f8da998",
   "metadata": {},
   "source": [
    "### ¿Qué pacientes tienen cita en una fecha determinada?"
   ]
  },
  {
   "cell_type": "code",
   "execution_count": null,
   "id": "1b336cba-c192-4813-9811-7bf3b7ff42d0",
   "metadata": {},
   "outputs": [],
   "source": [
    "SELECT pacientes.nombre, pacientes.apellido \n",
    "FROM pacientes JOIN citas\n",
    "ON pacientes.id_pac = citas.id_pac \n",
    "WHERE citas.fecha = ?"
   ]
  },
  {
   "cell_type": "markdown",
   "id": "88704d90-a34e-43d5-9b87-c75e54ab543b",
   "metadata": {},
   "source": [
    "### ¿Qué pacientes tiene citas en una fecha determinada con un medico determinado?"
   ]
  },
  {
   "cell_type": "code",
   "execution_count": null,
   "id": "fc6664e2-e073-48bd-8591-2068afb5f23e",
   "metadata": {},
   "outputs": [],
   "source": [
    "SELECT pacientes.nombre, pacientes.apellido,\n",
    "       medicos.nombre, medicos.apellido\n",
    "FROM pacientes JOIN citas JOIN medicos\n",
    "ON pacientes.id_pac = citas.id_pac\n",
    "    AND citas.id_med = medicos.id_med\n",
    "WHERE citas.fecha = ? AND medicos.nro_colegi = ?"
   ]
  },
  {
   "cell_type": "markdown",
   "id": "1b2f5842-920a-497c-af9c-fdb4ac07870b",
   "metadata": {},
   "source": [
    "### ¿Cuántas citas se tienen en una fecha?"
   ]
  },
  {
   "cell_type": "code",
   "execution_count": null,
   "id": "fddf77a7-e75b-409e-88bd-4995d01aa0f1",
   "metadata": {},
   "outputs": [],
   "source": [
    "SELECT COUNT(id_cita) FROM citas WHERE fecha = ?"
   ]
  },
  {
   "cell_type": "markdown",
   "id": "4040116d-7de0-4eec-8cef-50aef6fd7731",
   "metadata": {},
   "source": [
    "### ¿Cuántos medicos atenderán en una fecha determinada?"
   ]
  },
  {
   "cell_type": "code",
   "execution_count": null,
   "id": "e10c02a5-4813-4a72-863d-f5115e77cab3",
   "metadata": {},
   "outputs": [],
   "source": [
    "SELECT COUNT(DISTINCT id_med) FROM medicos JOIN citas \n",
    "ON medicos.id_med = citas.id_med\n",
    "WHERE citas.fecha = ?"
   ]
  },
  {
   "cell_type": "markdown",
   "id": "ccf83cb1-1ad3-4360-80e5-d186a072930c",
   "metadata": {},
   "source": [
    "### ¿Cuál es el peso máximo, mínimo y promedio de un paciente determinado?"
   ]
  },
  {
   "cell_type": "code",
   "execution_count": null,
   "id": "82913ddc-ac01-4242-a4ba-dc390b1fe9d4",
   "metadata": {},
   "outputs": [],
   "source": [
    "SELECT MAX(peso), \n",
    "       MIN(peso), \n",
    "       AVG(peso) \n",
    "FROM pacientes JOIN reg_pesos\n",
    "ON pacientes.id_pac = reg_pesos.id_pac\n",
    "WHERE pacientes.id_pac = ?"
   ]
  },
  {
   "cell_type": "markdown",
   "id": "2b755bee-8606-4450-b283-3bcf1c13f160",
   "metadata": {},
   "source": [
    "### ¿Cuál es el peso promedio de los doce pacientes de mayor peso de un médico determinado, ordenado por peso?"
   ]
  },
  {
   "cell_type": "code",
   "execution_count": null,
   "id": "4a4cad7d-4b9e-4967-b3a4-7a1eb459b8a4",
   "metadata": {},
   "outputs": [],
   "source": [
    "SELECT \n",
    "    pacientes.nombre, \n",
    "    pacientes.apelllido, \n",
    "    AVG(reg_peso.peso)\n",
    "FROM pacientes JOIN reg_pesos JOIN citas JOIN medicos\n",
    "    ON pacientes.id_pac = reg_pesos.id_pac \n",
    "        AND reg_pesos.id_cita = citas.id_cita\n",
    "        AND citas.id_med = medicos.id_med\n",
    "WHERE id_med = ?\n",
    "GROUP BY (pacientes.nombre, pacientes.apellido)\n",
    "ORDER BY AVG(reg_peso.peso) DESC\n",
    "LIMIT 12"
   ]
  },
  {
   "cell_type": "markdown",
   "id": "d492c486-5e4b-41af-ac69-3b8525a75f06",
   "metadata": {},
   "source": [
    "## Base de Datos Chinook"
   ]
  },
  {
   "cell_type": "markdown",
   "id": "bc38481f-ac5c-4ef4-9aca-1b984febe859",
   "metadata": {},
   "source": [
    "![](https://www.sqlitetutorial.net/wp-content/uploads/2015/11/sqlite-sample-database-color.jpg)"
   ]
  },
  {
   "cell_type": "markdown",
   "id": "71b7110a-0d8d-4a63-94e0-590f09909115",
   "metadata": {},
   "source": [
    "### ¿Existe el artista Metallica en la dB?"
   ]
  },
  {
   "cell_type": "code",
   "execution_count": 31,
   "id": "db4d3c86-fe80-4a0a-aff0-7b1151b035c9",
   "metadata": {},
   "outputs": [],
   "source": [
    "artista = \"Metallica\""
   ]
  },
  {
   "cell_type": "code",
   "execution_count": 32,
   "id": "51377bc6-f493-4c90-84a0-324292add8b1",
   "metadata": {},
   "outputs": [
    {
     "name": "stdout",
     "output_type": "stream",
     "text": [
      "(50, 'Metallica')\n"
     ]
    }
   ],
   "source": [
    "with sqlite3.connect(\"chinook.db\") as conn:\n",
    "    cur = conn.cursor()\n",
    "    SQL = \"SELECT * FROM artists WHERE name = ?\"\n",
    "    cur.execute(SQL, (artista,))\n",
    "    \n",
    "    for item in cur:\n",
    "        print(item)"
   ]
  },
  {
   "cell_type": "markdown",
   "id": "9f0fda5b-a623-4423-a41f-129e5d86601c",
   "metadata": {},
   "source": [
    "### Mostrar un listado de los albums del artista en la tienda"
   ]
  },
  {
   "cell_type": "code",
   "execution_count": null,
   "id": "8220d47f-844b-46f0-be96-a468d370f1c1",
   "metadata": {},
   "outputs": [],
   "source": []
  },
  {
   "cell_type": "markdown",
   "id": "ef88b072-8be2-4f5f-8bff-7afe947a27bf",
   "metadata": {},
   "source": [
    "### Hacer un listado de los albums y los tracks *por album*, junto con el precio de cada track\n",
    "\n",
    "    Album 1:\n",
    "        1. Track 1 [XX.XX USD]\n",
    "        2. Track 2 [XX.XX USD]\n",
    "        .\n",
    "        .\n",
    "        \n",
    "    Album 2:\n",
    "    1. Track 1 [XX.XX USD]\n",
    "    .\n",
    "    .\n",
    "    ."
   ]
  },
  {
   "cell_type": "markdown",
   "id": "2a590203-ad18-472a-af21-f3ceb1126c76",
   "metadata": {},
   "source": [
    "### Mostrar el precio de cada album (el total de todos los tracks de cada album). Ordear por nombre del album"
   ]
  },
  {
   "cell_type": "code",
   "execution_count": null,
   "id": "4059d936-c7be-43da-bd17-f79c1acd6ad5",
   "metadata": {},
   "outputs": [],
   "source": []
  },
  {
   "cell_type": "markdown",
   "id": "c900f516-e083-49d4-a587-3348202d250a",
   "metadata": {},
   "source": [
    "### ¿Cuáles son los 5 países en donde se encuentran los clientes que más compras hacen del artista? Incluir el total de compras. Ordenar en forma descendente por total de compras\n",
    "\n",
    "    Nombre Pais [XX.XX USD]"
   ]
  },
  {
   "cell_type": "code",
   "execution_count": null,
   "id": "8b6be442-93b5-4f23-a51e-0b0136ca9cd6",
   "metadata": {},
   "outputs": [],
   "source": []
  },
  {
   "cell_type": "markdown",
   "id": "9b53e779-1f6e-4a64-a2aa-542c49f76fe2",
   "metadata": {},
   "source": [
    "### Listas los nombres de los representantes de los 5 clientes que más productos compran del artista? Ordenar de forma descendente por el total de compras\n",
    "\n",
    "    Nombre Cliente [XX.XX USD] - Nombre Representante "
   ]
  },
  {
   "cell_type": "code",
   "execution_count": null,
   "id": "82423acf-f56b-4441-bcce-ef60e26f9f65",
   "metadata": {},
   "outputs": [],
   "source": []
  },
  {
   "cell_type": "markdown",
   "id": "39cea126-6d62-4238-b391-b20b32d987d3",
   "metadata": {},
   "source": [
    "### ¿Cuales son los Top 10 artistas de la tienda? (esto es, los que más han facturado en la tienda). Ordene de forma correcta"
   ]
  },
  {
   "cell_type": "code",
   "execution_count": null,
   "id": "3cf03e97-b860-40e0-8361-9836cf45264f",
   "metadata": {},
   "outputs": [],
   "source": []
  }
 ],
 "metadata": {
  "kernelspec": {
   "display_name": "Python 3 (ipykernel)",
   "language": "python",
   "name": "python3"
  },
  "language_info": {
   "codemirror_mode": {
    "name": "ipython",
    "version": 3
   },
   "file_extension": ".py",
   "mimetype": "text/x-python",
   "name": "python",
   "nbconvert_exporter": "python",
   "pygments_lexer": "ipython3",
   "version": "3.10.9"
  }
 },
 "nbformat": 4,
 "nbformat_minor": 5
}

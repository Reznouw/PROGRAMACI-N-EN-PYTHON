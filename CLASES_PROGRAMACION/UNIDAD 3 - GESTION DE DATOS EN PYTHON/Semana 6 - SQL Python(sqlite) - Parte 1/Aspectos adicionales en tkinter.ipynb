{
 "cells": [
  {
   "cell_type": "markdown",
   "metadata": {},
   "source": [
    "# Aspectos adicionales en tkinter"
   ]
  },
  {
   "cell_type": "markdown",
   "metadata": {},
   "source": [
    "## Multiples ventanas"
   ]
  },
  {
   "cell_type": "code",
   "execution_count": 5,
   "metadata": {},
   "outputs": [],
   "source": [
    "import tkinter as tk\n",
    "import tkinter.ttk as ttk\n",
    "\n",
    "class App(tk.Tk):\n",
    "    def __init__(self):\n",
    "        super().__init__()\n",
    "        self.title(\"App Window\")\n",
    "        self.geometry(\"300x100+100+100\")\n",
    "        \n",
    "        self.btn = tk.Button(self, text=\"Detalles\", width=16, command=self.details_window)\n",
    "        self.btn.pack(padx=20, pady=20)\n",
    "        \n",
    "        \n",
    "    def details_window(self):\n",
    "        _, x_win_pos, y_win_pos = self.geometry().split(\"+\")\n",
    "        App_Details_Window(x_win_pos, y_win_pos)\n",
    "\n",
    "        \n",
    "class App_Details_Window(tk.Toplevel):\n",
    "    def __init__(self, x_win_pos, y_win_pos):\n",
    "        super().__init__()\n",
    "        self.title(\"Details Window\")\n",
    "        self.geometry(f\"300x100+{int(x_win_pos)+50}+{int(y_win_pos)+50}\")\n",
    "        self.grab_set()\n",
    "        self.focus()\n",
    "        \n",
    "        self.btn = tk.Button(self, text=\"Cerrar\", width=16, command=self.close_window)\n",
    "        self.btn.pack(padx=20, pady=20)\n",
    "        \n",
    "        \n",
    "    def close_window(self):\n",
    "        self.destroy()\n",
    "        \n",
    "    \n",
    "app = App().mainloop()"
   ]
  },
  {
   "cell_type": "markdown",
   "metadata": {},
   "source": [
    "## Estilos en Widgets - Treeview"
   ]
  },
  {
   "cell_type": "code",
   "execution_count": 9,
   "metadata": {},
   "outputs": [],
   "source": [
    "import tkinter as tk\n",
    "import tkinter.ttk as ttk\n",
    "import random\n",
    "\n",
    "# TREEVIEW CON ESTILO (WIDGET STYLES)\n",
    "class App(tk.Tk):\n",
    "    def __init__(self):\n",
    "        super().__init__()\n",
    "        self.title(\"Registro Notas\")\n",
    "        self.resizable(0, 0)\n",
    "        \n",
    "        frm = tk.LabelFrame(self, text=\"Registro de Notas\")\n",
    "        frm.pack(padx=10, pady=10)\n",
    "        \n",
    "        style = ttk.Style()\n",
    "        style.theme_use('default')\n",
    "        \n",
    "        #style.configure(\"Treeview\", background='white', foreground='black', fieldbackground='white')\n",
    "        style.configure(\"Treeview\",)\n",
    "        style.map(\"Treeview\", background=[('selected', 'blue')])\n",
    "                \n",
    "        self.table = ttk.Treeview(frm, columns=[1, 2])\n",
    "        self.table.pack()\n",
    "        \n",
    "        self.table.heading('#0', text=\"ID\")\n",
    "        self.table.heading('#1', text=\"Nombre\")\n",
    "        self.table.heading('#2', text=\"Nota\")\n",
    "        \n",
    "        self.table.column('#0', width=40, minwidth=30, stretch=tk.NO)\n",
    "        self.table.column('#1', width=150, minwidth=150, stretch=tk.NO)\n",
    "        self.table.column('#2', width=80, minwidth=80, stretch=tk.NO, anchor=tk.CENTER)\n",
    "        \n",
    "        self.table.tag_configure('even', background='#e6f7b2')\n",
    "        self.table.tag_configure('odd', background='#f4fae1')\n",
    "        \n",
    "        for idx in range(1, 11):\n",
    "            if idx % 2 == 0:\n",
    "                self.table.insert(\"\", tk.END, text=idx, values=[f\"Alumno {idx}\", f\"{random.randrange(0, 20):0>2}\"],\n",
    "                                  tags=('even',))\n",
    "            else:\n",
    "                self.table.insert(\"\", tk.END, text=idx, values=[f\"Alumno {idx}\", f\"{random.randrange(0, 20):0>2}\"],\n",
    "                                  tags=('odd',))\n",
    "\n",
    "        self.table.bind(\"<<TreeviewSelect>>\", self.select_record)\n",
    "\n",
    "\n",
    "    def select_record(self, event):\n",
    "        idx = self.table.selection()\n",
    "        print(self.table.item(idx))\n",
    "\n",
    "\n",
    "    \n",
    "app = App().mainloop()"
   ]
  },
  {
   "cell_type": "code",
   "execution_count": null,
   "metadata": {},
   "outputs": [],
   "source": []
  }
 ],
 "metadata": {
  "kernelspec": {
   "display_name": "Python 3 (ipykernel)",
   "language": "python",
   "name": "python3"
  },
  "language_info": {
   "codemirror_mode": {
    "name": "ipython",
    "version": 3
   },
   "file_extension": ".py",
   "mimetype": "text/x-python",
   "name": "python",
   "nbconvert_exporter": "python",
   "pygments_lexer": "ipython3",
   "version": "3.9.7"
  }
 },
 "nbformat": 4,
 "nbformat_minor": 4
}

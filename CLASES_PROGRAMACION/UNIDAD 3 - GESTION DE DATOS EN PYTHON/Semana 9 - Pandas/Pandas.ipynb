{
 "cells": [
  {
   "cell_type": "markdown",
   "metadata": {},
   "source": [
    "# Pandas\n",
    "\n",
    "![](https://miro.medium.com/max/481/1*cxfqR8NAj8HGal8CVOZ7hg.png)\n",
    "\n",
    "Pandas es una herramienta de manipulación de datos de alto nivel desarrollada por Wes McKinney. Esta desarrollado sobre el paquete Numpy y su estructura de datos clave es llamada el DataFrame. El DataFrame permite almacenar y manipular datos tabulados en filas de observaciones y columnas de variables. Se puede conceptualizar como una hoja de cálculo, pero con esteroides.\n",
    "\n",
    "La [documentación de pandas](https://pandas.pydata.org/pandas-docs/stable/index.html) es muy extensa y muy bien redactada (con ejemplos, inclusive), por lo que vale la pena tenerla a la mano.\n",
    "\n",
    "Luis A. Muñoz"
   ]
  },
  {
   "cell_type": "code",
   "execution_count": 1,
   "metadata": {},
   "outputs": [],
   "source": [
    "import pandas as pd"
   ]
  },
  {
   "cell_type": "markdown",
   "metadata": {},
   "source": [
    "## Series\n",
    "Las series son estructuras unidimensionales de datos etiquetados con valores numéricos (como una lista) o etiquetas (como un diccionario). Es básicamente una columna en una hoja de cálculo."
   ]
  },
  {
   "cell_type": "code",
   "execution_count": 2,
   "metadata": {},
   "outputs": [
    {
     "name": "stdout",
     "output_type": "stream",
     "text": [
      "<class 'pandas.core.series.Series'>\n",
      "0    Data1\n",
      "1    Data2\n",
      "2    Data3\n",
      "dtype: object\n"
     ]
    }
   ],
   "source": [
    "data = pd.Series(['Data1', 'Data2', 'Data3'])\n",
    "print(type(data))\n",
    "print(data)"
   ]
  },
  {
   "cell_type": "markdown",
   "metadata": {},
   "source": [
    "Como se observa, se ha creado una Serie de datos a partir de una lista. Cada uno de los datos (`object` signfica que son `str`) esta etiquetado con un número a lo largo del `index`. La indexación puede consistir en etiquetas:"
   ]
  },
  {
   "cell_type": "code",
   "execution_count": 3,
   "metadata": {},
   "outputs": [
    {
     "name": "stdout",
     "output_type": "stream",
     "text": [
      "A    Data1\n",
      "B    Data2\n",
      "C    Data3\n",
      "dtype: object\n"
     ]
    }
   ],
   "source": [
    "data.index = ['A', 'B', 'C']\n",
    "print(data)"
   ]
  },
  {
   "cell_type": "markdown",
   "metadata": {},
   "source": [
    "Se puede acceder a cada uno de los valores por medio de la notación `[]` utilizando indices númericos de posición o el índice actual, o utilizando el método `at` solamente con los indices actuales:"
   ]
  },
  {
   "cell_type": "code",
   "execution_count": 4,
   "metadata": {},
   "outputs": [
    {
     "name": "stdout",
     "output_type": "stream",
     "text": [
      "data[0] = Data1\n",
      "data[-1] = Data3\n",
      "data['A'] = Data1\n",
      "data.at['B'] = Data2\n"
     ]
    }
   ],
   "source": [
    "print(\"data[0] =\", data[0])\n",
    "print(\"data[-1] =\", data[-1])\n",
    "print(\"data['A'] =\", data['A'])\n",
    "print(\"data.at['B'] =\", data.at['B'])"
   ]
  },
  {
   "cell_type": "markdown",
   "metadata": {},
   "source": [
    "Se pueden especificar tanto los datos como los índices al momento de generar la Serie:"
   ]
  },
  {
   "cell_type": "code",
   "execution_count": 5,
   "metadata": {},
   "outputs": [
    {
     "name": "stdout",
     "output_type": "stream",
     "text": [
      "C1       Audi\n",
      "C2    Porsche\n",
      "C3    Bugatti\n",
      "C4      Lotus\n",
      "Name: Autos, dtype: object\n"
     ]
    }
   ],
   "source": [
    "data = pd.Series(data=['Audi', 'Porsche', 'Bugatti', 'Lotus'], \n",
    "                 index=['C1', 'C2', 'C3', 'C4'], \n",
    "                 name='Autos')\n",
    "print(data)"
   ]
  },
  {
   "cell_type": "markdown",
   "metadata": {},
   "source": [
    "Los datos asociados a una serie se pueden obtener con las propiedades `index`, `data` y `name`:"
   ]
  },
  {
   "cell_type": "code",
   "execution_count": 6,
   "metadata": {},
   "outputs": [
    {
     "name": "stdout",
     "output_type": "stream",
     "text": [
      "Index(['C1', 'C2', 'C3', 'C4'], dtype='object')\n",
      "['Audi' 'Porsche' 'Bugatti' 'Lotus']\n",
      "Autos\n"
     ]
    }
   ],
   "source": [
    "print(data.index)\n",
    "print(data.values)    # Por qué 'values' en lugar de 'data'???\n",
    "print(data.name)"
   ]
  },
  {
   "cell_type": "markdown",
   "metadata": {},
   "source": [
    "Una de las cosas a notar es que los índices están emparejados a los datos (como sucede con el par llave-valor en un diccionario). Por ejemplo, si se aplica el método `sort_values` sobre una Serie:"
   ]
  },
  {
   "cell_type": "code",
   "execution_count": 7,
   "metadata": {},
   "outputs": [
    {
     "data": {
      "text/plain": [
       "C1       Audi\n",
       "C3    Bugatti\n",
       "C4      Lotus\n",
       "C2    Porsche\n",
       "Name: Autos, dtype: object"
      ]
     },
     "execution_count": 7,
     "metadata": {},
     "output_type": "execute_result"
    }
   ],
   "source": [
    "data.sort_values()"
   ]
  },
  {
   "cell_type": "markdown",
   "metadata": {},
   "source": [
    "Se observa que los valores se ordenan alfabéticamante, llevandose a sus índices consigo (así estos no se hayan especificado y sean valores numéricos). Por lo tanto, el dato `data['C3']` sigue siendo *Bugatti*.\n",
    "\n",
    "¿Qué sucede si se ingresa una Serie a un iterador como `for`?"
   ]
  },
  {
   "cell_type": "code",
   "execution_count": 8,
   "metadata": {},
   "outputs": [
    {
     "name": "stdout",
     "output_type": "stream",
     "text": [
      "Audi\n",
      "Porsche\n",
      "Bugatti\n",
      "Lotus\n"
     ]
    }
   ],
   "source": [
    "for item in data:\n",
    "    print(item)"
   ]
  },
  {
   "cell_type": "markdown",
   "metadata": {},
   "source": [
    "Obtendermos los valores (y no lo índices, como sucedía con un diccionario). Esto es una característica de las Series a recordar."
   ]
  },
  {
   "cell_type": "markdown",
   "metadata": {},
   "source": [
    "### pandas y operaciones `inplace`\n",
    "Otra cosa que debe de observar que escapa a la vista: ¡los datos que han sido iterados de la Serie `data` ya no están ordenados! ¿Esto quiere decir que la operación anterior `data.sort_values()` se deshizo? La explicación a esto esta ascociada al hecho de que cuando se ejecutó esta instrucción en una celda se observó una serie ordenada por sus valores. Esto sólo es posible si `data.sort_values()` retornase una Serie nueva (si ordenara la Serie misma no se vería ninguna impresión). Esta es la forma como casi todos los métodos en una Serie y un Dataframe operan: generan nuevos objetos (como sucede con los `str`). Así que, si se quiere que los cambios se realicen sobre la Serie misma se puede hacer: `data = data.sort_values()`, aunque lo común es especificar la propiedad `inplace=True`:"
   ]
  },
  {
   "cell_type": "code",
   "execution_count": 9,
   "metadata": {},
   "outputs": [],
   "source": [
    "data.sort_values(inplace=True)    # Esta operacion no retorna resultados"
   ]
  },
  {
   "cell_type": "code",
   "execution_count": 10,
   "metadata": {},
   "outputs": [
    {
     "name": "stdout",
     "output_type": "stream",
     "text": [
      "C1       Audi\n",
      "C3    Bugatti\n",
      "C4      Lotus\n",
      "C2    Porsche\n",
      "Name: Autos, dtype: object\n"
     ]
    }
   ],
   "source": [
    "print(data)"
   ]
  },
  {
   "cell_type": "markdown",
   "metadata": {},
   "source": [
    "### `loc` y `iloc`\n",
    "Retornemos a los índices. Una Serie soporta *index-slicing*?"
   ]
  },
  {
   "cell_type": "code",
   "execution_count": 11,
   "metadata": {},
   "outputs": [
    {
     "name": "stdout",
     "output_type": "stream",
     "text": [
      "C2    Porsche\n",
      "C4      Lotus\n",
      "C3    Bugatti\n",
      "C1       Audi\n",
      "Name: Autos, dtype: object\n"
     ]
    }
   ],
   "source": [
    "print(data[::-1])"
   ]
  },
  {
   "cell_type": "markdown",
   "metadata": {},
   "source": [
    "Uno de los inconvenientes de pandas es que hay muchas formas de hacer las mismas cosas, por lo que lo mejor es tener una metodología para realizar algunas acciones que se podrían realizar de varias maneras. Por ejemplo, respecto a la indexación no se suele utilizar directamente la notación `[]` ya que genera confusión en el código al sugerír que se está frente a una lista. En lugar de esto se utilizan los atributos `loc` y `iloc`:"
   ]
  },
  {
   "cell_type": "code",
   "execution_count": 12,
   "metadata": {},
   "outputs": [
    {
     "name": "stdout",
     "output_type": "stream",
     "text": [
      "data.loc['C1'] = Audi\n",
      "data.iloc[0] = Audi\n"
     ]
    }
   ],
   "source": [
    "print(\"data.loc['C1'] =\", data.loc['C1'])   # etiqueta\n",
    "print(\"data.iloc[0] =\", data.iloc[0])       # num index"
   ]
  },
  {
   "cell_type": "markdown",
   "metadata": {},
   "source": [
    "Como se observa, `loc` especifica que se quiere el dato en una *localización* según la etiqueta del índice, miestras que `iloc` especifica que se quiere el dato en una *localización* según el índice de posición. (Si no se ha especificado valores para los índices se tendrá la misma información para ambos casos). Respecto al *index-slicing*:"
   ]
  },
  {
   "cell_type": "code",
   "execution_count": 13,
   "metadata": {},
   "outputs": [
    {
     "name": "stdout",
     "output_type": "stream",
     "text": [
      "data.loc['C1'::2] =\n",
      " C1     Audi\n",
      "C4    Lotus\n",
      "Name: Autos, dtype: object\n",
      "\n",
      "data.iloc[::-2] =\n",
      " C2    Porsche\n",
      "C3    Bugatti\n",
      "Name: Autos, dtype: object\n"
     ]
    }
   ],
   "source": [
    "print(\"data.loc['C1'::2] =\\n\", data.loc['C1'::2])\n",
    "print(\"\\ndata.iloc[::-2] =\\n\", data.iloc[::-2])"
   ]
  },
  {
   "cell_type": "markdown",
   "metadata": {},
   "source": [
    "Como se observa, se soporta *index-slicing* tanto con índices de posicion como con las etiquetas. La diferencia es que si incluye el último elemento:\n"
   ]
  },
  {
   "cell_type": "code",
   "execution_count": 15,
   "metadata": {},
   "outputs": [
    {
     "data": {
      "text/plain": [
       "C1       Audi\n",
       "C3    Bugatti\n",
       "C4      Lotus\n",
       "Name: Autos, dtype: object"
      ]
     },
     "execution_count": 15,
     "metadata": {},
     "output_type": "execute_result"
    }
   ],
   "source": [
    "data.loc['C1':'C4']"
   ]
  },
  {
   "cell_type": "markdown",
   "metadata": {},
   "source": [
    "Así que seguiremos la buena costumbre de utilizar `loc` y `iloc` cuando utilicemos pandas. Mas información sobre esto en la [documentación de Pandas](https://pandas.pydata.org/pandas-docs/stable/user_guide/indexing.html)"
   ]
  },
  {
   "cell_type": "markdown",
   "metadata": {},
   "source": [
    "### Operaciones con Series\n",
    "Las Series también soportan operaciones que dependerán del tipo de datos:"
   ]
  },
  {
   "cell_type": "code",
   "execution_count": 16,
   "metadata": {},
   "outputs": [
    {
     "data": {
      "text/plain": [
       "0    2\n",
       "1    4\n",
       "2    6\n",
       "dtype: int64"
      ]
     },
     "execution_count": 16,
     "metadata": {},
     "output_type": "execute_result"
    }
   ],
   "source": [
    "data = pd.Series([1, 2, 3])\n",
    "data * 2"
   ]
  },
  {
   "cell_type": "code",
   "execution_count": 17,
   "metadata": {},
   "outputs": [
    {
     "data": {
      "text/plain": [
       "0    2\n",
       "1    4\n",
       "2    6\n",
       "dtype: int64"
      ]
     },
     "execution_count": 17,
     "metadata": {},
     "output_type": "execute_result"
    }
   ],
   "source": [
    "data + data"
   ]
  },
  {
   "cell_type": "code",
   "execution_count": 18,
   "metadata": {},
   "outputs": [
    {
     "data": {
      "text/plain": [
       "0    A0\n",
       "1    B0\n",
       "2    C0\n",
       "dtype: object"
      ]
     },
     "execution_count": 18,
     "metadata": {},
     "output_type": "execute_result"
    }
   ],
   "source": [
    "data = pd.Series(['A', 'B', 'C'])\n",
    "data + '0'"
   ]
  },
  {
   "cell_type": "markdown",
   "metadata": {},
   "source": [
    "### Indexación booleana\n",
    "Los Series también soportan indexación booleana:"
   ]
  },
  {
   "cell_type": "code",
   "execution_count": 19,
   "metadata": {},
   "outputs": [
    {
     "name": "stdout",
     "output_type": "stream",
     "text": [
      "0      1\n",
      "1      3\n",
      "2     12\n",
      "3     15\n",
      "4     20\n",
      "5     25\n",
      "6     30\n",
      "7     16\n",
      "8     21\n",
      "9      7\n",
      "10    33\n",
      "dtype: int64\n"
     ]
    }
   ],
   "source": [
    "data = pd.Series([1, 3, 12, 15, 20, 25, 30, 16, 21, 7, 33])\n",
    "print(data)"
   ]
  },
  {
   "cell_type": "code",
   "execution_count": 20,
   "metadata": {},
   "outputs": [
    {
     "data": {
      "text/plain": [
       "0     False\n",
       "1     False\n",
       "2      True\n",
       "3     False\n",
       "4      True\n",
       "5     False\n",
       "6      True\n",
       "7      True\n",
       "8     False\n",
       "9     False\n",
       "10    False\n",
       "dtype: bool"
      ]
     },
     "execution_count": 20,
     "metadata": {},
     "output_type": "execute_result"
    }
   ],
   "source": [
    "data % 2 == 0"
   ]
  },
  {
   "cell_type": "markdown",
   "metadata": {},
   "source": [
    "La operación anterior (una Serie con una operación relacional) retorna una Serie con datos booleanos. Una Serie Booleana se puede utilizar como \"máscara\" para seleccionar los datos de un Serie que cumplen con la condición de la máscara:"
   ]
  },
  {
   "cell_type": "code",
   "execution_count": 21,
   "metadata": {},
   "outputs": [
    {
     "data": {
      "text/plain": [
       "2    12\n",
       "4    20\n",
       "6    30\n",
       "7    16\n",
       "dtype: int64"
      ]
     },
     "execution_count": 21,
     "metadata": {},
     "output_type": "execute_result"
    }
   ],
   "source": [
    "data[data % 2 == 0]"
   ]
  },
  {
   "cell_type": "markdown",
   "metadata": {},
   "source": [
    "### Gestión de índices\n",
    "Los índices también se pueden manipular en una Serie:"
   ]
  },
  {
   "cell_type": "code",
   "execution_count": 22,
   "metadata": {},
   "outputs": [
    {
     "data": {
      "text/plain": [
       "Elvio    80\n",
       "Dina     76\n",
       "Elmer    66\n",
       "dtype: int64"
      ]
     },
     "execution_count": 22,
     "metadata": {},
     "output_type": "execute_result"
    }
   ],
   "source": [
    "data = pd.Series([80, 76, 66])\n",
    "data.index = ['Elvio', 'Dina', 'Elmer']\n",
    "data"
   ]
  },
  {
   "cell_type": "code",
   "execution_count": 23,
   "metadata": {},
   "outputs": [
    {
     "data": {
      "text/plain": [
       "Dina     76\n",
       "Elmer    66\n",
       "Elvio    80\n",
       "dtype: int64"
      ]
     },
     "execution_count": 23,
     "metadata": {},
     "output_type": "execute_result"
    }
   ],
   "source": [
    "data.sort_index()"
   ]
  },
  {
   "cell_type": "markdown",
   "metadata": {},
   "source": [
    "Se puede renombrar los índices utiliando `Series.rename`, utilizando ya sea un diccionario de la forma *{indice_antiguo: indice_nuevo}*, o con una función que tome como argumento de entrada el índice actual:"
   ]
  },
  {
   "cell_type": "code",
   "execution_count": 24,
   "metadata": {},
   "outputs": [
    {
     "data": {
      "text/plain": [
       "Elvio Lado     80\n",
       "Dina Mita      76\n",
       "Elmer Curio    66\n",
       "dtype: int64"
      ]
     },
     "execution_count": 24,
     "metadata": {},
     "output_type": "execute_result"
    }
   ],
   "source": [
    "data.rename({'Dina': 'Dina Mita', 'Elmer': 'Elmer Curio', 'Elvio': 'Elvio Lado'})"
   ]
  },
  {
   "cell_type": "code",
   "execution_count": 25,
   "metadata": {},
   "outputs": [
    {
     "data": {
      "text/plain": [
       "Dr. Elvio    80\n",
       "Dr. Dina     76\n",
       "Dr. Elmer    66\n",
       "dtype: int64"
      ]
     },
     "execution_count": 25,
     "metadata": {},
     "output_type": "execute_result"
    }
   ],
   "source": [
    "data.rename(lambda x: \"Dr. \" + x)       # data.rename(func)"
   ]
  },
  {
   "cell_type": "markdown",
   "metadata": {},
   "source": [
    "### Gestion de los valores NaN\n",
    "Al momento de importar valores a una Serie o un Dataframe, es común que algunos factores no puedan interpretarse correctamente. Ante esta circunstancia, pandas convierte estos valores en NaN (Not a Number)."
   ]
  },
  {
   "cell_type": "code",
   "execution_count": 26,
   "metadata": {},
   "outputs": [
    {
     "name": "stdout",
     "output_type": "stream",
     "text": [
      "0     1.0\n",
      "1    10.0\n",
      "2     NaN\n",
      "3    12.0\n",
      "4    22.0\n",
      "5     NaN\n",
      "dtype: float64\n"
     ]
    }
   ],
   "source": [
    "import numpy as np\n",
    "\n",
    "data = pd.Series([1, 10, np.nan, 12, 22, np.nan])\n",
    "print(data)"
   ]
  },
  {
   "cell_type": "markdown",
   "metadata": {},
   "source": [
    "Una de las primeras tareas al momento de trabajar con los datos es saber si existen valores NaN, ya que estos pueden afectar los calculos a realizar. Una vez detectados, se pueden reemplazar o eliminar de la Serie:"
   ]
  },
  {
   "cell_type": "code",
   "execution_count": 27,
   "metadata": {},
   "outputs": [
    {
     "data": {
      "text/plain": [
       "True"
      ]
     },
     "execution_count": 27,
     "metadata": {},
     "output_type": "execute_result"
    }
   ],
   "source": [
    "# Hay valores NaN en la Serie?\n",
    "any(data.isna())"
   ]
  },
  {
   "cell_type": "code",
   "execution_count": 28,
   "metadata": {},
   "outputs": [
    {
     "data": {
      "text/plain": [
       "0     1.0\n",
       "1    10.0\n",
       "2     0.0\n",
       "3    12.0\n",
       "4    22.0\n",
       "5     0.0\n",
       "dtype: float64"
      ]
     },
     "execution_count": 28,
     "metadata": {},
     "output_type": "execute_result"
    }
   ],
   "source": [
    "# Reemplazar estos valores con 0 (\"inplace=True\" si se quiere fijar!)\n",
    "data.fillna(0)"
   ]
  },
  {
   "cell_type": "code",
   "execution_count": 29,
   "metadata": {},
   "outputs": [
    {
     "data": {
      "text/plain": [
       "0     1.0\n",
       "1    10.0\n",
       "3    12.0\n",
       "4    22.0\n",
       "dtype: float64"
      ]
     },
     "execution_count": 29,
     "metadata": {},
     "output_type": "execute_result"
    }
   ],
   "source": [
    "# Eliminar los valores que sean NaN\n",
    "data.dropna()"
   ]
  },
  {
   "cell_type": "markdown",
   "metadata": {},
   "source": [
    "### Algunos métodos de una Serie\n",
    "Existe una gran cantidad de métodos para realizar operaciones sobre una Serie (o un Dataframe). Es preferible usar siempre los métodos del objeto de pandas en lugar de las BIFs de Python. Por ejemplo, se puede utilizar el BIF `len` tanto como consultar la propiedad `Series.size` para conocer el número de elementos de una Serie:"
   ]
  },
  {
   "cell_type": "code",
   "execution_count": 30,
   "metadata": {},
   "outputs": [
    {
     "name": "stdout",
     "output_type": "stream",
     "text": [
      "6\n",
      "6\n"
     ]
    }
   ],
   "source": [
    "data = pd.Series([1, 10, np.nan, 12, 22, np.nan])\n",
    "print(len(data))\n",
    "print(data.size)"
   ]
  },
  {
   "cell_type": "markdown",
   "metadata": {},
   "source": [
    "Pero no puede decirse lo mismo del BIF `sum` y el método `Series.sum()`:"
   ]
  },
  {
   "cell_type": "code",
   "execution_count": 31,
   "metadata": {},
   "outputs": [
    {
     "name": "stdout",
     "output_type": "stream",
     "text": [
      "nan\n",
      "45.0\n"
     ]
    }
   ],
   "source": [
    "print(sum(data))\n",
    "print(data.sum())    # No considera los elementos NaN"
   ]
  },
  {
   "cell_type": "markdown",
   "metadata": {},
   "source": [
    "Con esta aclaración, se presentan algunos métodos útiles:"
   ]
  },
  {
   "cell_type": "code",
   "execution_count": 32,
   "metadata": {},
   "outputs": [
    {
     "data": {
      "text/plain": [
       "0    30\n",
       "1    13\n",
       "2    16\n",
       "3    20\n",
       "4    39\n",
       "5    22\n",
       "6    16\n",
       "7    17\n",
       "dtype: int64"
      ]
     },
     "execution_count": 32,
     "metadata": {},
     "output_type": "execute_result"
    }
   ],
   "source": [
    "data = pd.Series([30, 13, 16, 20, 39, 22, 16, 17])\n",
    "data"
   ]
  },
  {
   "cell_type": "code",
   "execution_count": 33,
   "metadata": {},
   "outputs": [
    {
     "name": "stdout",
     "output_type": "stream",
     "text": [
      "Numero de elementos: 8\n",
      "Suma de los elementos: 173\n",
      "Promedio de los elementos: 21.625\n",
      "Valor medio de los elementos: 18.5\n",
      "Valor mínimo: 13\n",
      "Valor máximo: 39\n",
      "Indice valor mínimo: 1\n",
      "Indice valor máximo: 4\n"
     ]
    }
   ],
   "source": [
    "# Todos los métodos no consideran los valores NaN en sus operaciones\n",
    "print(\"Numero de elementos:\", data.count())\n",
    "print(\"Suma de los elementos:\", data.sum())\n",
    "print(\"Promedio de los elementos:\", data.mean())\n",
    "print(\"Valor medio de los elementos:\", data.median())\n",
    "print(\"Valor mínimo:\", data.min())\n",
    "print(\"Valor máximo:\", data.max())\n",
    "print(\"Indice valor mínimo:\", data.argmin())\n",
    "print(\"Indice valor máximo:\", data.argmax())"
   ]
  },
  {
   "cell_type": "markdown",
   "metadata": {},
   "source": [
    "Cuando se quiere cambiar los datos de una serie por una operación, se puede utilizar el método `Series.apply()` para aplicar una función sobre los valores:"
   ]
  },
  {
   "cell_type": "code",
   "execution_count": 34,
   "metadata": {},
   "outputs": [
    {
     "data": {
      "text/plain": [
       "0    30.0\n",
       "1    13.0\n",
       "2    16.0\n",
       "3    20.0\n",
       "4    39.0\n",
       "5    22.0\n",
       "6    16.0\n",
       "7    17.0\n",
       "dtype: float64"
      ]
     },
     "execution_count": 34,
     "metadata": {},
     "output_type": "execute_result"
    }
   ],
   "source": [
    "data.apply(lambda x: float(x))         #data.apply(func)"
   ]
  },
  {
   "cell_type": "markdown",
   "metadata": {},
   "source": [
    "Esto es más que suficiente con las Series de pandas. Ayudará mucho a entender con mayor facilidad lo que es un DataFrame, el tipo de datos más común en pandas. Asi que antes de continuar, hay que procesar la información...\n",
    "\n",
    "![](https://1.bp.blogspot.com/-GskJF4leDDM/U2fqYXRZa2I/AAAAAAAADu8/XJMQskW6rvs/s1600/bb.png)"
   ]
  },
  {
   "cell_type": "markdown",
   "metadata": {},
   "source": [
    "## DataFrame\n",
    "Un Dataframe es una estructura tabular bidimensional: una hoja de cálculo, con filas y columnas. Si se consideraba una Serie como una columna en una hoja de cálculo, un DataFrame será una colección de Series con un índice en común."
   ]
  },
  {
   "cell_type": "code",
   "execution_count": 89,
   "metadata": {},
   "outputs": [
    {
     "data": {
      "text/html": [
       "<div>\n",
       "<style scoped>\n",
       "    .dataframe tbody tr th:only-of-type {\n",
       "        vertical-align: middle;\n",
       "    }\n",
       "\n",
       "    .dataframe tbody tr th {\n",
       "        vertical-align: top;\n",
       "    }\n",
       "\n",
       "    .dataframe thead th {\n",
       "        text-align: right;\n",
       "    }\n",
       "</style>\n",
       "<table border=\"1\" class=\"dataframe\">\n",
       "  <thead>\n",
       "    <tr style=\"text-align: right;\">\n",
       "      <th></th>\n",
       "      <th>0</th>\n",
       "    </tr>\n",
       "  </thead>\n",
       "  <tbody>\n",
       "    <tr>\n",
       "      <th>0</th>\n",
       "      <td>A</td>\n",
       "    </tr>\n",
       "    <tr>\n",
       "      <th>1</th>\n",
       "      <td>B</td>\n",
       "    </tr>\n",
       "    <tr>\n",
       "      <th>2</th>\n",
       "      <td>C</td>\n",
       "    </tr>\n",
       "  </tbody>\n",
       "</table>\n",
       "</div>"
      ],
      "text/plain": [
       "   0\n",
       "0  A\n",
       "1  B\n",
       "2  C"
      ]
     },
     "execution_count": 89,
     "metadata": {},
     "output_type": "execute_result"
    }
   ],
   "source": [
    "df = pd.DataFrame(['A', 'B', 'C'])\n",
    "df"
   ]
  },
  {
   "cell_type": "markdown",
   "metadata": {},
   "source": [
    "Como se puede observar, un DataFrame consiste en una coleccion de Series, donde cada uno de estas tiene una etiqueta, es decir el nombre de la columna (aqui es donde tiene sentido que una Serie tenga un nombre entre sus propiedades y un DataFrame no).\n",
    "\n",
    "Definamos un DataFrame como una lista de listas:"
   ]
  },
  {
   "cell_type": "code",
   "execution_count": 35,
   "metadata": {},
   "outputs": [
    {
     "data": {
      "text/html": [
       "<div>\n",
       "<style scoped>\n",
       "    .dataframe tbody tr th:only-of-type {\n",
       "        vertical-align: middle;\n",
       "    }\n",
       "\n",
       "    .dataframe tbody tr th {\n",
       "        vertical-align: top;\n",
       "    }\n",
       "\n",
       "    .dataframe thead th {\n",
       "        text-align: right;\n",
       "    }\n",
       "</style>\n",
       "<table border=\"1\" class=\"dataframe\">\n",
       "  <thead>\n",
       "    <tr style=\"text-align: right;\">\n",
       "      <th></th>\n",
       "      <th>0</th>\n",
       "      <th>1</th>\n",
       "      <th>2</th>\n",
       "    </tr>\n",
       "  </thead>\n",
       "  <tbody>\n",
       "    <tr>\n",
       "      <th>0</th>\n",
       "      <td>A</td>\n",
       "      <td>B</td>\n",
       "      <td>C</td>\n",
       "    </tr>\n",
       "    <tr>\n",
       "      <th>1</th>\n",
       "      <td>D</td>\n",
       "      <td>E</td>\n",
       "      <td>F</td>\n",
       "    </tr>\n",
       "    <tr>\n",
       "      <th>2</th>\n",
       "      <td>G</td>\n",
       "      <td>H</td>\n",
       "      <td>I</td>\n",
       "    </tr>\n",
       "  </tbody>\n",
       "</table>\n",
       "</div>"
      ],
      "text/plain": [
       "   0  1  2\n",
       "0  A  B  C\n",
       "1  D  E  F\n",
       "2  G  H  I"
      ]
     },
     "execution_count": 35,
     "metadata": {},
     "output_type": "execute_result"
    }
   ],
   "source": [
    "df = pd.DataFrame([['A', 'B', 'C'], ['D', 'E', 'F'], ['G', 'H', 'I']])\n",
    "df"
   ]
  },
  {
   "cell_type": "markdown",
   "metadata": {},
   "source": [
    "Aquí se ve con mayor claridad que un DataFrame es una tabla. Se suele definir un DataFrame siendo más explicito con los nombres de las propiedades:"
   ]
  },
  {
   "cell_type": "code",
   "execution_count": 36,
   "metadata": {},
   "outputs": [
    {
     "data": {
      "text/html": [
       "<div>\n",
       "<style scoped>\n",
       "    .dataframe tbody tr th:only-of-type {\n",
       "        vertical-align: middle;\n",
       "    }\n",
       "\n",
       "    .dataframe tbody tr th {\n",
       "        vertical-align: top;\n",
       "    }\n",
       "\n",
       "    .dataframe thead th {\n",
       "        text-align: right;\n",
       "    }\n",
       "</style>\n",
       "<table border=\"1\" class=\"dataframe\">\n",
       "  <thead>\n",
       "    <tr style=\"text-align: right;\">\n",
       "      <th></th>\n",
       "      <th>C1</th>\n",
       "      <th>C2</th>\n",
       "      <th>C3</th>\n",
       "    </tr>\n",
       "  </thead>\n",
       "  <tbody>\n",
       "    <tr>\n",
       "      <th>I1</th>\n",
       "      <td>A</td>\n",
       "      <td>B</td>\n",
       "      <td>C</td>\n",
       "    </tr>\n",
       "    <tr>\n",
       "      <th>I2</th>\n",
       "      <td>D</td>\n",
       "      <td>E</td>\n",
       "      <td>F</td>\n",
       "    </tr>\n",
       "    <tr>\n",
       "      <th>I3</th>\n",
       "      <td>G</td>\n",
       "      <td>H</td>\n",
       "      <td>I</td>\n",
       "    </tr>\n",
       "  </tbody>\n",
       "</table>\n",
       "</div>"
      ],
      "text/plain": [
       "   C1 C2 C3\n",
       "I1  A  B  C\n",
       "I2  D  E  F\n",
       "I3  G  H  I"
      ]
     },
     "execution_count": 36,
     "metadata": {},
     "output_type": "execute_result"
    }
   ],
   "source": [
    "# Una lista de listas define los datos por filas\n",
    "df = pd.DataFrame(data=[['A', 'B', 'C'], ['D', 'E', 'F'], ['G', 'H', 'I']], \n",
    "                  columns=['C1', 'C2', 'C3'], \n",
    "                  index=['I1', 'I2', 'I3'])\n",
    "df"
   ]
  },
  {
   "cell_type": "markdown",
   "metadata": {},
   "source": [
    "También se puede definir un DataFrame a partir de un diccionario, donde la llave será el nombre de la columna y los valores una lista con los datos de la columna."
   ]
  },
  {
   "cell_type": "code",
   "execution_count": 38,
   "metadata": {},
   "outputs": [
    {
     "data": {
      "text/html": [
       "<div>\n",
       "<style scoped>\n",
       "    .dataframe tbody tr th:only-of-type {\n",
       "        vertical-align: middle;\n",
       "    }\n",
       "\n",
       "    .dataframe tbody tr th {\n",
       "        vertical-align: top;\n",
       "    }\n",
       "\n",
       "    .dataframe thead th {\n",
       "        text-align: right;\n",
       "    }\n",
       "</style>\n",
       "<table border=\"1\" class=\"dataframe\">\n",
       "  <thead>\n",
       "    <tr style=\"text-align: right;\">\n",
       "      <th></th>\n",
       "      <th>C1</th>\n",
       "      <th>C2</th>\n",
       "      <th>C3</th>\n",
       "    </tr>\n",
       "  </thead>\n",
       "  <tbody>\n",
       "    <tr>\n",
       "      <th>I1</th>\n",
       "      <td>A</td>\n",
       "      <td>D</td>\n",
       "      <td>G</td>\n",
       "    </tr>\n",
       "    <tr>\n",
       "      <th>I2</th>\n",
       "      <td>B</td>\n",
       "      <td>E</td>\n",
       "      <td>H</td>\n",
       "    </tr>\n",
       "    <tr>\n",
       "      <th>I3</th>\n",
       "      <td>C</td>\n",
       "      <td>F</td>\n",
       "      <td>I</td>\n",
       "    </tr>\n",
       "  </tbody>\n",
       "</table>\n",
       "</div>"
      ],
      "text/plain": [
       "   C1 C2 C3\n",
       "I1  A  D  G\n",
       "I2  B  E  H\n",
       "I3  C  F  I"
      ]
     },
     "execution_count": 38,
     "metadata": {},
     "output_type": "execute_result"
    }
   ],
   "source": [
    "# Un diccionario define los datos por columnas\n",
    "df = pd.DataFrame(data={'C1': ['A', 'B', 'C'], 'C2': ['D', 'E', 'F'], 'C3': ['G', 'H', 'I']}, \n",
    "                  index = ['I1', 'I2', 'I3'])\n",
    "df"
   ]
  },
  {
   "cell_type": "markdown",
   "metadata": {},
   "source": [
    "### Indexación\n",
    "Como sucede con las listas de listas, en un DataFrame la indexación puede ser más complicada... pero si utilizamos `loc` y `iloc` todo se vuelve mucho más sencillo. Si se utiliza `loc` con la etiqueta de un índice, retornará la fila asociada a ese índice:"
   ]
  },
  {
   "cell_type": "code",
   "execution_count": 39,
   "metadata": {},
   "outputs": [
    {
     "data": {
      "text/plain": [
       "C1    A\n",
       "C2    D\n",
       "C3    G\n",
       "Name: I1, dtype: object"
      ]
     },
     "execution_count": 39,
     "metadata": {},
     "output_type": "execute_result"
    }
   ],
   "source": [
    "df.loc['I1']"
   ]
  },
  {
   "cell_type": "code",
   "execution_count": 40,
   "metadata": {},
   "outputs": [
    {
     "data": {
      "text/html": [
       "<div>\n",
       "<style scoped>\n",
       "    .dataframe tbody tr th:only-of-type {\n",
       "        vertical-align: middle;\n",
       "    }\n",
       "\n",
       "    .dataframe tbody tr th {\n",
       "        vertical-align: top;\n",
       "    }\n",
       "\n",
       "    .dataframe thead th {\n",
       "        text-align: right;\n",
       "    }\n",
       "</style>\n",
       "<table border=\"1\" class=\"dataframe\">\n",
       "  <thead>\n",
       "    <tr style=\"text-align: right;\">\n",
       "      <th></th>\n",
       "      <th>C1</th>\n",
       "      <th>C2</th>\n",
       "      <th>C3</th>\n",
       "    </tr>\n",
       "  </thead>\n",
       "  <tbody>\n",
       "    <tr>\n",
       "      <th>I3</th>\n",
       "      <td>C</td>\n",
       "      <td>F</td>\n",
       "      <td>I</td>\n",
       "    </tr>\n",
       "    <tr>\n",
       "      <th>I2</th>\n",
       "      <td>B</td>\n",
       "      <td>E</td>\n",
       "      <td>H</td>\n",
       "    </tr>\n",
       "    <tr>\n",
       "      <th>I1</th>\n",
       "      <td>A</td>\n",
       "      <td>D</td>\n",
       "      <td>G</td>\n",
       "    </tr>\n",
       "  </tbody>\n",
       "</table>\n",
       "</div>"
      ],
      "text/plain": [
       "   C1 C2 C3\n",
       "I3  C  F  I\n",
       "I2  B  E  H\n",
       "I1  A  D  G"
      ]
     },
     "execution_count": 40,
     "metadata": {},
     "output_type": "execute_result"
    }
   ],
   "source": [
    "df.loc['I3'::-1]"
   ]
  },
  {
   "cell_type": "markdown",
   "metadata": {},
   "source": [
    "Por otro lado, con `iloc` puede especificar los indices de los datos de forma bidimensional (como si fuera un `array`):"
   ]
  },
  {
   "cell_type": "code",
   "execution_count": 41,
   "metadata": {},
   "outputs": [
    {
     "data": {
      "text/plain": [
       "C1    A\n",
       "C2    D\n",
       "C3    G\n",
       "Name: I1, dtype: object"
      ]
     },
     "execution_count": 41,
     "metadata": {},
     "output_type": "execute_result"
    }
   ],
   "source": [
    "df.iloc[0]"
   ]
  },
  {
   "cell_type": "code",
   "execution_count": 42,
   "metadata": {},
   "outputs": [
    {
     "data": {
      "text/plain": [
       "C2    D\n",
       "C3    G\n",
       "Name: I1, dtype: object"
      ]
     },
     "execution_count": 42,
     "metadata": {},
     "output_type": "execute_result"
    }
   ],
   "source": [
    "df.iloc[0, 1:]"
   ]
  },
  {
   "cell_type": "markdown",
   "metadata": {},
   "source": [
    "Considerando que un DataFrame es una colección de Series, es decir de columnas, utilizar directamente la indexación con `[]` da acceso a las columnas. En este formato no tenemos *index-slicing*, por lo que deberémos esoecificar una lista de etiquetas de columnas para obtener un sub DataFrame:"
   ]
  },
  {
   "cell_type": "code",
   "execution_count": 43,
   "metadata": {},
   "outputs": [
    {
     "data": {
      "text/plain": [
       "I1    D\n",
       "I2    E\n",
       "I3    F\n",
       "Name: C2, dtype: object"
      ]
     },
     "execution_count": 43,
     "metadata": {},
     "output_type": "execute_result"
    }
   ],
   "source": [
    "df['C2']"
   ]
  },
  {
   "cell_type": "code",
   "execution_count": 44,
   "metadata": {},
   "outputs": [
    {
     "data": {
      "text/html": [
       "<div>\n",
       "<style scoped>\n",
       "    .dataframe tbody tr th:only-of-type {\n",
       "        vertical-align: middle;\n",
       "    }\n",
       "\n",
       "    .dataframe tbody tr th {\n",
       "        vertical-align: top;\n",
       "    }\n",
       "\n",
       "    .dataframe thead th {\n",
       "        text-align: right;\n",
       "    }\n",
       "</style>\n",
       "<table border=\"1\" class=\"dataframe\">\n",
       "  <thead>\n",
       "    <tr style=\"text-align: right;\">\n",
       "      <th></th>\n",
       "      <th>C2</th>\n",
       "      <th>C3</th>\n",
       "    </tr>\n",
       "  </thead>\n",
       "  <tbody>\n",
       "    <tr>\n",
       "      <th>I1</th>\n",
       "      <td>D</td>\n",
       "      <td>G</td>\n",
       "    </tr>\n",
       "    <tr>\n",
       "      <th>I2</th>\n",
       "      <td>E</td>\n",
       "      <td>H</td>\n",
       "    </tr>\n",
       "    <tr>\n",
       "      <th>I3</th>\n",
       "      <td>F</td>\n",
       "      <td>I</td>\n",
       "    </tr>\n",
       "  </tbody>\n",
       "</table>\n",
       "</div>"
      ],
      "text/plain": [
       "   C2 C3\n",
       "I1  D  G\n",
       "I2  E  H\n",
       "I3  F  I"
      ]
     },
     "execution_count": 44,
     "metadata": {},
     "output_type": "execute_result"
    }
   ],
   "source": [
    "df[['C2', 'C3']]"
   ]
  },
  {
   "cell_type": "markdown",
   "metadata": {},
   "source": [
    "Pero esto mismo se puede realizar con `loc`, si se considerán dos etiquetas de índices de la forma `[fila, columna]`:"
   ]
  },
  {
   "cell_type": "code",
   "execution_count": 45,
   "metadata": {},
   "outputs": [
    {
     "data": {
      "text/html": [
       "<div>\n",
       "<style scoped>\n",
       "    .dataframe tbody tr th:only-of-type {\n",
       "        vertical-align: middle;\n",
       "    }\n",
       "\n",
       "    .dataframe tbody tr th {\n",
       "        vertical-align: top;\n",
       "    }\n",
       "\n",
       "    .dataframe thead th {\n",
       "        text-align: right;\n",
       "    }\n",
       "</style>\n",
       "<table border=\"1\" class=\"dataframe\">\n",
       "  <thead>\n",
       "    <tr style=\"text-align: right;\">\n",
       "      <th></th>\n",
       "      <th>C2</th>\n",
       "      <th>C3</th>\n",
       "    </tr>\n",
       "  </thead>\n",
       "  <tbody>\n",
       "    <tr>\n",
       "      <th>I1</th>\n",
       "      <td>D</td>\n",
       "      <td>G</td>\n",
       "    </tr>\n",
       "    <tr>\n",
       "      <th>I2</th>\n",
       "      <td>E</td>\n",
       "      <td>H</td>\n",
       "    </tr>\n",
       "    <tr>\n",
       "      <th>I3</th>\n",
       "      <td>F</td>\n",
       "      <td>I</td>\n",
       "    </tr>\n",
       "  </tbody>\n",
       "</table>\n",
       "</div>"
      ],
      "text/plain": [
       "   C2 C3\n",
       "I1  D  G\n",
       "I2  E  H\n",
       "I3  F  I"
      ]
     },
     "execution_count": 45,
     "metadata": {},
     "output_type": "execute_result"
    }
   ],
   "source": [
    "df.loc[:, 'C2':]"
   ]
  },
  {
   "cell_type": "markdown",
   "metadata": {},
   "source": [
    "Así que sigue siendo una buena regla utilizar `loc` y `iloc`: el primero con índices de posición, y el segundo con etiquetas de filas y columnas con soporte de *index-slicing*."
   ]
  },
  {
   "cell_type": "markdown",
   "metadata": {},
   "source": [
    "### DataFrame como iterable\n",
    "¿Y qué pasará si se ingresa un DataFrame a un iterador como un lazo for?:"
   ]
  },
  {
   "cell_type": "code",
   "execution_count": 46,
   "metadata": {},
   "outputs": [
    {
     "name": "stdout",
     "output_type": "stream",
     "text": [
      "C1\n",
      "C2\n",
      "C3\n"
     ]
    }
   ],
   "source": [
    "for item in df:\n",
    "    print(item)"
   ]
  },
  {
   "cell_type": "markdown",
   "metadata": {},
   "source": [
    "Solo devolverá las columnas. ¿Tiene sentido? Si se considera que un DataFrame es una coleccion de columnas, si. Se puede utilizar la siguiente contrucción de código con el metodo `DataFrame.get()` (homólogo de `Series.at()` para una serie), por ejemplo:"
   ]
  },
  {
   "cell_type": "code",
   "execution_count": 47,
   "metadata": {},
   "outputs": [
    {
     "name": "stdout",
     "output_type": "stream",
     "text": [
      "I1    A\n",
      "I2    B\n",
      "I3    C\n",
      "Name: C1, dtype: object\n",
      "I1    D\n",
      "I2    E\n",
      "I3    F\n",
      "Name: C2, dtype: object\n",
      "I1    G\n",
      "I2    H\n",
      "I3    I\n",
      "Name: C3, dtype: object\n"
     ]
    }
   ],
   "source": [
    "for col in df:\n",
    "    print(df.get(col))"
   ]
  },
  {
   "cell_type": "markdown",
   "metadata": {},
   "source": [
    "### Eliminar datos en un DataFrame\n",
    "En una estructura bidimensional, al momento de eliminar valores, se debe de eliminar filas o columnas completas. Para esto utilizamos el método `DataFrame.drop()`:"
   ]
  },
  {
   "cell_type": "code",
   "execution_count": 48,
   "metadata": {},
   "outputs": [
    {
     "data": {
      "text/html": [
       "<div>\n",
       "<style scoped>\n",
       "    .dataframe tbody tr th:only-of-type {\n",
       "        vertical-align: middle;\n",
       "    }\n",
       "\n",
       "    .dataframe tbody tr th {\n",
       "        vertical-align: top;\n",
       "    }\n",
       "\n",
       "    .dataframe thead th {\n",
       "        text-align: right;\n",
       "    }\n",
       "</style>\n",
       "<table border=\"1\" class=\"dataframe\">\n",
       "  <thead>\n",
       "    <tr style=\"text-align: right;\">\n",
       "      <th></th>\n",
       "      <th>C1</th>\n",
       "      <th>C2</th>\n",
       "      <th>C3</th>\n",
       "    </tr>\n",
       "  </thead>\n",
       "  <tbody>\n",
       "    <tr>\n",
       "      <th>I1</th>\n",
       "      <td>A</td>\n",
       "      <td>B</td>\n",
       "      <td>C</td>\n",
       "    </tr>\n",
       "    <tr>\n",
       "      <th>I2</th>\n",
       "      <td>D</td>\n",
       "      <td>E</td>\n",
       "      <td>F</td>\n",
       "    </tr>\n",
       "    <tr>\n",
       "      <th>I3</th>\n",
       "      <td>G</td>\n",
       "      <td>H</td>\n",
       "      <td>I</td>\n",
       "    </tr>\n",
       "  </tbody>\n",
       "</table>\n",
       "</div>"
      ],
      "text/plain": [
       "   C1 C2 C3\n",
       "I1  A  B  C\n",
       "I2  D  E  F\n",
       "I3  G  H  I"
      ]
     },
     "execution_count": 48,
     "metadata": {},
     "output_type": "execute_result"
    }
   ],
   "source": [
    "df = pd.DataFrame(data=[['A', 'B', 'C'], ['D', 'E', 'F'], ['G', 'H', 'I']], \n",
    "                  columns=['C1', 'C2', 'C3'], \n",
    "                  index=['I1', 'I2', 'I3'])\n",
    "df"
   ]
  },
  {
   "cell_type": "code",
   "execution_count": 49,
   "metadata": {},
   "outputs": [
    {
     "data": {
      "text/html": [
       "<div>\n",
       "<style scoped>\n",
       "    .dataframe tbody tr th:only-of-type {\n",
       "        vertical-align: middle;\n",
       "    }\n",
       "\n",
       "    .dataframe tbody tr th {\n",
       "        vertical-align: top;\n",
       "    }\n",
       "\n",
       "    .dataframe thead th {\n",
       "        text-align: right;\n",
       "    }\n",
       "</style>\n",
       "<table border=\"1\" class=\"dataframe\">\n",
       "  <thead>\n",
       "    <tr style=\"text-align: right;\">\n",
       "      <th></th>\n",
       "      <th>C1</th>\n",
       "      <th>C2</th>\n",
       "      <th>C3</th>\n",
       "    </tr>\n",
       "  </thead>\n",
       "  <tbody>\n",
       "    <tr>\n",
       "      <th>I1</th>\n",
       "      <td>A</td>\n",
       "      <td>B</td>\n",
       "      <td>C</td>\n",
       "    </tr>\n",
       "    <tr>\n",
       "      <th>I3</th>\n",
       "      <td>G</td>\n",
       "      <td>H</td>\n",
       "      <td>I</td>\n",
       "    </tr>\n",
       "  </tbody>\n",
       "</table>\n",
       "</div>"
      ],
      "text/plain": [
       "   C1 C2 C3\n",
       "I1  A  B  C\n",
       "I3  G  H  I"
      ]
     },
     "execution_count": 49,
     "metadata": {},
     "output_type": "execute_result"
    }
   ],
   "source": [
    "df.drop(index='I2')      # df.drop('I2', axis=0)"
   ]
  },
  {
   "cell_type": "code",
   "execution_count": 50,
   "metadata": {},
   "outputs": [
    {
     "data": {
      "text/html": [
       "<div>\n",
       "<style scoped>\n",
       "    .dataframe tbody tr th:only-of-type {\n",
       "        vertical-align: middle;\n",
       "    }\n",
       "\n",
       "    .dataframe tbody tr th {\n",
       "        vertical-align: top;\n",
       "    }\n",
       "\n",
       "    .dataframe thead th {\n",
       "        text-align: right;\n",
       "    }\n",
       "</style>\n",
       "<table border=\"1\" class=\"dataframe\">\n",
       "  <thead>\n",
       "    <tr style=\"text-align: right;\">\n",
       "      <th></th>\n",
       "      <th>C1</th>\n",
       "      <th>C3</th>\n",
       "    </tr>\n",
       "  </thead>\n",
       "  <tbody>\n",
       "    <tr>\n",
       "      <th>I1</th>\n",
       "      <td>A</td>\n",
       "      <td>C</td>\n",
       "    </tr>\n",
       "    <tr>\n",
       "      <th>I2</th>\n",
       "      <td>D</td>\n",
       "      <td>F</td>\n",
       "    </tr>\n",
       "    <tr>\n",
       "      <th>I3</th>\n",
       "      <td>G</td>\n",
       "      <td>I</td>\n",
       "    </tr>\n",
       "  </tbody>\n",
       "</table>\n",
       "</div>"
      ],
      "text/plain": [
       "   C1 C3\n",
       "I1  A  C\n",
       "I2  D  F\n",
       "I3  G  I"
      ]
     },
     "execution_count": 50,
     "metadata": {},
     "output_type": "execute_result"
    }
   ],
   "source": [
    "df.drop(columns='C2')"
   ]
  },
  {
   "cell_type": "code",
   "execution_count": 51,
   "metadata": {},
   "outputs": [
    {
     "data": {
      "text/html": [
       "<div>\n",
       "<style scoped>\n",
       "    .dataframe tbody tr th:only-of-type {\n",
       "        vertical-align: middle;\n",
       "    }\n",
       "\n",
       "    .dataframe tbody tr th {\n",
       "        vertical-align: top;\n",
       "    }\n",
       "\n",
       "    .dataframe thead th {\n",
       "        text-align: right;\n",
       "    }\n",
       "</style>\n",
       "<table border=\"1\" class=\"dataframe\">\n",
       "  <thead>\n",
       "    <tr style=\"text-align: right;\">\n",
       "      <th></th>\n",
       "      <th>C2</th>\n",
       "    </tr>\n",
       "  </thead>\n",
       "  <tbody>\n",
       "    <tr>\n",
       "      <th>I1</th>\n",
       "      <td>B</td>\n",
       "    </tr>\n",
       "    <tr>\n",
       "      <th>I2</th>\n",
       "      <td>E</td>\n",
       "    </tr>\n",
       "    <tr>\n",
       "      <th>I3</th>\n",
       "      <td>H</td>\n",
       "    </tr>\n",
       "  </tbody>\n",
       "</table>\n",
       "</div>"
      ],
      "text/plain": [
       "   C2\n",
       "I1  B\n",
       "I2  E\n",
       "I3  H"
      ]
     },
     "execution_count": 51,
     "metadata": {},
     "output_type": "execute_result"
    }
   ],
   "source": [
    "df.drop(columns=['C1', 'C3'])"
   ]
  },
  {
   "cell_type": "markdown",
   "metadata": {},
   "source": [
    "Al igual que en las Series, estas operaciones retornan un nuevo DataFrame, por lo que si se quiere modificar el mismo DataFrame será necesario especificar el atributo `inplace=True`.\n",
    "\n",
    "Existe una excepción a esto: `DataFrame.pop()`, que extrae una columna de un DataFrame, lo que resulta lógico ya que al extraer la columna y retornarla como resutado, la elimina del DataFrame."
   ]
  },
  {
   "cell_type": "code",
   "execution_count": 52,
   "metadata": {},
   "outputs": [
    {
     "name": "stdout",
     "output_type": "stream",
     "text": [
      "I1    B\n",
      "I2    E\n",
      "I3    H\n",
      "Name: C2, dtype: object\n",
      "   C1 C3\n",
      "I1  A  C\n",
      "I2  D  F\n",
      "I3  G  I\n"
     ]
    }
   ],
   "source": [
    "fil = df.pop('C2')\n",
    "print(fil)\n",
    "print(df)"
   ]
  },
  {
   "cell_type": "markdown",
   "metadata": {},
   "source": [
    "## Importación de datos\n",
    "Una de las grandes ventajas de la librería pandas es la capacidad de importación de datos desde diversas fuentes. Vamos a trabajar con algunas fuentes de datos:"
   ]
  },
  {
   "cell_type": "markdown",
   "metadata": {},
   "source": [
    "### CSV"
   ]
  },
  {
   "cell_type": "code",
   "execution_count": 53,
   "metadata": {},
   "outputs": [],
   "source": [
    "df = pd.read_csv(\"dataset_la_liga.csv\")"
   ]
  },
  {
   "cell_type": "code",
   "execution_count": 54,
   "metadata": {},
   "outputs": [
    {
     "data": {
      "text/html": [
       "<div>\n",
       "<style scoped>\n",
       "    .dataframe tbody tr th:only-of-type {\n",
       "        vertical-align: middle;\n",
       "    }\n",
       "\n",
       "    .dataframe tbody tr th {\n",
       "        vertical-align: top;\n",
       "    }\n",
       "\n",
       "    .dataframe thead th {\n",
       "        text-align: right;\n",
       "    }\n",
       "</style>\n",
       "<table border=\"1\" class=\"dataframe\">\n",
       "  <thead>\n",
       "    <tr style=\"text-align: right;\">\n",
       "      <th></th>\n",
       "      <th>season</th>\n",
       "      <th>club</th>\n",
       "      <th>home_win</th>\n",
       "      <th>away_win</th>\n",
       "      <th>home_loss</th>\n",
       "      <th>away_loss</th>\n",
       "      <th>matches_won</th>\n",
       "      <th>matches_lost</th>\n",
       "      <th>matches_drawn</th>\n",
       "      <th>total_matches</th>\n",
       "      <th>points</th>\n",
       "      <th>home_goals</th>\n",
       "      <th>away_goals</th>\n",
       "      <th>goals_scored</th>\n",
       "      <th>goals_conceded</th>\n",
       "      <th>goal_difference</th>\n",
       "    </tr>\n",
       "  </thead>\n",
       "  <tbody>\n",
       "    <tr>\n",
       "      <th>0</th>\n",
       "      <td>1970-71</td>\n",
       "      <td>Real Zaragoza</td>\n",
       "      <td>3</td>\n",
       "      <td>0</td>\n",
       "      <td>5</td>\n",
       "      <td>13</td>\n",
       "      <td>3</td>\n",
       "      <td>18</td>\n",
       "      <td>9</td>\n",
       "      <td>30</td>\n",
       "      <td>18</td>\n",
       "      <td>14</td>\n",
       "      <td>8</td>\n",
       "      <td>22</td>\n",
       "      <td>54</td>\n",
       "      <td>-32</td>\n",
       "    </tr>\n",
       "    <tr>\n",
       "      <th>1</th>\n",
       "      <td>1970-71</td>\n",
       "      <td>Elche</td>\n",
       "      <td>4</td>\n",
       "      <td>0</td>\n",
       "      <td>5</td>\n",
       "      <td>11</td>\n",
       "      <td>4</td>\n",
       "      <td>16</td>\n",
       "      <td>10</td>\n",
       "      <td>30</td>\n",
       "      <td>22</td>\n",
       "      <td>17</td>\n",
       "      <td>8</td>\n",
       "      <td>25</td>\n",
       "      <td>46</td>\n",
       "      <td>-21</td>\n",
       "    </tr>\n",
       "    <tr>\n",
       "      <th>2</th>\n",
       "      <td>1970-71</td>\n",
       "      <td>Las Palmas</td>\n",
       "      <td>5</td>\n",
       "      <td>0</td>\n",
       "      <td>3</td>\n",
       "      <td>12</td>\n",
       "      <td>5</td>\n",
       "      <td>15</td>\n",
       "      <td>10</td>\n",
       "      <td>30</td>\n",
       "      <td>25</td>\n",
       "      <td>25</td>\n",
       "      <td>8</td>\n",
       "      <td>33</td>\n",
       "      <td>42</td>\n",
       "      <td>-9</td>\n",
       "    </tr>\n",
       "    <tr>\n",
       "      <th>3</th>\n",
       "      <td>1970-71</td>\n",
       "      <td>Sabadell</td>\n",
       "      <td>8</td>\n",
       "      <td>0</td>\n",
       "      <td>3</td>\n",
       "      <td>14</td>\n",
       "      <td>8</td>\n",
       "      <td>17</td>\n",
       "      <td>5</td>\n",
       "      <td>30</td>\n",
       "      <td>29</td>\n",
       "      <td>19</td>\n",
       "      <td>9</td>\n",
       "      <td>28</td>\n",
       "      <td>49</td>\n",
       "      <td>-21</td>\n",
       "    </tr>\n",
       "    <tr>\n",
       "      <th>4</th>\n",
       "      <td>1970-71</td>\n",
       "      <td>Espanyol</td>\n",
       "      <td>7</td>\n",
       "      <td>1</td>\n",
       "      <td>4</td>\n",
       "      <td>9</td>\n",
       "      <td>8</td>\n",
       "      <td>13</td>\n",
       "      <td>9</td>\n",
       "      <td>30</td>\n",
       "      <td>33</td>\n",
       "      <td>13</td>\n",
       "      <td>5</td>\n",
       "      <td>18</td>\n",
       "      <td>25</td>\n",
       "      <td>-7</td>\n",
       "    </tr>\n",
       "  </tbody>\n",
       "</table>\n",
       "</div>"
      ],
      "text/plain": [
       "    season           club  home_win  away_win  home_loss  away_loss  \\\n",
       "0  1970-71  Real Zaragoza         3         0          5         13   \n",
       "1  1970-71          Elche         4         0          5         11   \n",
       "2  1970-71     Las Palmas         5         0          3         12   \n",
       "3  1970-71       Sabadell         8         0          3         14   \n",
       "4  1970-71       Espanyol         7         1          4          9   \n",
       "\n",
       "   matches_won  matches_lost  matches_drawn  total_matches  points  \\\n",
       "0            3            18              9             30      18   \n",
       "1            4            16             10             30      22   \n",
       "2            5            15             10             30      25   \n",
       "3            8            17              5             30      29   \n",
       "4            8            13              9             30      33   \n",
       "\n",
       "   home_goals  away_goals  goals_scored  goals_conceded  goal_difference  \n",
       "0          14           8            22              54              -32  \n",
       "1          17           8            25              46              -21  \n",
       "2          25           8            33              42               -9  \n",
       "3          19           9            28              49              -21  \n",
       "4          13           5            18              25               -7  "
      ]
     },
     "execution_count": 54,
     "metadata": {},
     "output_type": "execute_result"
    }
   ],
   "source": [
    "df.head()    # Se muestran las primeras filas (por defecto, 5)"
   ]
  },
  {
   "cell_type": "code",
   "execution_count": 55,
   "metadata": {},
   "outputs": [
    {
     "data": {
      "text/html": [
       "<div>\n",
       "<style scoped>\n",
       "    .dataframe tbody tr th:only-of-type {\n",
       "        vertical-align: middle;\n",
       "    }\n",
       "\n",
       "    .dataframe tbody tr th {\n",
       "        vertical-align: top;\n",
       "    }\n",
       "\n",
       "    .dataframe thead th {\n",
       "        text-align: right;\n",
       "    }\n",
       "</style>\n",
       "<table border=\"1\" class=\"dataframe\">\n",
       "  <thead>\n",
       "    <tr style=\"text-align: right;\">\n",
       "      <th></th>\n",
       "      <th>season</th>\n",
       "      <th>club</th>\n",
       "      <th>home_win</th>\n",
       "      <th>away_win</th>\n",
       "      <th>home_loss</th>\n",
       "      <th>away_loss</th>\n",
       "      <th>matches_won</th>\n",
       "      <th>matches_lost</th>\n",
       "      <th>matches_drawn</th>\n",
       "      <th>total_matches</th>\n",
       "      <th>points</th>\n",
       "      <th>home_goals</th>\n",
       "      <th>away_goals</th>\n",
       "      <th>goals_scored</th>\n",
       "      <th>goals_conceded</th>\n",
       "      <th>goal_difference</th>\n",
       "    </tr>\n",
       "  </thead>\n",
       "  <tbody>\n",
       "    <tr>\n",
       "      <th>903</th>\n",
       "      <td>2016-17</td>\n",
       "      <td>Villarreal</td>\n",
       "      <td>11</td>\n",
       "      <td>8</td>\n",
       "      <td>4</td>\n",
       "      <td>5</td>\n",
       "      <td>19</td>\n",
       "      <td>9</td>\n",
       "      <td>10</td>\n",
       "      <td>38</td>\n",
       "      <td>67</td>\n",
       "      <td>35</td>\n",
       "      <td>21</td>\n",
       "      <td>56</td>\n",
       "      <td>33</td>\n",
       "      <td>23</td>\n",
       "    </tr>\n",
       "    <tr>\n",
       "      <th>904</th>\n",
       "      <td>2016-17</td>\n",
       "      <td>Sevilla</td>\n",
       "      <td>14</td>\n",
       "      <td>7</td>\n",
       "      <td>1</td>\n",
       "      <td>7</td>\n",
       "      <td>21</td>\n",
       "      <td>8</td>\n",
       "      <td>9</td>\n",
       "      <td>38</td>\n",
       "      <td>72</td>\n",
       "      <td>39</td>\n",
       "      <td>30</td>\n",
       "      <td>69</td>\n",
       "      <td>49</td>\n",
       "      <td>20</td>\n",
       "    </tr>\n",
       "    <tr>\n",
       "      <th>905</th>\n",
       "      <td>2016-17</td>\n",
       "      <td>Atletico de Madrid</td>\n",
       "      <td>14</td>\n",
       "      <td>9</td>\n",
       "      <td>3</td>\n",
       "      <td>3</td>\n",
       "      <td>23</td>\n",
       "      <td>6</td>\n",
       "      <td>9</td>\n",
       "      <td>38</td>\n",
       "      <td>78</td>\n",
       "      <td>40</td>\n",
       "      <td>30</td>\n",
       "      <td>70</td>\n",
       "      <td>27</td>\n",
       "      <td>43</td>\n",
       "    </tr>\n",
       "    <tr>\n",
       "      <th>906</th>\n",
       "      <td>2016-17</td>\n",
       "      <td>Barcelona</td>\n",
       "      <td>15</td>\n",
       "      <td>13</td>\n",
       "      <td>1</td>\n",
       "      <td>3</td>\n",
       "      <td>28</td>\n",
       "      <td>4</td>\n",
       "      <td>6</td>\n",
       "      <td>38</td>\n",
       "      <td>90</td>\n",
       "      <td>64</td>\n",
       "      <td>52</td>\n",
       "      <td>116</td>\n",
       "      <td>37</td>\n",
       "      <td>79</td>\n",
       "    </tr>\n",
       "    <tr>\n",
       "      <th>907</th>\n",
       "      <td>2016-17</td>\n",
       "      <td>Real Madrid</td>\n",
       "      <td>14</td>\n",
       "      <td>15</td>\n",
       "      <td>1</td>\n",
       "      <td>2</td>\n",
       "      <td>29</td>\n",
       "      <td>3</td>\n",
       "      <td>6</td>\n",
       "      <td>38</td>\n",
       "      <td>93</td>\n",
       "      <td>48</td>\n",
       "      <td>58</td>\n",
       "      <td>106</td>\n",
       "      <td>41</td>\n",
       "      <td>65</td>\n",
       "    </tr>\n",
       "  </tbody>\n",
       "</table>\n",
       "</div>"
      ],
      "text/plain": [
       "      season                club  home_win  away_win  home_loss  away_loss  \\\n",
       "903  2016-17          Villarreal        11         8          4          5   \n",
       "904  2016-17             Sevilla        14         7          1          7   \n",
       "905  2016-17  Atletico de Madrid        14         9          3          3   \n",
       "906  2016-17           Barcelona        15        13          1          3   \n",
       "907  2016-17         Real Madrid        14        15          1          2   \n",
       "\n",
       "     matches_won  matches_lost  matches_drawn  total_matches  points  \\\n",
       "903           19             9             10             38      67   \n",
       "904           21             8              9             38      72   \n",
       "905           23             6              9             38      78   \n",
       "906           28             4              6             38      90   \n",
       "907           29             3              6             38      93   \n",
       "\n",
       "     home_goals  away_goals  goals_scored  goals_conceded  goal_difference  \n",
       "903          35          21            56              33               23  \n",
       "904          39          30            69              49               20  \n",
       "905          40          30            70              27               43  \n",
       "906          64          52           116              37               79  \n",
       "907          48          58           106              41               65  "
      ]
     },
     "execution_count": 55,
     "metadata": {},
     "output_type": "execute_result"
    }
   ],
   "source": [
    "df.tail()     # Se muestras las últimas filas (por defecto, 5)"
   ]
  },
  {
   "cell_type": "markdown",
   "metadata": {},
   "source": [
    "### JSON\n",
    "Un archivo JSON se puede importar hacia un DataFrame utilizando el método `DataFrame.read_json(json_file)` siempre y cuando tenga la siguiente estructura:\n",
    "    \n",
    "    {columna1: \n",
    "        {\n",
    "            fila1: data, \n",
    "            fila2, data, ...\n",
    "        }, \n",
    "     columna2: \n",
    "        {\n",
    "            fila1: data, \n",
    "            fila2: data, ...\n",
    "        }, ...\n",
    "    }\n",
    "    \n",
    "De lo contrario, se se podrá \"aplanar\" los datos en una tabla.\n",
    "\n",
    "Si se quieren leer los datos de un archivo JSON con una estrutura anidada, se debe de navegar por la estructura del archivo para extraer estructuras aplanadas que puedan ser trasladadas a una estructura tabular, y utilizar el método `DataFrame.from_dict()` ya que se tendrá un diccionario:"
   ]
  },
  {
   "cell_type": "code",
   "execution_count": 56,
   "metadata": {},
   "outputs": [],
   "source": [
    "import json\n",
    "\n",
    "# FUENTE: https://pomber.github.io/covid19/timeseries.json\n",
    "\n",
    "with open(\"covid_data.json\") as file:\n",
    "    data = json.load(file)\n",
    "\n",
    "df = pd.DataFrame.from_dict(data['Peru'])     # tambien se puede utilizar from_records"
   ]
  },
  {
   "cell_type": "code",
   "execution_count": 57,
   "metadata": {},
   "outputs": [
    {
     "data": {
      "text/html": [
       "<div>\n",
       "<style scoped>\n",
       "    .dataframe tbody tr th:only-of-type {\n",
       "        vertical-align: middle;\n",
       "    }\n",
       "\n",
       "    .dataframe tbody tr th {\n",
       "        vertical-align: top;\n",
       "    }\n",
       "\n",
       "    .dataframe thead th {\n",
       "        text-align: right;\n",
       "    }\n",
       "</style>\n",
       "<table border=\"1\" class=\"dataframe\">\n",
       "  <thead>\n",
       "    <tr style=\"text-align: right;\">\n",
       "      <th></th>\n",
       "      <th>date</th>\n",
       "      <th>confirmed</th>\n",
       "      <th>deaths</th>\n",
       "      <th>recovered</th>\n",
       "    </tr>\n",
       "  </thead>\n",
       "  <tbody>\n",
       "    <tr>\n",
       "      <th>0</th>\n",
       "      <td>2020-1-22</td>\n",
       "      <td>0</td>\n",
       "      <td>0</td>\n",
       "      <td>0</td>\n",
       "    </tr>\n",
       "    <tr>\n",
       "      <th>1</th>\n",
       "      <td>2020-1-23</td>\n",
       "      <td>0</td>\n",
       "      <td>0</td>\n",
       "      <td>0</td>\n",
       "    </tr>\n",
       "    <tr>\n",
       "      <th>2</th>\n",
       "      <td>2020-1-24</td>\n",
       "      <td>0</td>\n",
       "      <td>0</td>\n",
       "      <td>0</td>\n",
       "    </tr>\n",
       "    <tr>\n",
       "      <th>3</th>\n",
       "      <td>2020-1-25</td>\n",
       "      <td>0</td>\n",
       "      <td>0</td>\n",
       "      <td>0</td>\n",
       "    </tr>\n",
       "    <tr>\n",
       "      <th>4</th>\n",
       "      <td>2020-1-26</td>\n",
       "      <td>0</td>\n",
       "      <td>0</td>\n",
       "      <td>0</td>\n",
       "    </tr>\n",
       "  </tbody>\n",
       "</table>\n",
       "</div>"
      ],
      "text/plain": [
       "        date  confirmed  deaths  recovered\n",
       "0  2020-1-22          0       0          0\n",
       "1  2020-1-23          0       0          0\n",
       "2  2020-1-24          0       0          0\n",
       "3  2020-1-25          0       0          0\n",
       "4  2020-1-26          0       0          0"
      ]
     },
     "execution_count": 57,
     "metadata": {},
     "output_type": "execute_result"
    }
   ],
   "source": [
    "df.head()"
   ]
  },
  {
   "cell_type": "code",
   "execution_count": 58,
   "metadata": {},
   "outputs": [
    {
     "data": {
      "text/html": [
       "<div>\n",
       "<style scoped>\n",
       "    .dataframe tbody tr th:only-of-type {\n",
       "        vertical-align: middle;\n",
       "    }\n",
       "\n",
       "    .dataframe tbody tr th {\n",
       "        vertical-align: top;\n",
       "    }\n",
       "\n",
       "    .dataframe thead th {\n",
       "        text-align: right;\n",
       "    }\n",
       "</style>\n",
       "<table border=\"1\" class=\"dataframe\">\n",
       "  <thead>\n",
       "    <tr style=\"text-align: right;\">\n",
       "      <th></th>\n",
       "      <th>date</th>\n",
       "      <th>confirmed</th>\n",
       "      <th>deaths</th>\n",
       "      <th>recovered</th>\n",
       "    </tr>\n",
       "  </thead>\n",
       "  <tbody>\n",
       "    <tr>\n",
       "      <th>744</th>\n",
       "      <td>2022-2-4</td>\n",
       "      <td>3331290</td>\n",
       "      <td>206646</td>\n",
       "      <td>0</td>\n",
       "    </tr>\n",
       "    <tr>\n",
       "      <th>745</th>\n",
       "      <td>2022-2-5</td>\n",
       "      <td>3349298</td>\n",
       "      <td>206891</td>\n",
       "      <td>0</td>\n",
       "    </tr>\n",
       "    <tr>\n",
       "      <th>746</th>\n",
       "      <td>2022-2-6</td>\n",
       "      <td>3363489</td>\n",
       "      <td>206984</td>\n",
       "      <td>0</td>\n",
       "    </tr>\n",
       "    <tr>\n",
       "      <th>747</th>\n",
       "      <td>2022-2-7</td>\n",
       "      <td>3363489</td>\n",
       "      <td>206984</td>\n",
       "      <td>0</td>\n",
       "    </tr>\n",
       "    <tr>\n",
       "      <th>748</th>\n",
       "      <td>2022-2-8</td>\n",
       "      <td>3384546</td>\n",
       "      <td>207312</td>\n",
       "      <td>0</td>\n",
       "    </tr>\n",
       "  </tbody>\n",
       "</table>\n",
       "</div>"
      ],
      "text/plain": [
       "         date  confirmed  deaths  recovered\n",
       "744  2022-2-4    3331290  206646          0\n",
       "745  2022-2-5    3349298  206891          0\n",
       "746  2022-2-6    3363489  206984          0\n",
       "747  2022-2-7    3363489  206984          0\n",
       "748  2022-2-8    3384546  207312          0"
      ]
     },
     "execution_count": 58,
     "metadata": {},
     "output_type": "execute_result"
    }
   ],
   "source": [
    "df.tail()"
   ]
  },
  {
   "cell_type": "markdown",
   "metadata": {},
   "source": [
    "### Excel\n",
    "Se pueden importar datos de un archivo Excel hacia un DataFrame:"
   ]
  },
  {
   "cell_type": "code",
   "execution_count": 59,
   "metadata": {},
   "outputs": [],
   "source": [
    "df = pd.read_excel(\"SampleData.xlsx\", sheet_name=\"SalesOrders\")"
   ]
  },
  {
   "cell_type": "code",
   "execution_count": 60,
   "metadata": {},
   "outputs": [
    {
     "data": {
      "text/html": [
       "<div>\n",
       "<style scoped>\n",
       "    .dataframe tbody tr th:only-of-type {\n",
       "        vertical-align: middle;\n",
       "    }\n",
       "\n",
       "    .dataframe tbody tr th {\n",
       "        vertical-align: top;\n",
       "    }\n",
       "\n",
       "    .dataframe thead th {\n",
       "        text-align: right;\n",
       "    }\n",
       "</style>\n",
       "<table border=\"1\" class=\"dataframe\">\n",
       "  <thead>\n",
       "    <tr style=\"text-align: right;\">\n",
       "      <th></th>\n",
       "      <th>OrderDate</th>\n",
       "      <th>Region</th>\n",
       "      <th>Rep</th>\n",
       "      <th>Item</th>\n",
       "      <th>Units</th>\n",
       "      <th>Unit Cost</th>\n",
       "      <th>Total</th>\n",
       "    </tr>\n",
       "  </thead>\n",
       "  <tbody>\n",
       "    <tr>\n",
       "      <th>0</th>\n",
       "      <td>2019-01-06</td>\n",
       "      <td>East</td>\n",
       "      <td>Jones</td>\n",
       "      <td>Pencil</td>\n",
       "      <td>95</td>\n",
       "      <td>1.99</td>\n",
       "      <td>189.05</td>\n",
       "    </tr>\n",
       "    <tr>\n",
       "      <th>1</th>\n",
       "      <td>2019-01-23</td>\n",
       "      <td>Central</td>\n",
       "      <td>Kivell</td>\n",
       "      <td>Binder</td>\n",
       "      <td>50</td>\n",
       "      <td>19.99</td>\n",
       "      <td>999.50</td>\n",
       "    </tr>\n",
       "    <tr>\n",
       "      <th>2</th>\n",
       "      <td>2019-02-09</td>\n",
       "      <td>Central</td>\n",
       "      <td>Jardine</td>\n",
       "      <td>Pencil</td>\n",
       "      <td>36</td>\n",
       "      <td>4.99</td>\n",
       "      <td>179.64</td>\n",
       "    </tr>\n",
       "    <tr>\n",
       "      <th>3</th>\n",
       "      <td>2019-02-26</td>\n",
       "      <td>Central</td>\n",
       "      <td>Gill</td>\n",
       "      <td>Pen</td>\n",
       "      <td>27</td>\n",
       "      <td>19.99</td>\n",
       "      <td>539.73</td>\n",
       "    </tr>\n",
       "    <tr>\n",
       "      <th>4</th>\n",
       "      <td>2019-03-15</td>\n",
       "      <td>West</td>\n",
       "      <td>Sorvino</td>\n",
       "      <td>Pencil</td>\n",
       "      <td>56</td>\n",
       "      <td>2.99</td>\n",
       "      <td>167.44</td>\n",
       "    </tr>\n",
       "  </tbody>\n",
       "</table>\n",
       "</div>"
      ],
      "text/plain": [
       "   OrderDate   Region      Rep    Item  Units  Unit Cost   Total\n",
       "0 2019-01-06     East    Jones  Pencil     95       1.99  189.05\n",
       "1 2019-01-23  Central   Kivell  Binder     50      19.99  999.50\n",
       "2 2019-02-09  Central  Jardine  Pencil     36       4.99  179.64\n",
       "3 2019-02-26  Central     Gill     Pen     27      19.99  539.73\n",
       "4 2019-03-15     West  Sorvino  Pencil     56       2.99  167.44"
      ]
     },
     "execution_count": 60,
     "metadata": {},
     "output_type": "execute_result"
    }
   ],
   "source": [
    "df.head()"
   ]
  },
  {
   "cell_type": "code",
   "execution_count": 61,
   "metadata": {},
   "outputs": [
    {
     "data": {
      "text/html": [
       "<div>\n",
       "<style scoped>\n",
       "    .dataframe tbody tr th:only-of-type {\n",
       "        vertical-align: middle;\n",
       "    }\n",
       "\n",
       "    .dataframe tbody tr th {\n",
       "        vertical-align: top;\n",
       "    }\n",
       "\n",
       "    .dataframe thead th {\n",
       "        text-align: right;\n",
       "    }\n",
       "</style>\n",
       "<table border=\"1\" class=\"dataframe\">\n",
       "  <thead>\n",
       "    <tr style=\"text-align: right;\">\n",
       "      <th></th>\n",
       "      <th>OrderDate</th>\n",
       "      <th>Region</th>\n",
       "      <th>Rep</th>\n",
       "      <th>Item</th>\n",
       "      <th>Units</th>\n",
       "      <th>Unit Cost</th>\n",
       "      <th>Total</th>\n",
       "    </tr>\n",
       "  </thead>\n",
       "  <tbody>\n",
       "    <tr>\n",
       "      <th>38</th>\n",
       "      <td>2020-10-14</td>\n",
       "      <td>West</td>\n",
       "      <td>Thompson</td>\n",
       "      <td>Binder</td>\n",
       "      <td>57</td>\n",
       "      <td>19.99</td>\n",
       "      <td>1139.43</td>\n",
       "    </tr>\n",
       "    <tr>\n",
       "      <th>39</th>\n",
       "      <td>2020-10-31</td>\n",
       "      <td>Central</td>\n",
       "      <td>Andrews</td>\n",
       "      <td>Pencil</td>\n",
       "      <td>14</td>\n",
       "      <td>1.29</td>\n",
       "      <td>18.06</td>\n",
       "    </tr>\n",
       "    <tr>\n",
       "      <th>40</th>\n",
       "      <td>2020-11-17</td>\n",
       "      <td>Central</td>\n",
       "      <td>Jardine</td>\n",
       "      <td>Binder</td>\n",
       "      <td>11</td>\n",
       "      <td>4.99</td>\n",
       "      <td>54.89</td>\n",
       "    </tr>\n",
       "    <tr>\n",
       "      <th>41</th>\n",
       "      <td>2020-12-04</td>\n",
       "      <td>Central</td>\n",
       "      <td>Jardine</td>\n",
       "      <td>Binder</td>\n",
       "      <td>94</td>\n",
       "      <td>19.99</td>\n",
       "      <td>1879.06</td>\n",
       "    </tr>\n",
       "    <tr>\n",
       "      <th>42</th>\n",
       "      <td>2020-12-21</td>\n",
       "      <td>Central</td>\n",
       "      <td>Andrews</td>\n",
       "      <td>Binder</td>\n",
       "      <td>28</td>\n",
       "      <td>4.99</td>\n",
       "      <td>139.72</td>\n",
       "    </tr>\n",
       "  </tbody>\n",
       "</table>\n",
       "</div>"
      ],
      "text/plain": [
       "    OrderDate   Region       Rep    Item  Units  Unit Cost    Total\n",
       "38 2020-10-14     West  Thompson  Binder     57      19.99  1139.43\n",
       "39 2020-10-31  Central   Andrews  Pencil     14       1.29    18.06\n",
       "40 2020-11-17  Central   Jardine  Binder     11       4.99    54.89\n",
       "41 2020-12-04  Central   Jardine  Binder     94      19.99  1879.06\n",
       "42 2020-12-21  Central   Andrews  Binder     28       4.99   139.72"
      ]
     },
     "execution_count": 61,
     "metadata": {},
     "output_type": "execute_result"
    }
   ],
   "source": [
    "df.tail()"
   ]
  },
  {
   "cell_type": "markdown",
   "metadata": {},
   "source": [
    "### HTML\n",
    "Si se tiene una fuente web con una tabla incrustada (es decir, con etiquetas `<tb>`, `<tr>`, `<td>`), pandas puede importar los datos hacia un DataFrame utilizando algunos recursos adicionales."
   ]
  },
  {
   "cell_type": "code",
   "execution_count": 86,
   "metadata": {},
   "outputs": [],
   "source": [
    "import requests\n",
    "import ssl\n",
    "\n",
    "ssl._create_default_https_context = ssl._create_unverified_context\n",
    "\n",
    "URL = \"https://finance.yahoo.com/quote/BTC-USD/history?p=BTC-USD&guccounter=1\"\n",
    "r = requests.get(URL, headers ={'User-Agent':'Mozilla/5.0 (Windows NT 10.0; Win64; x64) AppleWebKit/537.36 (KHTML, like Gecko) Chrome/91.0.4472.124 Safari/537.36'})\n",
    "data = pd.read_html(r.content)"
   ]
  },
  {
   "cell_type": "markdown",
   "metadata": {},
   "source": [
    "Si se observa el resultado obtenido se verá que es una lista que contendrá todos los bloques del recurso web con información relevante."
   ]
  },
  {
   "cell_type": "code",
   "execution_count": 87,
   "metadata": {},
   "outputs": [
    {
     "name": "stdout",
     "output_type": "stream",
     "text": [
      "<class 'list'>\n",
      "1\n"
     ]
    }
   ],
   "source": [
    "print(type(data))\n",
    "print(len(data))"
   ]
  },
  {
   "cell_type": "markdown",
   "metadata": {},
   "source": [
    "Para este caso, el elemento de índice 3 es el que tiene la información relevante, por lo que ajustamos nuestra instrucción:"
   ]
  },
  {
   "cell_type": "code",
   "execution_count": 88,
   "metadata": {},
   "outputs": [
    {
     "data": {
      "text/html": [
       "<div>\n",
       "<style scoped>\n",
       "    .dataframe tbody tr th:only-of-type {\n",
       "        vertical-align: middle;\n",
       "    }\n",
       "\n",
       "    .dataframe tbody tr th {\n",
       "        vertical-align: top;\n",
       "    }\n",
       "\n",
       "    .dataframe thead th {\n",
       "        text-align: right;\n",
       "    }\n",
       "</style>\n",
       "<table border=\"1\" class=\"dataframe\">\n",
       "  <thead>\n",
       "    <tr style=\"text-align: right;\">\n",
       "      <th></th>\n",
       "      <th>Date</th>\n",
       "      <th>Open</th>\n",
       "      <th>High</th>\n",
       "      <th>Low</th>\n",
       "      <th>Close*</th>\n",
       "      <th>Adj Close**</th>\n",
       "      <th>Volume</th>\n",
       "    </tr>\n",
       "  </thead>\n",
       "  <tbody>\n",
       "    <tr>\n",
       "      <th>0</th>\n",
       "      <td>Feb 09, 2022</td>\n",
       "      <td>44053.98</td>\n",
       "      <td>44336.65</td>\n",
       "      <td>43249.79</td>\n",
       "      <td>43916.53</td>\n",
       "      <td>43916.53</td>\n",
       "      <td>25166172160</td>\n",
       "    </tr>\n",
       "    <tr>\n",
       "      <th>1</th>\n",
       "      <td>Feb 08, 2022</td>\n",
       "      <td>43854.65</td>\n",
       "      <td>45293.87</td>\n",
       "      <td>42807.84</td>\n",
       "      <td>44118.45</td>\n",
       "      <td>44118.45</td>\n",
       "      <td>33079398868</td>\n",
       "    </tr>\n",
       "    <tr>\n",
       "      <th>2</th>\n",
       "      <td>Feb 07, 2022</td>\n",
       "      <td>42406.78</td>\n",
       "      <td>44401.86</td>\n",
       "      <td>41748.16</td>\n",
       "      <td>43840.29</td>\n",
       "      <td>43840.29</td>\n",
       "      <td>28641855926</td>\n",
       "    </tr>\n",
       "    <tr>\n",
       "      <th>3</th>\n",
       "      <td>Feb 06, 2022</td>\n",
       "      <td>41441.12</td>\n",
       "      <td>42500.79</td>\n",
       "      <td>41244.91</td>\n",
       "      <td>42412.43</td>\n",
       "      <td>42412.43</td>\n",
       "      <td>16142097334</td>\n",
       "    </tr>\n",
       "    <tr>\n",
       "      <th>4</th>\n",
       "      <td>Feb 05, 2022</td>\n",
       "      <td>41501.48</td>\n",
       "      <td>41847.16</td>\n",
       "      <td>41038.10</td>\n",
       "      <td>41441.16</td>\n",
       "      <td>41441.16</td>\n",
       "      <td>19652846215</td>\n",
       "    </tr>\n",
       "  </tbody>\n",
       "</table>\n",
       "</div>"
      ],
      "text/plain": [
       "           Date      Open      High       Low    Close* Adj Close**  \\\n",
       "0  Feb 09, 2022  44053.98  44336.65  43249.79  43916.53    43916.53   \n",
       "1  Feb 08, 2022  43854.65  45293.87  42807.84  44118.45    44118.45   \n",
       "2  Feb 07, 2022  42406.78  44401.86  41748.16  43840.29    43840.29   \n",
       "3  Feb 06, 2022  41441.12  42500.79  41244.91  42412.43    42412.43   \n",
       "4  Feb 05, 2022  41501.48  41847.16  41038.10  41441.16    41441.16   \n",
       "\n",
       "        Volume  \n",
       "0  25166172160  \n",
       "1  33079398868  \n",
       "2  28641855926  \n",
       "3  16142097334  \n",
       "4  19652846215  "
      ]
     },
     "execution_count": 88,
     "metadata": {},
     "output_type": "execute_result"
    }
   ],
   "source": [
    "df = data[0]\n",
    "df.head()"
   ]
  },
  {
   "cell_type": "code",
   "execution_count": 89,
   "metadata": {},
   "outputs": [
    {
     "data": {
      "text/html": [
       "<div>\n",
       "<style scoped>\n",
       "    .dataframe tbody tr th:only-of-type {\n",
       "        vertical-align: middle;\n",
       "    }\n",
       "\n",
       "    .dataframe tbody tr th {\n",
       "        vertical-align: top;\n",
       "    }\n",
       "\n",
       "    .dataframe thead th {\n",
       "        text-align: right;\n",
       "    }\n",
       "</style>\n",
       "<table border=\"1\" class=\"dataframe\">\n",
       "  <thead>\n",
       "    <tr style=\"text-align: right;\">\n",
       "      <th></th>\n",
       "      <th>Date</th>\n",
       "      <th>Open</th>\n",
       "      <th>High</th>\n",
       "      <th>Low</th>\n",
       "      <th>Close*</th>\n",
       "      <th>Adj Close**</th>\n",
       "      <th>Volume</th>\n",
       "    </tr>\n",
       "  </thead>\n",
       "  <tbody>\n",
       "    <tr>\n",
       "      <th>96</th>\n",
       "      <td>Nov 05, 2021</td>\n",
       "      <td>61460.08</td>\n",
       "      <td>62541.47</td>\n",
       "      <td>60844.61</td>\n",
       "      <td>61125.68</td>\n",
       "      <td>61125.68</td>\n",
       "      <td>30605102446</td>\n",
       "    </tr>\n",
       "    <tr>\n",
       "      <th>97</th>\n",
       "      <td>Nov 04, 2021</td>\n",
       "      <td>62941.80</td>\n",
       "      <td>63123.29</td>\n",
       "      <td>60799.66</td>\n",
       "      <td>61452.23</td>\n",
       "      <td>61452.23</td>\n",
       "      <td>32615846901</td>\n",
       "    </tr>\n",
       "    <tr>\n",
       "      <th>98</th>\n",
       "      <td>Nov 03, 2021</td>\n",
       "      <td>63254.34</td>\n",
       "      <td>63516.94</td>\n",
       "      <td>61184.24</td>\n",
       "      <td>62970.05</td>\n",
       "      <td>62970.05</td>\n",
       "      <td>36124731509</td>\n",
       "    </tr>\n",
       "    <tr>\n",
       "      <th>99</th>\n",
       "      <td>Nov 02, 2021</td>\n",
       "      <td>60963.25</td>\n",
       "      <td>64242.79</td>\n",
       "      <td>60673.05</td>\n",
       "      <td>63226.40</td>\n",
       "      <td>63226.40</td>\n",
       "      <td>37746665647</td>\n",
       "    </tr>\n",
       "    <tr>\n",
       "      <th>100</th>\n",
       "      <td>*Close price adjusted for splits.**Adjusted cl...</td>\n",
       "      <td>*Close price adjusted for splits.**Adjusted cl...</td>\n",
       "      <td>*Close price adjusted for splits.**Adjusted cl...</td>\n",
       "      <td>*Close price adjusted for splits.**Adjusted cl...</td>\n",
       "      <td>*Close price adjusted for splits.**Adjusted cl...</td>\n",
       "      <td>*Close price adjusted for splits.**Adjusted cl...</td>\n",
       "      <td>*Close price adjusted for splits.**Adjusted cl...</td>\n",
       "    </tr>\n",
       "  </tbody>\n",
       "</table>\n",
       "</div>"
      ],
      "text/plain": [
       "                                                  Date  \\\n",
       "96                                        Nov 05, 2021   \n",
       "97                                        Nov 04, 2021   \n",
       "98                                        Nov 03, 2021   \n",
       "99                                        Nov 02, 2021   \n",
       "100  *Close price adjusted for splits.**Adjusted cl...   \n",
       "\n",
       "                                                  Open  \\\n",
       "96                                            61460.08   \n",
       "97                                            62941.80   \n",
       "98                                            63254.34   \n",
       "99                                            60963.25   \n",
       "100  *Close price adjusted for splits.**Adjusted cl...   \n",
       "\n",
       "                                                  High  \\\n",
       "96                                            62541.47   \n",
       "97                                            63123.29   \n",
       "98                                            63516.94   \n",
       "99                                            64242.79   \n",
       "100  *Close price adjusted for splits.**Adjusted cl...   \n",
       "\n",
       "                                                   Low  \\\n",
       "96                                            60844.61   \n",
       "97                                            60799.66   \n",
       "98                                            61184.24   \n",
       "99                                            60673.05   \n",
       "100  *Close price adjusted for splits.**Adjusted cl...   \n",
       "\n",
       "                                                Close*  \\\n",
       "96                                            61125.68   \n",
       "97                                            61452.23   \n",
       "98                                            62970.05   \n",
       "99                                            63226.40   \n",
       "100  *Close price adjusted for splits.**Adjusted cl...   \n",
       "\n",
       "                                           Adj Close**  \\\n",
       "96                                            61125.68   \n",
       "97                                            61452.23   \n",
       "98                                            62970.05   \n",
       "99                                            63226.40   \n",
       "100  *Close price adjusted for splits.**Adjusted cl...   \n",
       "\n",
       "                                                Volume  \n",
       "96                                         30605102446  \n",
       "97                                         32615846901  \n",
       "98                                         36124731509  \n",
       "99                                         37746665647  \n",
       "100  *Close price adjusted for splits.**Adjusted cl...  "
      ]
     },
     "execution_count": 89,
     "metadata": {},
     "output_type": "execute_result"
    }
   ],
   "source": [
    "df.tail()"
   ]
  },
  {
   "cell_type": "markdown",
   "metadata": {},
   "source": [
    "## Exportar datos\n",
    "Un DataFrame se puede exportar a una de las fuentes anteriores. Los detalles de estas operaciones escapan al alcance de este curso y lo mejor es consultar la documentación de pandas.\n",
    "\n",
    "- DataFrame.to_csv()\n",
    "- DataFrame.to_json()\n",
    "- DataFrame.to_excel()\n",
    "- DataFrame.to_html()"
   ]
  },
  {
   "cell_type": "markdown",
   "metadata": {},
   "source": [
    "## `DataFrame.to_datetime` y `DatetimeIndex`\n",
    "En muchas ocasiones, la columnas que contienen fechas son importadas como texto (`object`) y lo que se requiere es tenerlas como objetos `datetime`."
   ]
  },
  {
   "cell_type": "code",
   "execution_count": 90,
   "metadata": {},
   "outputs": [],
   "source": [
    "df.drop(index=100, inplace=True)"
   ]
  },
  {
   "cell_type": "code",
   "execution_count": 91,
   "metadata": {},
   "outputs": [
    {
     "data": {
      "text/html": [
       "<div>\n",
       "<style scoped>\n",
       "    .dataframe tbody tr th:only-of-type {\n",
       "        vertical-align: middle;\n",
       "    }\n",
       "\n",
       "    .dataframe tbody tr th {\n",
       "        vertical-align: top;\n",
       "    }\n",
       "\n",
       "    .dataframe thead th {\n",
       "        text-align: right;\n",
       "    }\n",
       "</style>\n",
       "<table border=\"1\" class=\"dataframe\">\n",
       "  <thead>\n",
       "    <tr style=\"text-align: right;\">\n",
       "      <th></th>\n",
       "      <th>Date</th>\n",
       "      <th>Open</th>\n",
       "      <th>High</th>\n",
       "      <th>Low</th>\n",
       "      <th>Close*</th>\n",
       "      <th>Adj Close**</th>\n",
       "      <th>Volume</th>\n",
       "    </tr>\n",
       "  </thead>\n",
       "  <tbody>\n",
       "    <tr>\n",
       "      <th>0</th>\n",
       "      <td>2022-02-09</td>\n",
       "      <td>44053.98</td>\n",
       "      <td>44336.65</td>\n",
       "      <td>43249.79</td>\n",
       "      <td>43916.53</td>\n",
       "      <td>43916.53</td>\n",
       "      <td>25166172160</td>\n",
       "    </tr>\n",
       "    <tr>\n",
       "      <th>1</th>\n",
       "      <td>2022-02-08</td>\n",
       "      <td>43854.65</td>\n",
       "      <td>45293.87</td>\n",
       "      <td>42807.84</td>\n",
       "      <td>44118.45</td>\n",
       "      <td>44118.45</td>\n",
       "      <td>33079398868</td>\n",
       "    </tr>\n",
       "    <tr>\n",
       "      <th>2</th>\n",
       "      <td>2022-02-07</td>\n",
       "      <td>42406.78</td>\n",
       "      <td>44401.86</td>\n",
       "      <td>41748.16</td>\n",
       "      <td>43840.29</td>\n",
       "      <td>43840.29</td>\n",
       "      <td>28641855926</td>\n",
       "    </tr>\n",
       "    <tr>\n",
       "      <th>3</th>\n",
       "      <td>2022-02-06</td>\n",
       "      <td>41441.12</td>\n",
       "      <td>42500.79</td>\n",
       "      <td>41244.91</td>\n",
       "      <td>42412.43</td>\n",
       "      <td>42412.43</td>\n",
       "      <td>16142097334</td>\n",
       "    </tr>\n",
       "    <tr>\n",
       "      <th>4</th>\n",
       "      <td>2022-02-05</td>\n",
       "      <td>41501.48</td>\n",
       "      <td>41847.16</td>\n",
       "      <td>41038.10</td>\n",
       "      <td>41441.16</td>\n",
       "      <td>41441.16</td>\n",
       "      <td>19652846215</td>\n",
       "    </tr>\n",
       "  </tbody>\n",
       "</table>\n",
       "</div>"
      ],
      "text/plain": [
       "        Date      Open      High       Low    Close* Adj Close**       Volume\n",
       "0 2022-02-09  44053.98  44336.65  43249.79  43916.53    43916.53  25166172160\n",
       "1 2022-02-08  43854.65  45293.87  42807.84  44118.45    44118.45  33079398868\n",
       "2 2022-02-07  42406.78  44401.86  41748.16  43840.29    43840.29  28641855926\n",
       "3 2022-02-06  41441.12  42500.79  41244.91  42412.43    42412.43  16142097334\n",
       "4 2022-02-05  41501.48  41847.16  41038.10  41441.16    41441.16  19652846215"
      ]
     },
     "execution_count": 91,
     "metadata": {},
     "output_type": "execute_result"
    }
   ],
   "source": [
    "df['Date'] = pd.to_datetime(df['Date'])\n",
    "df.head()"
   ]
  },
  {
   "cell_type": "markdown",
   "metadata": {},
   "source": [
    "Por otro lado, en otras ocasiones se requiere que las etiquetas de los índices de las columnas sean objetos datetime. Para esto se utiliza `DataFrame.DatetimeIndex(Serie)`. La Serie o columna que se convertirá en un índice tipo datetime puede contener objetos datetime o ser `str` con un formato que pueda ser convertido a un datetime."
   ]
  },
  {
   "cell_type": "code",
   "execution_count": 92,
   "metadata": {},
   "outputs": [],
   "source": [
    "df.index = pd.DatetimeIndex(df['Date'])"
   ]
  },
  {
   "cell_type": "code",
   "execution_count": 93,
   "metadata": {
    "scrolled": true
   },
   "outputs": [
    {
     "data": {
      "text/html": [
       "<div>\n",
       "<style scoped>\n",
       "    .dataframe tbody tr th:only-of-type {\n",
       "        vertical-align: middle;\n",
       "    }\n",
       "\n",
       "    .dataframe tbody tr th {\n",
       "        vertical-align: top;\n",
       "    }\n",
       "\n",
       "    .dataframe thead th {\n",
       "        text-align: right;\n",
       "    }\n",
       "</style>\n",
       "<table border=\"1\" class=\"dataframe\">\n",
       "  <thead>\n",
       "    <tr style=\"text-align: right;\">\n",
       "      <th></th>\n",
       "      <th>Date</th>\n",
       "      <th>Open</th>\n",
       "      <th>High</th>\n",
       "      <th>Low</th>\n",
       "      <th>Close*</th>\n",
       "      <th>Adj Close**</th>\n",
       "      <th>Volume</th>\n",
       "    </tr>\n",
       "    <tr>\n",
       "      <th>Date</th>\n",
       "      <th></th>\n",
       "      <th></th>\n",
       "      <th></th>\n",
       "      <th></th>\n",
       "      <th></th>\n",
       "      <th></th>\n",
       "      <th></th>\n",
       "    </tr>\n",
       "  </thead>\n",
       "  <tbody>\n",
       "    <tr>\n",
       "      <th>2022-02-09</th>\n",
       "      <td>2022-02-09</td>\n",
       "      <td>44053.98</td>\n",
       "      <td>44336.65</td>\n",
       "      <td>43249.79</td>\n",
       "      <td>43916.53</td>\n",
       "      <td>43916.53</td>\n",
       "      <td>25166172160</td>\n",
       "    </tr>\n",
       "    <tr>\n",
       "      <th>2022-02-08</th>\n",
       "      <td>2022-02-08</td>\n",
       "      <td>43854.65</td>\n",
       "      <td>45293.87</td>\n",
       "      <td>42807.84</td>\n",
       "      <td>44118.45</td>\n",
       "      <td>44118.45</td>\n",
       "      <td>33079398868</td>\n",
       "    </tr>\n",
       "    <tr>\n",
       "      <th>2022-02-07</th>\n",
       "      <td>2022-02-07</td>\n",
       "      <td>42406.78</td>\n",
       "      <td>44401.86</td>\n",
       "      <td>41748.16</td>\n",
       "      <td>43840.29</td>\n",
       "      <td>43840.29</td>\n",
       "      <td>28641855926</td>\n",
       "    </tr>\n",
       "    <tr>\n",
       "      <th>2022-02-06</th>\n",
       "      <td>2022-02-06</td>\n",
       "      <td>41441.12</td>\n",
       "      <td>42500.79</td>\n",
       "      <td>41244.91</td>\n",
       "      <td>42412.43</td>\n",
       "      <td>42412.43</td>\n",
       "      <td>16142097334</td>\n",
       "    </tr>\n",
       "    <tr>\n",
       "      <th>2022-02-05</th>\n",
       "      <td>2022-02-05</td>\n",
       "      <td>41501.48</td>\n",
       "      <td>41847.16</td>\n",
       "      <td>41038.10</td>\n",
       "      <td>41441.16</td>\n",
       "      <td>41441.16</td>\n",
       "      <td>19652846215</td>\n",
       "    </tr>\n",
       "  </tbody>\n",
       "</table>\n",
       "</div>"
      ],
      "text/plain": [
       "                 Date      Open      High       Low    Close* Adj Close**  \\\n",
       "Date                                                                        \n",
       "2022-02-09 2022-02-09  44053.98  44336.65  43249.79  43916.53    43916.53   \n",
       "2022-02-08 2022-02-08  43854.65  45293.87  42807.84  44118.45    44118.45   \n",
       "2022-02-07 2022-02-07  42406.78  44401.86  41748.16  43840.29    43840.29   \n",
       "2022-02-06 2022-02-06  41441.12  42500.79  41244.91  42412.43    42412.43   \n",
       "2022-02-05 2022-02-05  41501.48  41847.16  41038.10  41441.16    41441.16   \n",
       "\n",
       "                 Volume  \n",
       "Date                     \n",
       "2022-02-09  25166172160  \n",
       "2022-02-08  33079398868  \n",
       "2022-02-07  28641855926  \n",
       "2022-02-06  16142097334  \n",
       "2022-02-05  19652846215  "
      ]
     },
     "execution_count": 93,
     "metadata": {},
     "output_type": "execute_result"
    }
   ],
   "source": [
    "df.head()"
   ]
  },
  {
   "cell_type": "code",
   "execution_count": 96,
   "metadata": {},
   "outputs": [],
   "source": [
    "df.drop(columns='Date', inplace=True)"
   ]
  },
  {
   "cell_type": "code",
   "execution_count": 97,
   "metadata": {},
   "outputs": [
    {
     "data": {
      "text/html": [
       "<div>\n",
       "<style scoped>\n",
       "    .dataframe tbody tr th:only-of-type {\n",
       "        vertical-align: middle;\n",
       "    }\n",
       "\n",
       "    .dataframe tbody tr th {\n",
       "        vertical-align: top;\n",
       "    }\n",
       "\n",
       "    .dataframe thead th {\n",
       "        text-align: right;\n",
       "    }\n",
       "</style>\n",
       "<table border=\"1\" class=\"dataframe\">\n",
       "  <thead>\n",
       "    <tr style=\"text-align: right;\">\n",
       "      <th></th>\n",
       "      <th>Open</th>\n",
       "      <th>High</th>\n",
       "      <th>Low</th>\n",
       "      <th>Close*</th>\n",
       "      <th>Adj Close**</th>\n",
       "      <th>Volume</th>\n",
       "    </tr>\n",
       "    <tr>\n",
       "      <th>Date</th>\n",
       "      <th></th>\n",
       "      <th></th>\n",
       "      <th></th>\n",
       "      <th></th>\n",
       "      <th></th>\n",
       "      <th></th>\n",
       "    </tr>\n",
       "  </thead>\n",
       "  <tbody>\n",
       "    <tr>\n",
       "      <th>2022-02-09</th>\n",
       "      <td>44053.98</td>\n",
       "      <td>44336.65</td>\n",
       "      <td>43249.79</td>\n",
       "      <td>43916.53</td>\n",
       "      <td>43916.53</td>\n",
       "      <td>25166172160</td>\n",
       "    </tr>\n",
       "    <tr>\n",
       "      <th>2022-02-08</th>\n",
       "      <td>43854.65</td>\n",
       "      <td>45293.87</td>\n",
       "      <td>42807.84</td>\n",
       "      <td>44118.45</td>\n",
       "      <td>44118.45</td>\n",
       "      <td>33079398868</td>\n",
       "    </tr>\n",
       "    <tr>\n",
       "      <th>2022-02-07</th>\n",
       "      <td>42406.78</td>\n",
       "      <td>44401.86</td>\n",
       "      <td>41748.16</td>\n",
       "      <td>43840.29</td>\n",
       "      <td>43840.29</td>\n",
       "      <td>28641855926</td>\n",
       "    </tr>\n",
       "    <tr>\n",
       "      <th>2022-02-06</th>\n",
       "      <td>41441.12</td>\n",
       "      <td>42500.79</td>\n",
       "      <td>41244.91</td>\n",
       "      <td>42412.43</td>\n",
       "      <td>42412.43</td>\n",
       "      <td>16142097334</td>\n",
       "    </tr>\n",
       "    <tr>\n",
       "      <th>2022-02-05</th>\n",
       "      <td>41501.48</td>\n",
       "      <td>41847.16</td>\n",
       "      <td>41038.10</td>\n",
       "      <td>41441.16</td>\n",
       "      <td>41441.16</td>\n",
       "      <td>19652846215</td>\n",
       "    </tr>\n",
       "  </tbody>\n",
       "</table>\n",
       "</div>"
      ],
      "text/plain": [
       "                Open      High       Low    Close* Adj Close**       Volume\n",
       "Date                                                                       \n",
       "2022-02-09  44053.98  44336.65  43249.79  43916.53    43916.53  25166172160\n",
       "2022-02-08  43854.65  45293.87  42807.84  44118.45    44118.45  33079398868\n",
       "2022-02-07  42406.78  44401.86  41748.16  43840.29    43840.29  28641855926\n",
       "2022-02-06  41441.12  42500.79  41244.91  42412.43    42412.43  16142097334\n",
       "2022-02-05  41501.48  41847.16  41038.10  41441.16    41441.16  19652846215"
      ]
     },
     "execution_count": 97,
     "metadata": {},
     "output_type": "execute_result"
    }
   ],
   "source": [
    "df.head()"
   ]
  },
  {
   "cell_type": "markdown",
   "metadata": {},
   "source": [
    "## TimeSeries y datos financieros\n",
    "Un TimeSeries es un DataFrame en donde los indices son datos del tipo `datetime`, como en el caso anterior. Ests tipo de bloque de datos es tan común en el análisis de datos que Pandas tiene formas especiales de crear rangos de fechas.\n",
    "\n",
    "Por otro lado, recuerde que Pandas fue creado originalmente para la manipulación de datos financieros, por lo que existe un paquete especifico para obtener este de datos de fuente como, por ejemplo, Yahoo Finance: `pandas-datareader`."
   ]
  },
  {
   "cell_type": "code",
   "execution_count": 100,
   "metadata": {},
   "outputs": [
    {
     "name": "stdout",
     "output_type": "stream",
     "text": [
      "Collecting pandas-datareader\n",
      "  Downloading pandas_datareader-0.10.0-py3-none-any.whl (109 kB)\n",
      "Requirement already satisfied: pandas>=0.23 in c:\\users\\asus\\anaconda3\\lib\\site-packages (from pandas-datareader) (1.3.4)\n",
      "Requirement already satisfied: lxml in c:\\users\\asus\\anaconda3\\lib\\site-packages (from pandas-datareader) (4.6.3)\n",
      "Requirement already satisfied: requests>=2.19.0 in c:\\users\\asus\\anaconda3\\lib\\site-packages (from pandas-datareader) (2.26.0)\n",
      "Requirement already satisfied: pytz>=2017.3 in c:\\users\\asus\\anaconda3\\lib\\site-packages (from pandas>=0.23->pandas-datareader) (2021.3)\n",
      "Requirement already satisfied: python-dateutil>=2.7.3 in c:\\users\\asus\\anaconda3\\lib\\site-packages (from pandas>=0.23->pandas-datareader) (2.8.2)\n",
      "Requirement already satisfied: numpy>=1.17.3 in c:\\users\\asus\\anaconda3\\lib\\site-packages (from pandas>=0.23->pandas-datareader) (1.20.3)\n",
      "Requirement already satisfied: six>=1.5 in c:\\users\\asus\\anaconda3\\lib\\site-packages (from python-dateutil>=2.7.3->pandas>=0.23->pandas-datareader) (1.16.0)\n",
      "Requirement already satisfied: certifi>=2017.4.17 in c:\\users\\asus\\anaconda3\\lib\\site-packages (from requests>=2.19.0->pandas-datareader) (2021.10.8)\n",
      "Requirement already satisfied: idna<4,>=2.5 in c:\\users\\asus\\anaconda3\\lib\\site-packages (from requests>=2.19.0->pandas-datareader) (3.2)\n",
      "Requirement already satisfied: urllib3<1.27,>=1.21.1 in c:\\users\\asus\\anaconda3\\lib\\site-packages (from requests>=2.19.0->pandas-datareader) (1.26.7)\n",
      "Requirement already satisfied: charset-normalizer~=2.0.0 in c:\\users\\asus\\anaconda3\\lib\\site-packages (from requests>=2.19.0->pandas-datareader) (2.0.4)\n",
      "Installing collected packages: pandas-datareader\n",
      "Successfully installed pandas-datareader-0.10.0\n"
     ]
    }
   ],
   "source": [
    "!pip install pandas-datareader"
   ]
  },
  {
   "cell_type": "code",
   "execution_count": 103,
   "metadata": {},
   "outputs": [],
   "source": [
    "import pandas as pd\n",
    "import pandas_datareader.data as pdr\n",
    "from datetime import datetime\n",
    "\n",
    "# Datos en el rango del presente mes (Bitcoin)\n",
    "end = datetime.now()\n",
    "start = datetime(end.year, end.month, 1)\n",
    "\n",
    "BTC = pdr.DataReader('BTC-USD', 'yahoo', start, end)"
   ]
  },
  {
   "cell_type": "code",
   "execution_count": 104,
   "metadata": {},
   "outputs": [
    {
     "data": {
      "text/html": [
       "<div>\n",
       "<style scoped>\n",
       "    .dataframe tbody tr th:only-of-type {\n",
       "        vertical-align: middle;\n",
       "    }\n",
       "\n",
       "    .dataframe tbody tr th {\n",
       "        vertical-align: top;\n",
       "    }\n",
       "\n",
       "    .dataframe thead th {\n",
       "        text-align: right;\n",
       "    }\n",
       "</style>\n",
       "<table border=\"1\" class=\"dataframe\">\n",
       "  <thead>\n",
       "    <tr style=\"text-align: right;\">\n",
       "      <th></th>\n",
       "      <th>High</th>\n",
       "      <th>Low</th>\n",
       "      <th>Open</th>\n",
       "      <th>Close</th>\n",
       "      <th>Volume</th>\n",
       "      <th>Adj Close</th>\n",
       "    </tr>\n",
       "    <tr>\n",
       "      <th>Date</th>\n",
       "      <th></th>\n",
       "      <th></th>\n",
       "      <th></th>\n",
       "      <th></th>\n",
       "      <th></th>\n",
       "      <th></th>\n",
       "    </tr>\n",
       "  </thead>\n",
       "  <tbody>\n",
       "    <tr>\n",
       "      <th>2022-02-01</th>\n",
       "      <td>39115.132812</td>\n",
       "      <td>38113.664062</td>\n",
       "      <td>38481.765625</td>\n",
       "      <td>38743.273438</td>\n",
       "      <td>20288500328</td>\n",
       "      <td>38743.273438</td>\n",
       "    </tr>\n",
       "    <tr>\n",
       "      <th>2022-02-02</th>\n",
       "      <td>38834.617188</td>\n",
       "      <td>36832.730469</td>\n",
       "      <td>38743.714844</td>\n",
       "      <td>36952.984375</td>\n",
       "      <td>19155189416</td>\n",
       "      <td>36952.984375</td>\n",
       "    </tr>\n",
       "    <tr>\n",
       "      <th>2022-02-03</th>\n",
       "      <td>37154.601562</td>\n",
       "      <td>36375.539062</td>\n",
       "      <td>36944.804688</td>\n",
       "      <td>37154.601562</td>\n",
       "      <td>18591534769</td>\n",
       "      <td>37154.601562</td>\n",
       "    </tr>\n",
       "    <tr>\n",
       "      <th>2022-02-04</th>\n",
       "      <td>41527.785156</td>\n",
       "      <td>37093.628906</td>\n",
       "      <td>37149.265625</td>\n",
       "      <td>41500.875000</td>\n",
       "      <td>29412210792</td>\n",
       "      <td>41500.875000</td>\n",
       "    </tr>\n",
       "    <tr>\n",
       "      <th>2022-02-05</th>\n",
       "      <td>41847.164062</td>\n",
       "      <td>41038.097656</td>\n",
       "      <td>41501.480469</td>\n",
       "      <td>41441.164062</td>\n",
       "      <td>19652846215</td>\n",
       "      <td>41441.164062</td>\n",
       "    </tr>\n",
       "    <tr>\n",
       "      <th>2022-02-06</th>\n",
       "      <td>42500.785156</td>\n",
       "      <td>41244.906250</td>\n",
       "      <td>41441.121094</td>\n",
       "      <td>42412.433594</td>\n",
       "      <td>16142097334</td>\n",
       "      <td>42412.433594</td>\n",
       "    </tr>\n",
       "    <tr>\n",
       "      <th>2022-02-07</th>\n",
       "      <td>44401.863281</td>\n",
       "      <td>41748.156250</td>\n",
       "      <td>42406.781250</td>\n",
       "      <td>43840.285156</td>\n",
       "      <td>28641855926</td>\n",
       "      <td>43840.285156</td>\n",
       "    </tr>\n",
       "    <tr>\n",
       "      <th>2022-02-08</th>\n",
       "      <td>45293.867188</td>\n",
       "      <td>42807.835938</td>\n",
       "      <td>43854.652344</td>\n",
       "      <td>44118.445312</td>\n",
       "      <td>33079398868</td>\n",
       "      <td>44118.445312</td>\n",
       "    </tr>\n",
       "    <tr>\n",
       "      <th>2022-02-09</th>\n",
       "      <td>44336.648438</td>\n",
       "      <td>43249.785156</td>\n",
       "      <td>44053.984375</td>\n",
       "      <td>43928.414062</td>\n",
       "      <td>25197019136</td>\n",
       "      <td>43928.414062</td>\n",
       "    </tr>\n",
       "  </tbody>\n",
       "</table>\n",
       "</div>"
      ],
      "text/plain": [
       "                    High           Low          Open         Close  \\\n",
       "Date                                                                 \n",
       "2022-02-01  39115.132812  38113.664062  38481.765625  38743.273438   \n",
       "2022-02-02  38834.617188  36832.730469  38743.714844  36952.984375   \n",
       "2022-02-03  37154.601562  36375.539062  36944.804688  37154.601562   \n",
       "2022-02-04  41527.785156  37093.628906  37149.265625  41500.875000   \n",
       "2022-02-05  41847.164062  41038.097656  41501.480469  41441.164062   \n",
       "2022-02-06  42500.785156  41244.906250  41441.121094  42412.433594   \n",
       "2022-02-07  44401.863281  41748.156250  42406.781250  43840.285156   \n",
       "2022-02-08  45293.867188  42807.835938  43854.652344  44118.445312   \n",
       "2022-02-09  44336.648438  43249.785156  44053.984375  43928.414062   \n",
       "\n",
       "                 Volume     Adj Close  \n",
       "Date                                   \n",
       "2022-02-01  20288500328  38743.273438  \n",
       "2022-02-02  19155189416  36952.984375  \n",
       "2022-02-03  18591534769  37154.601562  \n",
       "2022-02-04  29412210792  41500.875000  \n",
       "2022-02-05  19652846215  41441.164062  \n",
       "2022-02-06  16142097334  42412.433594  \n",
       "2022-02-07  28641855926  43840.285156  \n",
       "2022-02-08  33079398868  44118.445312  \n",
       "2022-02-09  25197019136  43928.414062  "
      ]
     },
     "execution_count": 104,
     "metadata": {},
     "output_type": "execute_result"
    }
   ],
   "source": [
    "BTC"
   ]
  },
  {
   "cell_type": "code",
   "execution_count": 113,
   "metadata": {},
   "outputs": [],
   "source": [
    "# Datos en el rango del presente mes (Apple)\n",
    "end = datetime.now()\n",
    "start = datetime(end.year, end.month, 1)\n",
    "\n",
    "AAPL = pdr.DataReader('AAPL', 'yahoo', start, end)"
   ]
  },
  {
   "cell_type": "code",
   "execution_count": 114,
   "metadata": {},
   "outputs": [
    {
     "data": {
      "text/html": [
       "<div>\n",
       "<style scoped>\n",
       "    .dataframe tbody tr th:only-of-type {\n",
       "        vertical-align: middle;\n",
       "    }\n",
       "\n",
       "    .dataframe tbody tr th {\n",
       "        vertical-align: top;\n",
       "    }\n",
       "\n",
       "    .dataframe thead th {\n",
       "        text-align: right;\n",
       "    }\n",
       "</style>\n",
       "<table border=\"1\" class=\"dataframe\">\n",
       "  <thead>\n",
       "    <tr style=\"text-align: right;\">\n",
       "      <th></th>\n",
       "      <th>High</th>\n",
       "      <th>Low</th>\n",
       "      <th>Open</th>\n",
       "      <th>Close</th>\n",
       "      <th>Volume</th>\n",
       "      <th>Adj Close</th>\n",
       "    </tr>\n",
       "    <tr>\n",
       "      <th>Date</th>\n",
       "      <th></th>\n",
       "      <th></th>\n",
       "      <th></th>\n",
       "      <th></th>\n",
       "      <th></th>\n",
       "      <th></th>\n",
       "    </tr>\n",
       "  </thead>\n",
       "  <tbody>\n",
       "    <tr>\n",
       "      <th>2022-02-01</th>\n",
       "      <td>174.839996</td>\n",
       "      <td>172.309998</td>\n",
       "      <td>174.009995</td>\n",
       "      <td>174.610001</td>\n",
       "      <td>86213900.0</td>\n",
       "      <td>174.387817</td>\n",
       "    </tr>\n",
       "    <tr>\n",
       "      <th>2022-02-02</th>\n",
       "      <td>175.880005</td>\n",
       "      <td>173.330002</td>\n",
       "      <td>174.750000</td>\n",
       "      <td>175.839996</td>\n",
       "      <td>84914300.0</td>\n",
       "      <td>175.616257</td>\n",
       "    </tr>\n",
       "    <tr>\n",
       "      <th>2022-02-03</th>\n",
       "      <td>176.240005</td>\n",
       "      <td>172.119995</td>\n",
       "      <td>174.479996</td>\n",
       "      <td>172.899994</td>\n",
       "      <td>89418100.0</td>\n",
       "      <td>172.679993</td>\n",
       "    </tr>\n",
       "    <tr>\n",
       "      <th>2022-02-04</th>\n",
       "      <td>174.100006</td>\n",
       "      <td>170.679993</td>\n",
       "      <td>171.679993</td>\n",
       "      <td>172.389999</td>\n",
       "      <td>82391400.0</td>\n",
       "      <td>172.389999</td>\n",
       "    </tr>\n",
       "    <tr>\n",
       "      <th>2022-02-07</th>\n",
       "      <td>173.949997</td>\n",
       "      <td>170.949997</td>\n",
       "      <td>172.860001</td>\n",
       "      <td>171.660004</td>\n",
       "      <td>77251200.0</td>\n",
       "      <td>171.660004</td>\n",
       "    </tr>\n",
       "    <tr>\n",
       "      <th>2022-02-08</th>\n",
       "      <td>175.350006</td>\n",
       "      <td>171.429993</td>\n",
       "      <td>171.729996</td>\n",
       "      <td>174.830002</td>\n",
       "      <td>74706900.0</td>\n",
       "      <td>174.830002</td>\n",
       "    </tr>\n",
       "    <tr>\n",
       "      <th>2022-02-09</th>\n",
       "      <td>176.649994</td>\n",
       "      <td>175.080505</td>\n",
       "      <td>176.050003</td>\n",
       "      <td>175.529999</td>\n",
       "      <td>28231524.0</td>\n",
       "      <td>175.529999</td>\n",
       "    </tr>\n",
       "  </tbody>\n",
       "</table>\n",
       "</div>"
      ],
      "text/plain": [
       "                  High         Low        Open       Close      Volume  \\\n",
       "Date                                                                     \n",
       "2022-02-01  174.839996  172.309998  174.009995  174.610001  86213900.0   \n",
       "2022-02-02  175.880005  173.330002  174.750000  175.839996  84914300.0   \n",
       "2022-02-03  176.240005  172.119995  174.479996  172.899994  89418100.0   \n",
       "2022-02-04  174.100006  170.679993  171.679993  172.389999  82391400.0   \n",
       "2022-02-07  173.949997  170.949997  172.860001  171.660004  77251200.0   \n",
       "2022-02-08  175.350006  171.429993  171.729996  174.830002  74706900.0   \n",
       "2022-02-09  176.649994  175.080505  176.050003  175.529999  28231524.0   \n",
       "\n",
       "             Adj Close  \n",
       "Date                    \n",
       "2022-02-01  174.387817  \n",
       "2022-02-02  175.616257  \n",
       "2022-02-03  172.679993  \n",
       "2022-02-04  172.389999  \n",
       "2022-02-07  171.660004  \n",
       "2022-02-08  174.830002  \n",
       "2022-02-09  175.529999  "
      ]
     },
     "execution_count": 114,
     "metadata": {},
     "output_type": "execute_result"
    }
   ],
   "source": [
    "AAPL"
   ]
  }
 ],
 "metadata": {
  "kernelspec": {
   "display_name": "Python 3 (ipykernel)",
   "language": "python",
   "name": "python3"
  },
  "language_info": {
   "codemirror_mode": {
    "name": "ipython",
    "version": 3
   },
   "file_extension": ".py",
   "mimetype": "text/x-python",
   "name": "python",
   "nbconvert_exporter": "python",
   "pygments_lexer": "ipython3",
   "version": "3.9.7"
  }
 },
 "nbformat": 4,
 "nbformat_minor": 4
}
